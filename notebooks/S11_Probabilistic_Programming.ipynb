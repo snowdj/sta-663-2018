{
 "cells": [
  {
   "cell_type": "markdown",
   "metadata": {},
   "source": [
    "# Probabilistic Programming"
   ]
  },
  {
   "cell_type": "code",
   "execution_count": 1,
   "metadata": {},
   "outputs": [],
   "source": [
    "%matplotlib inline\n",
    "import os\n",
    "import matplotlib.pyplot as plt\n",
    "import numpy as np\n",
    "from scipy import stats\n",
    "import daft\n",
    "from IPython.display import Image\n",
    "import pystan\n",
    "import seaborn as sns"
   ]
  },
  {
   "cell_type": "code",
   "execution_count": 2,
   "metadata": {},
   "outputs": [],
   "source": [
    "import warnings\n",
    "warnings.simplefilter(\"ignore\",category=FutureWarning)"
   ]
  },
  {
   "cell_type": "code",
   "execution_count": 3,
   "metadata": {
    "collapsed": true
   },
   "outputs": [],
   "source": [
    "from scipy.optimize import minimize"
   ]
  },
  {
   "cell_type": "markdown",
   "metadata": {},
   "source": [
    "## Domain specific languages (DSL)\n",
    "\n",
    "A simplified computer language for working in a specific domain. Some examples of DSLs that you are already familiar with include\n",
    "\n",
    "- regular expressions for working with text\n",
    "- SQL for working with relational databases\n",
    "- LaTeX for typesetting documents\n",
    "\n",
    "Probabilistic programming languages are DSLs for dealing with models involving random variables and uncertainty. We will introduce the `Stan` probabilistic programming languages in this notebook."
   ]
  },
  {
   "cell_type": "markdown",
   "metadata": {},
   "source": [
    "### Stan and PyStan references\n",
    "\n",
    "- [Paper describing Stan](http://www.stat.columbia.edu/~gelman/research/unpublished/stan-resubmit-JSS1293.pdf)\n",
    "- [Stan documentation](http://mc-stan.org/users/documentation/index.html)\n",
    "- [Stan examples](https://github.com/stan-dev/example-models/wiki)\n",
    "- [PyStan docs](http://pystan.readthedocs.org/en/latest/)\n",
    "- [PyStan GitHub page](https://github.com/stan-dev/pystan)"
   ]
  },
  {
   "cell_type": "markdown",
   "metadata": {},
   "source": [
    "### Other packages for probabilistic programming\n",
    "\n",
    "There several alternative packages for probabilistic programming in Python. You might like to explore them by recreating the PyStan examples shown in this notebooks using the following:\n",
    "\n",
    "- [PyMC3](https://github.com/pymc-devs/pymc3)\n",
    "- [Edward](http://edwardlib.org)\n",
    "- [ZhuSuan](https://github.com/thu-ml/zhusuan)"
   ]
  },
  {
   "cell_type": "markdown",
   "metadata": {},
   "source": [
    "## Examples"
   ]
  },
  {
   "cell_type": "markdown",
   "metadata": {},
   "source": [
    "In  general, the problem is set up like this:\n",
    "    \n",
    "- We have some observed outcomes $y$ that we want to model\n",
    "- The model is formulated as a probability distribution with some parameters $\\theta$ to be estimated \n",
    "- We want to estimate the posterior distribution of the model parameters given the data\n",
    "$$\n",
    "P(\\theta \\mid y) = \\frac{P(y \\mid \\theta) \\, P(\\theta)}{\\int P(y \\mid \\theta^*) \\, P(\\theta^*) \\, d\\theta^*}\n",
    "$$\n",
    "- For formulating a specification using probabilistic programming, it is often useful to think of how we would simulated a draw from the model"
   ]
  },
  {
   "cell_type": "markdown",
   "metadata": {},
   "source": [
    "### Coin bias"
   ]
  },
  {
   "cell_type": "markdown",
   "metadata": {},
   "source": [
    "We toss a coin $n$ times, observed the number of times $y$ it comes up heads, and want to estimate the expected proportion of times $\\theta$ that it comes up heads. An appropriate likelihood is the binomial, and it is convenient to use the $\\beta$ distribution as the prior. In this case, the posterior is also a beta distribution, and there is a simple closed form formula: if the prior is $\\beta(a, b)$ and we observe $y$ heads and $n-y$ tails in $n$ tosses, then the posterior is $\\beta(a+y, a+(n-y)$. "
   ]
  },
  {
   "cell_type": "markdown",
   "metadata": {},
   "source": [
    "#### Graphical model"
   ]
  },
  {
   "cell_type": "code",
   "execution_count": 4,
   "metadata": {},
   "outputs": [],
   "source": [
    "pgm = daft.PGM(shape=[2.5, 3.0], origin=[0, -0.5])\n",
    "\n",
    "pgm.add_node(daft.Node(\"alpha\", r\"$\\alpha$\", 0.5, 2, fixed=True))\n",
    "pgm.add_node(daft.Node(\"beta\", r\"$\\beta$\", 1.5, 2, fixed=True))\n",
    "pgm.add_node(daft.Node(\"p\", r\"$p$\", 1, 1))\n",
    "pgm.add_node(daft.Node(\"n\", r\"$n$\", 2, 0, fixed=True))\n",
    "pgm.add_node(daft.Node(\"y\", r\"$y$\", 1, 0, observed=True))\n",
    "\n",
    "pgm.add_edge(\"alpha\", \"p\")\n",
    "pgm.add_edge(\"beta\", \"p\")\n",
    "pgm.add_edge(\"n\", \"y\")\n",
    "pgm.add_edge(\"p\", \"y\")\n",
    "\n",
    "pgm.render()\n",
    "plt.close()\n",
    "pgm.figure.savefig(\"bias.png\", dpi=300)\n",
    "pass"
   ]
  },
  {
   "cell_type": "code",
   "execution_count": 5,
   "metadata": {},
   "outputs": [
    {
     "data": {
      "image/png": "[encoded data removed]",
      "text/plain": [
       "<IPython.core.display.Image object>"
      ]
     },
     "execution_count": 5,
     "metadata": {
      "image/png": {
       "width": 400
      }
     },
     "output_type": "execute_result"
    }
   ],
   "source": [
    "Image(\"bias.png\", width=400)"
   ]
  },
  {
   "cell_type": "markdown",
   "metadata": {},
   "source": [
    "#### Analytical solution\n",
    "\n",
    "Illustrating what $y$, $\\theta$, posterior, likelihood, prior, MLE and MAP refer to."
   ]
  },
  {
   "cell_type": "code",
   "execution_count": 6,
   "metadata": {},
   "outputs": [
    {
     "data": {
      "image/png": "[encoded data removed]",
      "text/plain": [
       "<Figure size 432x288 with 1 Axes>"
      ]
     },
     "metadata": {},
     "output_type": "display_data"
    }
   ],
   "source": [
    "n = 100\n",
    "h = 61\n",
    "p = h/n\n",
    "rv = stats.binom(n, p)\n",
    "mu = rv.mean()\n",
    "\n",
    "a, b = 10, 10\n",
    "prior = stats.beta(a, b)\n",
    "post = stats.beta(h+a, n-h+b)\n",
    "ci = post.interval(0.95)\n",
    "\n",
    "thetas = np.linspace(0, 1, 200)\n",
    "plt.plot(thetas, prior.pdf(thetas), label='Prior', c='blue')\n",
    "plt.plot(thetas, post.pdf(thetas), label='Posterior', c='red')\n",
    "plt.plot(thetas, n*stats.binom(n, thetas).pmf(h), label='Likelihood', c='green')\n",
    "plt.axvline((h+a-1)/(n+a+b-2), c='red', linestyle='dashed', alpha=0.4, label='MAP')\n",
    "plt.axvline(mu/n, c='green', linestyle='dashed', alpha=0.4, label='MLE')\n",
    "plt.xlabel(r'$\\theta$', fontsize=14)\n",
    "plt.legend(loc='upper left')\n",
    "plt.show()\n",
    "pass"
   ]
  },
  {
   "cell_type": "markdown",
   "metadata": {},
   "source": [
    "## Using `stan`"
   ]
  },
  {
   "cell_type": "markdown",
   "metadata": {},
   "source": [
    "### Coin bias"
   ]
  },
  {
   "cell_type": "markdown",
   "metadata": {},
   "source": [
    "#### Data"
   ]
  },
  {
   "cell_type": "code",
   "execution_count": 7,
   "metadata": {
    "collapsed": true
   },
   "outputs": [],
   "source": [
    "data = {\n",
    "    'n': 100,\n",
    "    'y': 61,\n",
    "}"
   ]
  },
  {
   "cell_type": "markdown",
   "metadata": {},
   "source": [
    "#### Model"
   ]
  },
  {
   "cell_type": "code",
   "execution_count": 8,
   "metadata": {
    "collapsed": true
   },
   "outputs": [],
   "source": [
    "code = \"\"\"\n",
    "data {\n",
    "    int<lower=0> n; // number of tosses\n",
    "    int<lower=0> y; // number of heads\n",
    "}\n",
    "transformed data {}\n",
    "parameters {\n",
    "    real<lower=0, upper=1> p;\n",
    "}\n",
    "transformed parameters {}\n",
    "model {\n",
    "    p ~ beta(2, 2);\n",
    "    y ~ binomial(n, p);\n",
    "}\n",
    "generated quantities {}\n",
    "\"\"\""
   ]
  },
  {
   "cell_type": "markdown",
   "metadata": {},
   "source": [
    "#### Compile the C++ model"
   ]
  },
  {
   "cell_type": "code",
   "execution_count": 9,
   "metadata": {},
   "outputs": [
    {
     "name": "stderr",
     "output_type": "stream",
     "text": [
      "INFO:pystan:COMPILING THE C++ CODE FOR MODEL anon_model_7f1947cd2d39ae427cd7b6bb6e6ffd77 NOW.\n"
     ]
    }
   ],
   "source": [
    "sm = pystan.StanModel(model_code=code)"
   ]
  },
  {
   "cell_type": "code",
   "execution_count": 10,
   "metadata": {
    "scrolled": false
   },
   "outputs": [
    {
     "name": "stdout",
     "output_type": "stream",
     "text": [
      "// Code generated by Stan version 2.17.1\n",
      "\n",
      "#include <stan/model/model_header.hpp>\n",
      "\n",
      "namespace anon_model_7f1947cd2d39ae427cd7b6bb6e6ffd77_namespace {\n",
      "\n",
      "using std::istream;\n",
      "using std::string;\n",
      "using std::stringstream;\n",
      "using std::vector;\n",
      "using stan::io::dump;\n",
      "using stan::math::lgamma;\n",
      "using stan::model::prob_grad;\n",
      "using namespace stan::math;\n",
      "\n",
      "static int current_statement_begin__;\n",
      "\n",
      "stan::io::program_reader prog_reader__() {\n",
      "    stan::io::program_reader reader;\n",
      "    reader.add_event(0, 0, \"start\", \"unknown file name\");\n",
      "    reader.add_event(15, 15, \"end\", \"unknown file name\");\n",
      "    return reader;\n",
      "}\n",
      "\n",
      "class anon_model_7f1947cd2d39ae427cd7b6bb6e6ffd77 : public prob_grad {\n",
      "private:\n",
      "    int n;\n",
      "    int y;\n",
      "public:\n",
      "    anon_model_7f1947cd2d39ae427cd7b6bb6e6ffd77(stan::io::var_context& context__,\n",
      "        std::ostream* pstream__ = 0)\n",
      "        : prob_grad(0) {\n",
      "        ctor_body(context__, 0, pstream__);\n",
      "    }\n",
      "\n",
      "    anon_model_7f1947cd2d39ae427cd7b6bb6e6ffd77(stan::io::var_context& context__,\n",
      "        unsigned int random_seed__,\n",
      "        std::ostream* pstream__ = 0)\n",
      "        : prob_grad(0) {\n",
      "        ctor_body(context__, random_seed__, pstream__);\n",
      "    }\n",
      "\n",
      "    void ctor_body(stan::io::var_context& context__,\n",
      "                   unsigned int random_seed__,\n",
      "                   std::ostream* pstream__) {\n",
      "        typedef double local_scalar_t__;\n",
      "\n",
      "        boost::ecuyer1988 base_rng__ =\n",
      "          stan::services::util::create_rng(random_seed__, 0);\n",
      "        (void) base_rng__;  // suppress unused var warning\n",
      "\n",
      "        current_statement_begin__ = -1;\n",
      "\n",
      "        static const char* function__ = \"anon_model_7f1947cd2d39ae427cd7b6bb6e6ffd77_namespace::anon_model_7f1947cd2d39ae427cd7b6bb6e6ffd77\";\n",
      "        (void) function__;  // dummy to suppress unused var warning\n",
      "        size_t pos__;\n",
      "        (void) pos__;  // dummy to suppress unused var warning\n",
      "        std::vector<int> vals_i__;\n",
      "        std::vector<double> vals_r__;\n",
      "        local_scalar_t__ DUMMY_VAR__(std::numeric_limits<double>::quiet_NaN());\n",
      "        (void) DUMMY_VAR__;  // suppress unused var warning\n",
      "\n",
      "        // initialize member variables\n",
      "        try {\n",
      "            current_statement_begin__ = 3;\n",
      "            context__.validate_dims(\"data initialization\", \"n\", \"int\", context__.to_vec());\n",
      "            n = int(0);\n",
      "            vals_i__ = context__.vals_i(\"n\");\n",
      "            pos__ = 0;\n",
      "            n = vals_i__[pos__++];\n",
      "            current_statement_begin__ = 4;\n",
      "            context__.validate_dims(\"data initialization\", \"y\", \"int\", context__.to_vec());\n",
      "            y = int(0);\n",
      "            vals_i__ = context__.vals_i(\"y\");\n",
      "            pos__ = 0;\n",
      "            y = vals_i__[pos__++];\n",
      "\n",
      "            // validate, data variables\n",
      "            current_statement_begin__ = 3;\n",
      "            check_greater_or_equal(function__,\"n\",n,0);\n",
      "            current_statement_begin__ = 4;\n",
      "            check_greater_or_equal(function__,\"y\",y,0);\n",
      "            // initialize data variables\n",
      "\n",
      "\n",
      "            // validate transformed data\n",
      "\n",
      "            // validate, set parameter ranges\n",
      "            num_params_r__ = 0U;\n",
      "            param_ranges_i__.clear();\n",
      "            current_statement_begin__ = 8;\n",
      "            ++num_params_r__;\n",
      "        } catch (const std::exception& e) {\n",
      "            stan::lang::rethrow_located(e, current_statement_begin__, prog_reader__());\n",
      "            // Next line prevents compiler griping about no return\n",
      "            throw std::runtime_error(\"*** IF YOU SEE THIS, PLEASE REPORT A BUG ***\");\n",
      "        }\n",
      "    }\n",
      "\n",
      "    ~anon_model_7f1947cd2d39ae427cd7b6bb6e6ffd77() { }\n",
      "\n",
      "\n",
      "    void transform_inits(const stan::io::var_context& context__,\n",
      "                         std::vector<int>& params_i__,\n",
      "                         std::vector<double>& params_r__,\n",
      "                         std::ostream* pstream__) const {\n",
      "        stan::io::writer<double> writer__(params_r__,params_i__);\n",
      "        size_t pos__;\n",
      "        (void) pos__; // dummy call to supress warning\n",
      "        std::vector<double> vals_r__;\n",
      "        std::vector<int> vals_i__;\n",
      "\n",
      "        if (!(context__.contains_r(\"p\")))\n",
      "            throw std::runtime_error(\"variable p missing\");\n",
      "        vals_r__ = context__.vals_r(\"p\");\n",
      "        pos__ = 0U;\n",
      "        context__.validate_dims(\"initialization\", \"p\", \"double\", context__.to_vec());\n",
      "        double p(0);\n",
      "        p = vals_r__[pos__++];\n",
      "        try {\n",
      "            writer__.scalar_lub_unconstrain(0,1,p);\n",
      "        } catch (const std::exception& e) { \n",
      "            throw std::runtime_error(std::string(\"Error transforming variable p: \") + e.what());\n",
      "        }\n",
      "\n",
      "        params_r__ = writer__.data_r();\n",
      "        params_i__ = writer__.data_i();\n",
      "    }\n",
      "\n",
      "    void transform_inits(const stan::io::var_context& context,\n",
      "                         Eigen::Matrix<double,Eigen::Dynamic,1>& params_r,\n",
      "                         std::ostream* pstream__) const {\n",
      "      std::vector<double> params_r_vec;\n",
      "      std::vector<int> params_i_vec;\n",
      "      transform_inits(context, params_i_vec, params_r_vec, pstream__);\n",
      "      params_r.resize(params_r_vec.size());\n",
      "      for (int i = 0; i < params_r.size(); ++i)\n",
      "        params_r(i) = params_r_vec[i];\n",
      "    }\n",
      "\n",
      "\n",
      "    template <bool propto__, bool jacobian__, typename T__>\n",
      "    T__ log_prob(vector<T__>& params_r__,\n",
      "                 vector<int>& params_i__,\n",
      "                 std::ostream* pstream__ = 0) const {\n",
      "\n",
      "        typedef T__ local_scalar_t__;\n",
      "\n",
      "        local_scalar_t__ DUMMY_VAR__(std::numeric_limits<double>::quiet_NaN());\n",
      "        (void) DUMMY_VAR__;  // suppress unused var warning\n",
      "\n",
      "        T__ lp__(0.0);\n",
      "        stan::math::accumulator<T__> lp_accum__;\n",
      "\n",
      "        try {\n",
      "            // model parameters\n",
      "            stan::io::reader<local_scalar_t__> in__(params_r__,params_i__);\n",
      "\n",
      "            local_scalar_t__ p;\n",
      "            (void) p;  // dummy to suppress unused var warning\n",
      "            if (jacobian__)\n",
      "                p = in__.scalar_lub_constrain(0,1,lp__);\n",
      "            else\n",
      "                p = in__.scalar_lub_constrain(0,1);\n",
      "\n",
      "\n",
      "            // transformed parameters\n",
      "\n",
      "\n",
      "\n",
      "            // validate transformed parameters\n",
      "\n",
      "            const char* function__ = \"validate transformed params\";\n",
      "            (void) function__;  // dummy to suppress unused var warning\n",
      "\n",
      "            // model body\n",
      "\n",
      "            current_statement_begin__ = 12;\n",
      "            lp_accum__.add(beta_log<propto__>(p, 2, 2));\n",
      "            current_statement_begin__ = 13;\n",
      "            lp_accum__.add(binomial_log<propto__>(y, n, p));\n",
      "\n",
      "        } catch (const std::exception& e) {\n",
      "            stan::lang::rethrow_located(e, current_statement_begin__, prog_reader__());\n",
      "            // Next line prevents compiler griping about no return\n",
      "            throw std::runtime_error(\"*** IF YOU SEE THIS, PLEASE REPORT A BUG ***\");\n",
      "        }\n",
      "\n",
      "        lp_accum__.add(lp__);\n",
      "        return lp_accum__.sum();\n",
      "\n",
      "    } // log_prob()\n",
      "\n",
      "    template <bool propto, bool jacobian, typename T_>\n",
      "    T_ log_prob(Eigen::Matrix<T_,Eigen::Dynamic,1>& params_r,\n",
      "               std::ostream* pstream = 0) const {\n",
      "      std::vector<T_> vec_params_r;\n",
      "      vec_params_r.reserve(params_r.size());\n",
      "      for (int i = 0; i < params_r.size(); ++i)\n",
      "        vec_params_r.push_back(params_r(i));\n",
      "      std::vector<int> vec_params_i;\n",
      "      return log_prob<propto,jacobian,T_>(vec_params_r, vec_params_i, pstream);\n",
      "    }\n",
      "\n",
      "\n",
      "    void get_param_names(std::vector<std::string>& names__) const {\n",
      "        names__.resize(0);\n",
      "        names__.push_back(\"p\");\n",
      "    }\n",
      "\n",
      "\n",
      "    void get_dims(std::vector<std::vector<size_t> >& dimss__) const {\n",
      "        dimss__.resize(0);\n",
      "        std::vector<size_t> dims__;\n",
      "        dims__.resize(0);\n",
      "        dimss__.push_back(dims__);\n",
      "    }\n",
      "\n",
      "    template <typename RNG>\n",
      "    void write_array(RNG& base_rng__,\n",
      "                     std::vector<double>& params_r__,\n",
      "                     std::vector<int>& params_i__,\n",
      "                     std::vector<double>& vars__,\n",
      "                     bool include_tparams__ = true,\n",
      "                     bool include_gqs__ = true,\n",
      "                     std::ostream* pstream__ = 0) const {\n",
      "        typedef double local_scalar_t__;\n",
      "\n",
      "        vars__.resize(0);\n",
      "        stan::io::reader<local_scalar_t__> in__(params_r__,params_i__);\n",
      "        static const char* function__ = \"anon_model_7f1947cd2d39ae427cd7b6bb6e6ffd77_namespace::write_array\";\n",
      "        (void) function__;  // dummy to suppress unused var warning\n",
      "        // read-transform, write parameters\n",
      "        double p = in__.scalar_lub_constrain(0,1);\n",
      "        vars__.push_back(p);\n",
      "\n",
      "        // declare and define transformed parameters\n",
      "        double lp__ = 0.0;\n",
      "        (void) lp__;  // dummy to suppress unused var warning\n",
      "        stan::math::accumulator<double> lp_accum__;\n",
      "\n",
      "        local_scalar_t__ DUMMY_VAR__(std::numeric_limits<double>::quiet_NaN());\n",
      "        (void) DUMMY_VAR__;  // suppress unused var warning\n",
      "\n",
      "        try {\n",
      "\n",
      "\n",
      "\n",
      "            // validate transformed parameters\n",
      "\n",
      "            // write transformed parameters\n",
      "            if (include_tparams__) {\n",
      "            }\n",
      "            if (!include_gqs__) return;\n",
      "            // declare and define generated quantities\n",
      "\n",
      "\n",
      "\n",
      "            // validate generated quantities\n",
      "\n",
      "            // write generated quantities\n",
      "        } catch (const std::exception& e) {\n",
      "            stan::lang::rethrow_located(e, current_statement_begin__, prog_reader__());\n",
      "            // Next line prevents compiler griping about no return\n",
      "            throw std::runtime_error(\"*** IF YOU SEE THIS, PLEASE REPORT A BUG ***\");\n",
      "        }\n",
      "    }\n",
      "\n",
      "    template <typename RNG>\n",
      "    void write_array(RNG& base_rng,\n",
      "                     Eigen::Matrix<double,Eigen::Dynamic,1>& params_r,\n",
      "                     Eigen::Matrix<double,Eigen::Dynamic,1>& vars,\n",
      "                     bool include_tparams = true,\n",
      "                     bool include_gqs = true,\n",
      "                     std::ostream* pstream = 0) const {\n",
      "      std::vector<double> params_r_vec(params_r.size());\n",
      "      for (int i = 0; i < params_r.size(); ++i)\n",
      "        params_r_vec[i] = params_r(i);\n",
      "      std::vector<double> vars_vec;\n",
      "      std::vector<int> params_i_vec;\n",
      "      write_array(base_rng,params_r_vec,params_i_vec,vars_vec,include_tparams,include_gqs,pstream);\n",
      "      vars.resize(vars_vec.size());\n",
      "      for (int i = 0; i < vars.size(); ++i)\n",
      "        vars(i) = vars_vec[i];\n",
      "    }\n",
      "\n",
      "    static std::string model_name() {\n",
      "        return \"anon_model_7f1947cd2d39ae427cd7b6bb6e6ffd77\";\n",
      "    }\n",
      "\n",
      "\n",
      "    void constrained_param_names(std::vector<std::string>& param_names__,\n",
      "                                 bool include_tparams__ = true,\n",
      "                                 bool include_gqs__ = true) const {\n",
      "        std::stringstream param_name_stream__;\n",
      "        param_name_stream__.str(std::string());\n",
      "        param_name_stream__ << \"p\";\n",
      "        param_names__.push_back(param_name_stream__.str());\n",
      "\n",
      "        if (!include_gqs__ && !include_tparams__) return;\n",
      "\n",
      "        if (include_tparams__) {\n",
      "        }\n",
      "\n",
      "\n",
      "        if (!include_gqs__) return;\n",
      "    }\n",
      "\n",
      "\n",
      "    void unconstrained_param_names(std::vector<std::string>& param_names__,\n",
      "                                   bool include_tparams__ = true,\n",
      "                                   bool include_gqs__ = true) const {\n",
      "        std::stringstream param_name_stream__;\n",
      "        param_name_stream__.str(std::string());\n",
      "        param_name_stream__ << \"p\";\n",
      "        param_names__.push_back(param_name_stream__.str());\n",
      "\n",
      "        if (!include_gqs__ && !include_tparams__) return;\n",
      "\n",
      "        if (include_tparams__) {\n",
      "        }\n",
      "\n",
      "\n",
      "        if (!include_gqs__) return;\n",
      "    }\n",
      "\n",
      "}; // model\n",
      "\n",
      "}\n",
      "\n",
      "typedef anon_model_7f1947cd2d39ae427cd7b6bb6e6ffd77_namespace::anon_model_7f1947cd2d39ae427cd7b6bb6e6ffd77 stan_model;\n",
      "\n",
      "\n"
     ]
    }
   ],
   "source": [
    "print(sm.model_cppcode)"
   ]
  },
  {
   "cell_type": "markdown",
   "metadata": {},
   "source": [
    "#### MAP"
   ]
  },
  {
   "cell_type": "code",
   "execution_count": 11,
   "metadata": {},
   "outputs": [],
   "source": [
    "fit_map = sm.optimizing(data=data)"
   ]
  },
  {
   "cell_type": "code",
   "execution_count": 12,
   "metadata": {},
   "outputs": [
    {
     "data": {
      "text/plain": [
       "odict_keys(['p'])"
      ]
     },
     "execution_count": 12,
     "metadata": {},
     "output_type": "execute_result"
    }
   ],
   "source": [
    "fit_map.keys()"
   ]
  },
  {
   "cell_type": "code",
   "execution_count": 13,
   "metadata": {},
   "outputs": [
    {
     "data": {
      "text/plain": [
       "array(0.60784305)"
      ]
     },
     "execution_count": 13,
     "metadata": {},
     "output_type": "execute_result"
    }
   ],
   "source": [
    "fit_map.get('p')"
   ]
  },
  {
   "cell_type": "code",
   "execution_count": 14,
   "metadata": {
    "collapsed": true
   },
   "outputs": [],
   "source": [
    "fit = sm.sampling(data=data, iter=1000, chains=4)"
   ]
  },
  {
   "cell_type": "markdown",
   "metadata": {},
   "source": [
    "Summarizing the MCMC fit"
   ]
  },
  {
   "cell_type": "code",
   "execution_count": 15,
   "metadata": {},
   "outputs": [
    {
     "name": "stdout",
     "output_type": "stream",
     "text": [
      "Inference for Stan model: anon_model_7f1947cd2d39ae427cd7b6bb6e6ffd77.\n",
      "4 chains, each with iter=1000; warmup=500; thin=1; \n",
      "post-warmup draws per chain=500, total post-warmup draws=2000.\n",
      "\n",
      "       mean se_mean     sd   2.5%    25%    50%    75%  97.5%  n_eff   Rhat\n",
      "p      0.61  1.6e-3   0.05   0.51   0.57   0.61   0.64    0.7    865    1.0\n",
      "lp__ -70.25    0.03   0.71 -72.29 -70.42 -69.97  -69.8 -69.74    728    1.0\n",
      "\n",
      "Samples were drawn using NUTS at Wed Mar 21 09:57:17 2018.\n",
      "For each parameter, n_eff is a crude measure of effective sample size,\n",
      "and Rhat is the potential scale reduction factor on split chains (at \n",
      "convergence, Rhat=1).\n"
     ]
    }
   ],
   "source": [
    "print(fit.stansummary())"
   ]
  },
  {
   "cell_type": "markdown",
   "metadata": {},
   "source": [
    "### Interpreting `n_eff` and `Rhat`"
   ]
  },
  {
   "cell_type": "markdown",
   "metadata": {},
   "source": [
    "#### Effective sample size\n",
    "\n",
    "$$\n",
    "\\hat{n}_{eff} = \\frac{mn}{1 + 2 \\sum_{t=1}^T \\hat{\\rho}_t}\n",
    "$$\n",
    "\n",
    "where $m$ is the number of chains, $n$ the number of steps per chain, $T$ the time when the autocorrelation first becomes negative, and $\\hat{\\rho}_t$ the autocorrelation at lag $t$."
   ]
  },
  {
   "cell_type": "markdown",
   "metadata": {},
   "source": [
    "##### Gelman-Rubin $\\widehat{R}$\n",
    "\n",
    "$$\n",
    "\\widehat{R} = \\frac{\\widehat{V}}{W}\n",
    "$$\n",
    "\n",
    "where $W$ is the within-chain variance and $\\widehat{V}$ is the posterior variance estimate for the pooled traces.  Values greater than one indicate that one or more chains have not yet converged.\n",
    "\n",
    "Discrad burn-in steps for each chain. The idea is to see if the starting values of each chain come from the same distribution as the stationary state. \n",
    "\n",
    "- $W$ is the number of chains $m \\times$ the variacne of each individual chain\n",
    "- $B$ is the number of steps $n \\times$ the variance of the chain means\n",
    "- $\\widehat{V}$ is the weigthed average $(1 - \\frac{1}{n})W + \\frac{1}{n}B$\n",
    "\n",
    "The idea is that $\\widehat{V}$ is an unbiased estimator of $W$ if the starting values of each chain come from the same distribution as the stationary state. Hence if $\\widehat{R}$ differs significantly from 1, there is probably no convergence and we need more iterations. This is done for each parameter $\\theta$."
   ]
  },
  {
   "cell_type": "markdown",
   "metadata": {},
   "source": [
    "#### $\\widehat{R}$ is a measure of chain convergence"
   ]
  },
  {
   "cell_type": "code",
   "execution_count": 16,
   "metadata": {},
   "outputs": [
    {
     "name": "stderr",
     "output_type": "stream",
     "text": [
      "WARNING:root:`dtypes` ignored when `permuted` is False.\n"
     ]
    }
   ],
   "source": [
    "ps = fit.extract(None, permuted=False)"
   ]
  },
  {
   "cell_type": "code",
   "execution_count": 17,
   "metadata": {},
   "outputs": [
    {
     "data": {
      "text/plain": [
       "['p']"
      ]
     },
     "execution_count": 17,
     "metadata": {},
     "output_type": "execute_result"
    }
   ],
   "source": [
    "fit.model_pars"
   ]
  },
  {
   "cell_type": "code",
   "execution_count": 18,
   "metadata": {},
   "outputs": [
    {
     "data": {
      "text/plain": [
       "(500, 4, 2)"
      ]
     },
     "execution_count": 18,
     "metadata": {},
     "output_type": "execute_result"
    }
   ],
   "source": [
    "ps.shape"
   ]
  },
  {
   "cell_type": "code",
   "execution_count": 19,
   "metadata": {},
   "outputs": [
    {
     "data": {
      "image/png": "[encoded data removed]",
      "text/plain": [
       "<Figure size 432x288 with 4 Axes>"
      ]
     },
     "metadata": {},
     "output_type": "display_data"
    }
   ],
   "source": [
    "fig, axes = plt.subplots(2,2)\n",
    "for i, ax in enumerate(axes.ravel()):\n",
    "    ax.plot(ps[:, i, 0])\n",
    "    ax.set_title('Chain %d' % (i+1))\n",
    "plt.tight_layout()"
   ]
  },
  {
   "cell_type": "markdown",
   "metadata": {},
   "source": [
    "#### Plotting"
   ]
  },
  {
   "cell_type": "code",
   "execution_count": 20,
   "metadata": {},
   "outputs": [
    {
     "data": {
      "image/png": "[encoded data removed]",
      "text/plain": [
       "<Figure size 432x288 with 2 Axes>"
      ]
     },
     "metadata": {},
     "output_type": "display_data"
    }
   ],
   "source": [
    "fit.plot()\n",
    "pass"
   ]
  },
  {
   "cell_type": "markdown",
   "metadata": {},
   "source": [
    "#### Extracting parameters"
   ]
  },
  {
   "cell_type": "code",
   "execution_count": 21,
   "metadata": {
    "collapsed": true
   },
   "outputs": [],
   "source": [
    "params = fit.extract()"
   ]
  },
  {
   "cell_type": "code",
   "execution_count": 22,
   "metadata": {},
   "outputs": [
    {
     "data": {
      "image/png": "[encoded data removed]",
      "text/plain": [
       "<Figure size 432x288 with 2 Axes>"
      ]
     },
     "metadata": {},
     "output_type": "display_data"
    }
   ],
   "source": [
    "p = params['p']\n",
    "plt.subplot(121)\n",
    "plt.hist(p, 20, alpha=0.5)\n",
    "plt.subplot(122)\n",
    "plt.plot(p, alpha=0.5)\n",
    "pass"
   ]
  },
  {
   "cell_type": "markdown",
   "metadata": {},
   "source": [
    "### Coin toss as Bernoulli model"
   ]
  },
  {
   "cell_type": "code",
   "execution_count": 23,
   "metadata": {},
   "outputs": [
    {
     "name": "stdout",
     "output_type": "stream",
     "text": [
      "Overwriting bernoulli_model.stan\n"
     ]
    }
   ],
   "source": [
    "%%file bernoulli_model.stan\n",
    "\n",
    "data { \n",
    "  int<lower=0> N; \n",
    "  int<lower=0,upper=1> y[N];\n",
    "} \n",
    "\n",
    "parameters {\n",
    "  real<lower=0,upper=1> theta;\n",
    "} \n",
    "\n",
    "model {\n",
    "  theta ~ beta(1,1);\n",
    "  for (n in 1:N) \n",
    "    y[n] ~ bernoulli(theta);\n",
    "}"
   ]
  },
  {
   "cell_type": "code",
   "execution_count": 24,
   "metadata": {},
   "outputs": [],
   "source": [
    "y = np.random.choice([0,1], 100, p=[0.6, 0.4])\n",
    "data = {\n",
    "    'N': len(y),\n",
    "    'y': y\n",
    "}"
   ]
  },
  {
   "cell_type": "code",
   "execution_count": 25,
   "metadata": {},
   "outputs": [
    {
     "name": "stderr",
     "output_type": "stream",
     "text": [
      "INFO:pystan:COMPILING THE C++ CODE FOR MODEL anon_model_fb711f588d2bebfe1cfbb8d68ae0845e NOW.\n"
     ]
    }
   ],
   "source": [
    "sm = pystan.StanModel('bernoulli_model.stan')"
   ]
  },
  {
   "cell_type": "code",
   "execution_count": 26,
   "metadata": {},
   "outputs": [],
   "source": [
    "fit = sm.sampling(data=data, iter=1000, chains=4)"
   ]
  },
  {
   "cell_type": "code",
   "execution_count": 27,
   "metadata": {},
   "outputs": [
    {
     "data": {
      "text/plain": [
       "Inference for Stan model: anon_model_fb711f588d2bebfe1cfbb8d68ae0845e.\n",
       "4 chains, each with iter=1000; warmup=500; thin=1; \n",
       "post-warmup draws per chain=500, total post-warmup draws=2000.\n",
       "\n",
       "        mean se_mean     sd   2.5%    25%    50%    75%  97.5%  n_eff   Rhat\n",
       "theta   0.33  1.7e-3   0.05   0.24    0.3   0.33   0.36   0.43    756   1.01\n",
       "lp__  -65.46    0.03    0.8 -67.62 -65.65 -65.17 -64.98 -64.92    956    1.0\n",
       "\n",
       "Samples were drawn using NUTS at Wed Mar 21 09:58:26 2018.\n",
       "For each parameter, n_eff is a crude measure of effective sample size,\n",
       "and Rhat is the potential scale reduction factor on split chains (at \n",
       "convergence, Rhat=1)."
      ]
     },
     "execution_count": 27,
     "metadata": {},
     "output_type": "execute_result"
    }
   ],
   "source": [
    "fit"
   ]
  },
  {
   "cell_type": "code",
   "execution_count": 28,
   "metadata": {},
   "outputs": [
    {
     "data": {
      "image/png": "[encoded data removed]",
      "text/plain": [
       "<Figure size 432x288 with 2 Axes>"
      ]
     },
     "metadata": {},
     "output_type": "display_data"
    }
   ],
   "source": [
    "fit.plot()\n",
    "pass"
   ]
  },
  {
   "cell_type": "markdown",
   "metadata": {},
   "source": [
    "#### MAP"
   ]
  },
  {
   "cell_type": "code",
   "execution_count": 29,
   "metadata": {
    "collapsed": true
   },
   "outputs": [],
   "source": [
    "opt = sm.optimizing(data)"
   ]
  },
  {
   "cell_type": "code",
   "execution_count": 30,
   "metadata": {},
   "outputs": [
    {
     "data": {
      "text/plain": [
       "OrderedDict([('theta', array(0.33000006))])"
      ]
     },
     "execution_count": 30,
     "metadata": {},
     "output_type": "execute_result"
    }
   ],
   "source": [
    "opt"
   ]
  },
  {
   "cell_type": "markdown",
   "metadata": {},
   "source": [
    "The MAP maximizes the log probability of the model."
   ]
  },
  {
   "cell_type": "code",
   "execution_count": 31,
   "metadata": {},
   "outputs": [
    {
     "name": "stderr",
     "output_type": "stream",
     "text": [
      "/usr/local/lib/python3.6/site-packages/ipykernel_launcher.py:2: RuntimeWarning: divide by zero encountered in log\n",
      "  \n"
     ]
    },
    {
     "data": {
      "image/png": "[encoded data removed]",
      "text/plain": [
       "<Figure size 432x288 with 1 Axes>"
      ]
     },
     "metadata": {},
     "output_type": "display_data"
    }
   ],
   "source": [
    "xi = np.linspace(0, 1, 100)\n",
    "plt.plot(xi, [fit.log_prob(np.log(x) - np.log(1-x)) for x in xi])\n",
    "pass"
   ]
  },
  {
   "cell_type": "markdown",
   "metadata": {},
   "source": [
    "Stan automatically transforms variables so as to work with unconstrained optimization. Knowing this, we can try to replicate the optimization procedure."
   ]
  },
  {
   "cell_type": "code",
   "execution_count": 32,
   "metadata": {
    "collapsed": true
   },
   "outputs": [],
   "source": [
    "p0 = 0.1\n",
    "x0 = np.log(p0) - np.log(1 - p0)\n",
    "sol = minimize(fun=lambda x: -fit.log_prob(x), x0=x0)"
   ]
  },
  {
   "cell_type": "code",
   "execution_count": 33,
   "metadata": {},
   "outputs": [
    {
     "data": {
      "text/plain": [
       "      fun: 64.92444516607115\n",
       " hess_inv: array([[0.04413613]])\n",
       "      jac: array([-5.7220459e-06])\n",
       "  message: 'Optimization terminated successfully.'\n",
       "     nfev: 21\n",
       "      nit: 6\n",
       "     njev: 7\n",
       "   status: 0\n",
       "  success: True\n",
       "        x: array([-0.69314706])"
      ]
     },
     "execution_count": 33,
     "metadata": {},
     "output_type": "execute_result"
    }
   ],
   "source": [
    "sol"
   ]
  },
  {
   "cell_type": "code",
   "execution_count": 34,
   "metadata": {},
   "outputs": [
    {
     "data": {
      "text/plain": [
       "array([0.33333336])"
      ]
     },
     "execution_count": 34,
     "metadata": {},
     "output_type": "execute_result"
    }
   ],
   "source": [
    "np.exp(sol.x)/(1 + np.exp(sol.x))"
   ]
  },
  {
   "cell_type": "markdown",
   "metadata": {},
   "source": [
    "### Linear regression\n",
    "\n",
    "Another simple example of a probabilistic model is linear regression\n",
    "\n",
    "$$\n",
    "y = ax + b + \\epsilon\n",
    "$$\n",
    "\n",
    "with $\\epsilon \\sim N(0, \\sigma^2)$.\n",
    "\n",
    "We can think of the simulation model as sampling $y$ from the probability distribution \n",
    "\n",
    "$$\n",
    "y \\sim N(ax + b, \\sigma^2)\n",
    "$$\n",
    "\n",
    "and the parameter $\\theta = (a, b, \\sigma)$ is to be estimated (as posterior probability, MLE or MAP). To complete the model, we need to specify prior distributions for $a$, $b$ and $\\sigma$. For example, if the observations $y$ are standardized to have zero mean and unit standard distribution, we can use\n",
    "\n",
    "$$\n",
    "a \\sim N(0, 10) \\\\\n",
    "b \\sim N(0, 10) \\\\\n",
    "\\sigma \\sim \\vert{N(0, 1)}\n",
    "$$\n",
    "\n",
    "To get a more robust fit that is less sensitive to outliers, we can use a student-T distribution for $y$\n",
    "\n",
    "$$\n",
    "y \\sim t(ax + b, \\sigma^2, \\nu)\n",
    "$$\n",
    "\n",
    "with an extra parameter $\\nu$ for the degrees of freedom for which we also need to specify a prior."
   ]
  },
  {
   "cell_type": "code",
   "execution_count": 35,
   "metadata": {},
   "outputs": [],
   "source": [
    "# Instantiate the PGM.\n",
    "pgm = daft.PGM(shape=[4.0, 3.0], origin=[-0.3, -0.7])\n",
    "\n",
    "# Hierarchical parameters.\n",
    "pgm.add_node(daft.Node(\"alpha\", r\"$\\alpha$\", 0.5, 2))\n",
    "pgm.add_node(daft.Node(\"beta\", r\"$\\beta$\", 1.5, 2))\n",
    "pgm.add_node(daft.Node(\"sigma\", r\"$\\sigma$\", 0, 0))\n",
    "\n",
    "# Deterministic variable.\n",
    "pgm.add_node(daft.Node(\"mu\", r\"$\\mu_n$\", 1, 1))\n",
    "\n",
    "# Data.\n",
    "pgm.add_node(daft.Node(\"x\", r\"$x_n$\", 2, 1, observed=True))\n",
    "pgm.add_node(daft.Node(\"y\", r\"$y_n$\", 1, 0, observed=True))\n",
    "\n",
    "# Add in the edges.\n",
    "pgm.add_edge(\"alpha\", \"mu\")\n",
    "pgm.add_edge(\"beta\", \"mu\")\n",
    "pgm.add_edge(\"x\", \"mu\")\n",
    "pgm.add_edge(\"mu\", \"y\")\n",
    "pgm.add_edge(\"sigma\", \"y\")\n",
    "\n",
    "# And a plate.\n",
    "pgm.add_plate(daft.Plate([0.5, -0.5, 2, 2], label=r\"$n = 1, \\cdots, N$\",\n",
    "    shift=-0.1, rect_params={'color': 'white'}))\n",
    "\n",
    "# Render and save.\n",
    "pgm.render()\n",
    "plt.close()\n",
    "pgm.figure.savefig(\"lm.png\", dpi=300)"
   ]
  },
  {
   "cell_type": "code",
   "execution_count": 36,
   "metadata": {},
   "outputs": [
    {
     "data": {
      "image/png": "[encoded data removed]",
      "text/plain": [
       "<IPython.core.display.Image object>"
      ]
     },
     "execution_count": 36,
     "metadata": {
      "image/png": {
       "width": 400
      }
     },
     "output_type": "execute_result"
    }
   ],
   "source": [
    "Image(filename=\"lm.png\", width=400)"
   ]
  },
  {
   "cell_type": "markdown",
   "metadata": {},
   "source": [
    "### Linear model"
   ]
  },
  {
   "cell_type": "code",
   "execution_count": 38,
   "metadata": {},
   "outputs": [
    {
     "name": "stdout",
     "output_type": "stream",
     "text": [
      "Overwriting linear.stan\n"
     ]
    }
   ],
   "source": [
    "%%file linear.stan\n",
    "\n",
    "data {\n",
    "    int<lower=0> N;\n",
    "    real x[N];\n",
    "    real y[N];\n",
    "}\n",
    "\n",
    "parameters {\n",
    "    real alpha;\n",
    "    real beta;\n",
    "    real<lower=0> sigma; // half-normal distribution\n",
    "}\n",
    "\n",
    "transformed parameters {\n",
    "    real mu[N];\n",
    "    for (i in 1:N) {\n",
    "        mu[i] = alpha + beta*x[i];\n",
    "    }\n",
    "}\n",
    "\n",
    "model {\n",
    "    alpha ~ normal(0, 10);\n",
    "    beta ~ normal(0, 1);\n",
    "    sigma ~ normal(0, 1);\n",
    "    y ~ normal(mu, sigma);\n",
    "}"
   ]
  },
  {
   "cell_type": "code",
   "execution_count": 39,
   "metadata": {
    "collapsed": true
   },
   "outputs": [],
   "source": [
    "n = 11\n",
    "_a = 6\n",
    "_b = 2\n",
    "x = np.linspace(0, 1, n)\n",
    "y = _a + _b*x + np.random.randn(n)\n",
    "\n",
    "data = {\n",
    "    'N': n,\n",
    "    'x': x,\n",
    "    'y': y\n",
    "}"
   ]
  },
  {
   "cell_type": "markdown",
   "metadata": {},
   "source": [
    "#### Saving and reloading compiled models\n",
    "\n",
    "Since Stan models take a while to compile, we will define two convenience functions to save and load them. For example, this will allow reuse of the mode in a different session or notebook without recompilation."
   ]
  },
  {
   "cell_type": "code",
   "execution_count": 40,
   "metadata": {
    "collapsed": true
   },
   "outputs": [],
   "source": [
    "import pickle\n",
    "\n",
    "def save(filename, x):\n",
    "    with open(filename, 'wb') as f:\n",
    "        pickle.dump(x, f, protocol=pickle.HIGHEST_PROTOCOL)\n",
    "        \n",
    "def load(filename):\n",
    "    with open(filename, 'rb') as f:\n",
    "        return pickle.load(f)"
   ]
  },
  {
   "cell_type": "code",
   "execution_count": 41,
   "metadata": {},
   "outputs": [],
   "source": [
    "model_name = 'linear'\n",
    "filename = '%s.pkl' % model_name\n",
    "if not os.path.exists(filename):\n",
    "    sm = pystan.StanModel('%s.stan' % model_name)\n",
    "    save(filename, sm)\n",
    "else:\n",
    "    sm = load(filename)"
   ]
  },
  {
   "cell_type": "markdown",
   "metadata": {},
   "source": [
    "We can inspect the original model from the loaded compiled version."
   ]
  },
  {
   "cell_type": "code",
   "execution_count": 42,
   "metadata": {},
   "outputs": [
    {
     "name": "stdout",
     "output_type": "stream",
     "text": [
      "\n",
      "data {\n",
      "    int<lower=0> N;\n",
      "    real x[N];\n",
      "    real y[N];\n",
      "}\n",
      "\n",
      "parameters {\n",
      "    real alpha;\n",
      "    real beta;\n",
      "    real<lower=0> sigma;\n",
      "}\n",
      "\n",
      "transformed parameters {\n",
      "    real mu[N];\n",
      "    for (i in 1:N) {\n",
      "        mu[i] = alpha*x[i] + beta;\n",
      "    }\n",
      "}\n",
      "\n",
      "model {\n",
      "    alpha ~ normal(0, 10);\n",
      "    beta ~ normal(0, 1);\n",
      "    sigma ~ normal(0, 1);\n",
      "    y ~ normal(mu, sigma);\n",
      "}\n"
     ]
    }
   ],
   "source": [
    "print(sm.model_code)"
   ]
  },
  {
   "cell_type": "code",
   "execution_count": 43,
   "metadata": {},
   "outputs": [],
   "source": [
    "fit = sm.sampling(data)"
   ]
  },
  {
   "cell_type": "code",
   "execution_count": 44,
   "metadata": {},
   "outputs": [
    {
     "data": {
      "text/plain": [
       "Inference for Stan model: anon_model_3e02a2e67db7786f6ac294d214bdf9b6.\n",
       "4 chains, each with iter=2000; warmup=1000; thin=1; \n",
       "post-warmup draws per chain=1000, total post-warmup draws=4000.\n",
       "\n",
       "         mean se_mean     sd   2.5%    25%    50%    75%  97.5%  n_eff   Rhat\n",
       "alpha    6.33    0.06   1.79    3.2   5.03    6.2   7.51   10.1    945    1.0\n",
       "beta     3.21    0.04   1.06   1.05   2.47   3.24   3.99   5.15    868    1.0\n",
       "sigma    1.82    0.02   0.49   0.99   1.46   1.77   2.14   2.85   1027    1.0\n",
       "mu[0]    3.21    0.04   1.06   1.05   2.47   3.24   3.99   5.15    868    1.0\n",
       "mu[1]    3.84    0.03   0.92   1.97   3.21   3.87   4.51   5.53    905    1.0\n",
       "mu[2]    4.48    0.03   0.79   2.87   3.94    4.5   5.05   5.91    987    1.0\n",
       "mu[3]    5.11    0.02   0.68   3.71   4.66   5.13    5.6   6.33   1174    1.0\n",
       "mu[4]    5.74    0.02   0.61   4.44   5.35   5.78   6.18   6.79   1633    1.0\n",
       "mu[5]    6.37    0.01   0.58    5.1   6.01   6.42   6.78   7.36   2613    1.0\n",
       "mu[6]    7.01  9.6e-3   0.61   5.71   6.63   7.04   7.41    8.1   4000    1.0\n",
       "mu[7]    7.64    0.01   0.69   6.25    7.2   7.66   8.08   8.98   3403    1.0\n",
       "mu[8]    8.27    0.02   0.79   6.73   7.77   8.26   8.76    9.9   2687    1.0\n",
       "mu[9]    8.91    0.02   0.93   7.18    8.3   8.86   9.46  10.84   2126    1.0\n",
       "mu[10]   9.54    0.03   1.07   7.58   8.83   9.47  10.19  11.79   1797    1.0\n",
       "lp__   -20.08    0.03   1.27 -23.37 -20.61 -19.75 -19.17 -18.62   1439    1.0\n",
       "\n",
       "Samples were drawn using NUTS at Wed Mar 21 09:58:27 2018.\n",
       "For each parameter, n_eff is a crude measure of effective sample size,\n",
       "and Rhat is the potential scale reduction factor on split chains (at \n",
       "convergence, Rhat=1)."
      ]
     },
     "execution_count": 44,
     "metadata": {},
     "output_type": "execute_result"
    }
   ],
   "source": [
    "fit"
   ]
  },
  {
   "cell_type": "markdown",
   "metadata": {},
   "source": [
    "#### Re-using the model on a new data set"
   ]
  },
  {
   "cell_type": "code",
   "execution_count": 45,
   "metadata": {
    "collapsed": true
   },
   "outputs": [],
   "source": [
    "n = 121\n",
    "_a = 2\n",
    "_b = 1\n",
    "x = np.linspace(0, 1, n)\n",
    "y = _a*x + _b + np.random.randn(n)\n",
    "\n",
    "data = {\n",
    "    'N': n,\n",
    "    'x': x,\n",
    "    'y': y\n",
    "}"
   ]
  },
  {
   "cell_type": "code",
   "execution_count": 46,
   "metadata": {},
   "outputs": [],
   "source": [
    "fit2 = sm.sampling(data)"
   ]
  },
  {
   "cell_type": "code",
   "execution_count": 47,
   "metadata": {
    "scrolled": false
   },
   "outputs": [
    {
     "name": "stdout",
     "output_type": "stream",
     "text": [
      "Inference for Stan model: anon_model_3e02a2e67db7786f6ac294d214bdf9b6.\n",
      "4 chains, each with iter=2000; warmup=1000; thin=1; \n",
      "post-warmup draws per chain=1000, total post-warmup draws=4000.\n",
      "\n",
      "        mean se_mean     sd   2.5%    25%    50%    75%  97.5%  n_eff   Rhat\n",
      "alpha   1.18  7.7e-3    0.3   0.59   0.98   1.18   1.38   1.77   1501    1.0\n",
      "beta    1.29  4.2e-3   0.17   0.96   1.17   1.29   1.41   1.63   1661    1.0\n",
      "sigma   0.98  1.4e-3   0.06   0.87   0.94   0.98   1.02    1.1   1870    1.0\n",
      "\n",
      "Samples were drawn using NUTS at Wed Mar 21 09:58:28 2018.\n",
      "For each parameter, n_eff is a crude measure of effective sample size,\n",
      "and Rhat is the potential scale reduction factor on split chains (at \n",
      "convergence, Rhat=1).\n"
     ]
    }
   ],
   "source": [
    "print(fit2.stansummary(pars=['alpha', 'beta', 'sigma']))"
   ]
  },
  {
   "cell_type": "markdown",
   "metadata": {},
   "source": [
    "### Hierarchical models"
   ]
  },
  {
   "cell_type": "markdown",
   "metadata": {},
   "source": [
    "Gelman's book has an example where the dose of a drug may be affected to the number of rat deaths in an experiment.\n",
    "\n",
    "| Dose (log g/ml) | # Rats | # Deaths |\n",
    "|-----------------|--------|----------|\n",
    "| -0.896          | 5      | 0        |\n",
    "| -0.296          | 5      | 1        |\n",
    "| -0.053          | 5      | 3        |\n",
    "| 0.727           | 5      | 5        |\n",
    "\n",
    "We will model the number of deaths as a random sample from a binomial distribution, where $n$ is the number of rats and $p$ the probability of a rat dying. We are given $n = 5$, but we believe that $p$ may be related to the drug dose $x$. As $x$ increases the number of rats dying seems to increase, and since $p$ is a probability, we use the following model:\n",
    "\n",
    "$$\n",
    "y \\sim \\text{Bin}(n, p) \\\\\n",
    "\\text{logit}(p) = \\alpha + \\beta x \\\\\n",
    "\\alpha \\sim \\mathcal{N}(0, 5) \\\\\n",
    "\\beta \\sim \\mathcal{N}(0, 10)\n",
    "$$\n",
    "\n",
    "where we set vague priors for $\\alpha$ and $\\beta$, the parameters for the logistic model."
   ]
  },
  {
   "cell_type": "markdown",
   "metadata": {},
   "source": [
    "**Exercise**: Create the plate diagram for this model using `daft`."
   ]
  },
  {
   "cell_type": "markdown",
   "metadata": {},
   "source": [
    "### Hierarchical model in Stan"
   ]
  },
  {
   "cell_type": "code",
   "execution_count": 48,
   "metadata": {
    "collapsed": true
   },
   "outputs": [],
   "source": [
    "data = dict(\n",
    "    N = 4,\n",
    "    x = [-0.896, -0.296, -0.053, 0.727],\n",
    "    y = [0, 1, 3, 5],\n",
    "    n = [5, 5, 5, 5],\n",
    ")"
   ]
  },
  {
   "cell_type": "code",
   "execution_count": 49,
   "metadata": {},
   "outputs": [
    {
     "name": "stdout",
     "output_type": "stream",
     "text": [
      "Overwriting dose.stan\n"
     ]
    }
   ],
   "source": [
    "%%file dose.stan\n",
    "\n",
    "data {\n",
    "    int<lower=0> N;\n",
    "    int<lower=0> n[N];\n",
    "    real x[N];\n",
    "    int<lower=0> y[N];\n",
    "}\n",
    "\n",
    "parameters {\n",
    "    real alpha;\n",
    "    real beta;\n",
    "}\n",
    "\n",
    "transformed parameters {\n",
    "    real <lower=0, upper=1> p[N];\n",
    "    for (i in 1:N) {\n",
    "        p[i] = inv_logit(alpha + beta*x[i]);\n",
    "    }\n",
    "}\n",
    "\n",
    "model {\n",
    "    alpha ~ normal(0, 5);\n",
    "    beta ~ normal(0, 10);\n",
    "    for (i in 1:N) {\n",
    "        y ~ binomial(n, p);\n",
    "    }\n",
    "}"
   ]
  },
  {
   "cell_type": "code",
   "execution_count": 50,
   "metadata": {},
   "outputs": [
    {
     "name": "stderr",
     "output_type": "stream",
     "text": [
      "INFO:pystan:COMPILING THE C++ CODE FOR MODEL anon_model_40004ac135c74450331b836ef8235826 NOW.\n"
     ]
    }
   ],
   "source": [
    "model_name = 'dose'\n",
    "filename = '%s.pkl' % model_name\n",
    "if not os.path.exists(filename):\n",
    "    sm = pystan.StanModel('%s.stan' % model_name)\n",
    "    save(filename, sm)\n",
    "else:\n",
    "    sm = load(filename)"
   ]
  },
  {
   "cell_type": "code",
   "execution_count": 51,
   "metadata": {},
   "outputs": [
    {
     "data": {
      "text/plain": [
       "Inference for Stan model: anon_model_40004ac135c74450331b836ef8235826.\n",
       "4 chains, each with iter=2000; warmup=1000; thin=1; \n",
       "post-warmup draws per chain=1000, total post-warmup draws=4000.\n",
       "\n",
       "        mean se_mean     sd   2.5%    25%    50%    75%  97.5%  n_eff   Rhat\n",
       "alpha   0.91    0.02   0.51  -0.01   0.56    0.9   1.25    2.0   1082    1.0\n",
       "beta    8.29    0.07   2.32   4.49   6.58   8.04   9.76  13.32   1053    1.0\n",
       "p[0]  4.6e-3  1.8e-4 7.6e-3 2.9e-5 4.9e-4 1.8e-3 5.4e-3   0.03   1889    1.0\n",
       "p[1]    0.19  1.3e-3   0.07   0.07   0.14   0.18   0.23   0.34   3090    1.0\n",
       "p[2]    0.61  2.8e-3    0.1   0.42   0.54   0.61   0.68    0.8   1290    1.0\n",
       "p[3]     1.0  2.6e-4 9.5e-3   0.97    1.0    1.0    1.0    1.0   1321    1.0\n",
       "lp__  -24.89    0.03    1.0 -27.51 -25.31 -24.59 -24.16 -23.88   1251    1.0\n",
       "\n",
       "Samples were drawn using NUTS at Wed Mar 21 09:59:36 2018.\n",
       "For each parameter, n_eff is a crude measure of effective sample size,\n",
       "and Rhat is the potential scale reduction factor on split chains (at \n",
       "convergence, Rhat=1)."
      ]
     },
     "execution_count": 51,
     "metadata": {},
     "output_type": "execute_result"
    }
   ],
   "source": [
    "fit = sm.sampling(data=data)\n",
    "fit"
   ]
  },
  {
   "cell_type": "code",
   "execution_count": 52,
   "metadata": {},
   "outputs": [],
   "source": [
    "alpha, beta, *probs = fit.get_posterior_mean()\n",
    "a = alpha.mean()\n",
    "b = beta.mean()"
   ]
  },
  {
   "cell_type": "markdown",
   "metadata": {},
   "source": [
    "#### Logistic function\n",
    "\n",
    "$$\n",
    "f(x) = \\frac{e^z}{1 + e^z}\n",
    "$$"
   ]
  },
  {
   "cell_type": "code",
   "execution_count": 53,
   "metadata": {
    "collapsed": true
   },
   "outputs": [],
   "source": [
    "def logistic(a, b, x):\n",
    "    \"\"\"Logistic function.\"\"\"\n",
    "    return np.exp(a + b*x)/(1 + np.exp(a + b*x))"
   ]
  },
  {
   "cell_type": "code",
   "execution_count": 54,
   "metadata": {},
   "outputs": [
    {
     "data": {
      "image/png": "[encoded data removed]",
      "text/plain": [
       "<Figure size 432x288 with 1 Axes>"
      ]
     },
     "metadata": {},
     "output_type": "display_data"
    }
   ],
   "source": [
    "xi =  np.linspace(min(data['x']), max(data['x']), 100)\n",
    "plt.plot(xi, logistic(a, b, xi))\n",
    "plt.scatter(data['x'], [y_/n_ for (y_, n_) in zip(data['y'], data['n'])], c='red')\n",
    "pass"
   ]
  },
  {
   "cell_type": "markdown",
   "metadata": {},
   "source": [
    "#### Sampling from prior"
   ]
  },
  {
   "cell_type": "code",
   "execution_count": 55,
   "metadata": {},
   "outputs": [
    {
     "name": "stdout",
     "output_type": "stream",
     "text": [
      "Overwriting dose_prior.stan\n"
     ]
    }
   ],
   "source": [
    "%%file dose_prior.stan\n",
    "\n",
    "data {\n",
    "    int<lower=0> N;\n",
    "    int<lower=0> n[N];\n",
    "    real x[N];\n",
    "}\n",
    "\n",
    "parameters {\n",
    "    real alpha;\n",
    "    real beta;\n",
    "}\n",
    "\n",
    "transformed parameters {\n",
    "    real <lower=0, upper=1> p[N];\n",
    "    for (i in 1:N) {\n",
    "        p[i] = inv_logit(alpha + beta*x[i]);\n",
    "    }\n",
    "}\n",
    "\n",
    "model {\n",
    "    alpha ~ normal(0, 5);\n",
    "    beta ~ normal(0, 10);\n",
    "}"
   ]
  },
  {
   "cell_type": "code",
   "execution_count": 56,
   "metadata": {},
   "outputs": [
    {
     "name": "stderr",
     "output_type": "stream",
     "text": [
      "INFO:pystan:COMPILING THE C++ CODE FOR MODEL anon_model_19656edfaafe00f17bef18a5ebf7150a NOW.\n"
     ]
    }
   ],
   "source": [
    "sm = pystan.StanModel('dose_prior.stan')"
   ]
  },
  {
   "cell_type": "code",
   "execution_count": 57,
   "metadata": {
    "collapsed": true
   },
   "outputs": [],
   "source": [
    "fit_prior = sm.sampling(data=data)"
   ]
  },
  {
   "cell_type": "code",
   "execution_count": 58,
   "metadata": {
    "collapsed": true
   },
   "outputs": [],
   "source": [
    "alpha, beta, *probs, lp = fit_prior.get_posterior_mean()\n",
    "a = alpha.mean()\n",
    "b = beta.mean()\n",
    "p = [prob.mean() for prob in probs]"
   ]
  },
  {
   "cell_type": "code",
   "execution_count": 59,
   "metadata": {},
   "outputs": [
    {
     "data": {
      "text/plain": [
       "[0.49204373896207554,\n",
       " 0.5049607712489612,\n",
       " 0.5091310988390625,\n",
       " 0.5087831209942868]"
      ]
     },
     "execution_count": 59,
     "metadata": {},
     "output_type": "execute_result"
    }
   ],
   "source": [
    "p"
   ]
  },
  {
   "cell_type": "code",
   "execution_count": 60,
   "metadata": {},
   "outputs": [],
   "source": [
    "y = np.random.binomial(5, p)"
   ]
  },
  {
   "cell_type": "code",
   "execution_count": 61,
   "metadata": {},
   "outputs": [
    {
     "data": {
      "text/plain": [
       "array([3, 3, 2, 3])"
      ]
     },
     "execution_count": 61,
     "metadata": {},
     "output_type": "execute_result"
    }
   ],
   "source": [
    "y"
   ]
  },
  {
   "cell_type": "code",
   "execution_count": 62,
   "metadata": {},
   "outputs": [
    {
     "data": {
      "image/png": "[encoded data removed]",
      "text/plain": [
       "<Figure size 432x288 with 1 Axes>"
      ]
     },
     "metadata": {},
     "output_type": "display_data"
    }
   ],
   "source": [
    "xi =  np.linspace(min(data['x']), max(data['x']), 100)\n",
    "plt.plot(xi, logistic(a, b, xi))\n",
    "plt.scatter(data['x'], [y_/n_ for (y_, n_) in zip(y, data['n'])], c='red')\n",
    "pass"
   ]
  },
  {
   "cell_type": "markdown",
   "metadata": {},
   "source": [
    "#### Sampling from posterior"
   ]
  },
  {
   "cell_type": "code",
   "execution_count": 63,
   "metadata": {},
   "outputs": [
    {
     "name": "stdout",
     "output_type": "stream",
     "text": [
      "Overwriting dose_post.stan\n"
     ]
    }
   ],
   "source": [
    "%%file dose_post.stan\n",
    "\n",
    "data {\n",
    "    int<lower=0> N;\n",
    "    int<lower=0> n[N];\n",
    "    real x[N];\n",
    "    int<lower=0> y[N];\n",
    "}\n",
    "\n",
    "parameters {\n",
    "    real alpha;\n",
    "    real beta;\n",
    "}\n",
    "\n",
    "transformed parameters {\n",
    "    real <lower=0, upper=1> p[N];\n",
    "    for (i in 1:N) {\n",
    "        p[i] = inv_logit(alpha + beta*x[i]);\n",
    "    }\n",
    "}\n",
    "\n",
    "model {\n",
    "    alpha ~ normal(0, 5);\n",
    "    beta ~ normal(0, 10);\n",
    "    for (i in 1:N) {\n",
    "        y ~ binomial(n, p);\n",
    "    }\n",
    "}\n",
    "\n",
    "generated quantities {\n",
    "    int<lower=0> yp[N];\n",
    "    for (i in 1:N) {\n",
    "        yp[i] = binomial_rng(n[i], p[i]);\n",
    "    }\n",
    "}"
   ]
  },
  {
   "cell_type": "code",
   "execution_count": 64,
   "metadata": {},
   "outputs": [
    {
     "name": "stderr",
     "output_type": "stream",
     "text": [
      "INFO:pystan:COMPILING THE C++ CODE FOR MODEL anon_model_dc9e5eb156c324b98343f4bde238f913 NOW.\n"
     ]
    }
   ],
   "source": [
    "sm = pystan.StanModel('dose_post.stan')"
   ]
  },
  {
   "cell_type": "code",
   "execution_count": 65,
   "metadata": {
    "collapsed": true
   },
   "outputs": [],
   "source": [
    "fit_post = sm.sampling(data=data)"
   ]
  },
  {
   "cell_type": "code",
   "execution_count": 66,
   "metadata": {},
   "outputs": [],
   "source": [
    "yp = fit_post.extract('yp')['yp']"
   ]
  },
  {
   "cell_type": "code",
   "execution_count": 67,
   "metadata": {},
   "outputs": [
    {
     "data": {
      "text/plain": [
       "(4000, 4)"
      ]
     },
     "execution_count": 67,
     "metadata": {},
     "output_type": "execute_result"
    }
   ],
   "source": [
    "yp.shape"
   ]
  },
  {
   "cell_type": "code",
   "execution_count": 68,
   "metadata": {},
   "outputs": [
    {
     "data": {
      "text/plain": [
       "array([[-0.896,  0.   ,  0.   ,  0.   ,  0.   ,  0.   ,  0.   ],\n",
       "       [-0.296,  0.   ,  3.   ,  1.   ,  1.   ,  2.   ,  2.   ],\n",
       "       [-0.053,  3.   ,  5.   ,  1.   ,  3.   ,  4.   ,  4.   ],\n",
       "       [ 0.727,  5.   ,  5.   ,  5.   ,  5.   ,  5.   ,  5.   ]])"
      ]
     },
     "execution_count": 68,
     "metadata": {},
     "output_type": "execute_result"
    }
   ],
   "source": [
    "np.c_[data['x'], yp.T[:, :6]]"
   ]
  },
  {
   "cell_type": "code",
   "execution_count": null,
   "metadata": {
    "collapsed": true
   },
   "outputs": [],
   "source": []
  }
 ],
 "metadata": {
  "kernelspec": {
   "display_name": "Python 3",
   "language": "python",
   "name": "python3"
  },
  "language_info": {
   "codemirror_mode": {
    "name": "ipython",
    "version": 3
   },
   "file_extension": ".py",
   "mimetype": "text/x-python",
   "name": "python",
   "nbconvert_exporter": "python",
   "pygments_lexer": "ipython3",
   "version": "3.6.1"
  }
 },
 "nbformat": 4,
 "nbformat_minor": 2
}
