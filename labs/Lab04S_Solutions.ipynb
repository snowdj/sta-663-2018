{
 "cells": [
  {
   "cell_type": "markdown",
   "metadata": {},
   "source": [
    "# Supplementary Practice Problems\n",
    "\n",
    "These are similar to programming problems you may encounter in the mid-terms. They are not graded but we will review them in lab sessions."
   ]
  },
  {
   "cell_type": "markdown",
   "metadata": {},
   "source": [
    "**1**. (10 points) Normalize the $3 \\times 4$ diagonal matrix with diagonal (1, ,2, 3) so all rows have mean 0 and standard deviation 1. The matrix has 0 everywhere not on the diagonal."
   ]
  },
  {
   "cell_type": "code",
   "execution_count": 1,
   "metadata": {},
   "outputs": [],
   "source": [
    "import numpy as np"
   ]
  },
  {
   "cell_type": "code",
   "execution_count": 48,
   "metadata": {},
   "outputs": [
    {
     "data": {
      "text/plain": [
       "array([[ 1.,  0.,  0.,  0.],\n",
       "       [ 0.,  2.,  0.,  0.],\n",
       "       [ 0.,  0.,  3.,  0.]])"
      ]
     },
     "execution_count": 48,
     "metadata": {},
     "output_type": "execute_result"
    }
   ],
   "source": [
    "x = np.fromfunction(lambda i,j: np.where(i==j, i+1, 0), (3,4))\n",
    "x"
   ]
  },
  {
   "cell_type": "code",
   "execution_count": 4,
   "metadata": {},
   "outputs": [
    {
     "data": {
      "text/plain": [
       "array([[ 1.73205081, -0.57735027, -0.57735027, -0.57735027],\n",
       "       [-0.57735027,  1.73205081, -0.57735027, -0.57735027],\n",
       "       [-0.57735027, -0.57735027,  1.73205081, -0.57735027]])"
      ]
     },
     "execution_count": 4,
     "metadata": {},
     "output_type": "execute_result"
    }
   ],
   "source": [
    "(x - x.mean(axis=1)[:,None])/x.std(axis=1)[:,None]"
   ]
  },
  {
   "cell_type": "markdown",
   "metadata": {},
   "source": [
    "**2**. (10 points) A fixed point of a funciton is a value that remains the same when the funciton is applied to it, that is $f(x) = x$. Write a function that finds the fixed poitn of another function $f$ given an intiial value $x_0$. For example, if\n",
    "\n",
    "$$f(x) \\rightarrow \\sqrt{x}$$\n",
    "\n",
    "and \n",
    "\n",
    "$x_0$ is any positive real number, then the function should return 1 since\n",
    "\n",
    "$$\\sqrt{1} = 1$$\n",
    "\n",
    "Not all funcitons have a fixed point - if it taakes over 1,000 iterations, the fucntion shold return None.\n",
    "\n",
    "- Use the function signature `fixed_point(f, x0, max_iter=1000)`. \n",
    "- Test with `fixed_point(np.sqrt, 10)`."
   ]
  },
  {
   "cell_type": "code",
   "execution_count": 7,
   "metadata": {},
   "outputs": [],
   "source": [
    "def fp(f, x, max_iter=1000):\n",
    "    for i in range(max_iter):\n",
    "        x = f(x)\n",
    "        if np.abs(x - f(x)) < 1e-16:\n",
    "            return x\n",
    "    return None            "
   ]
  },
  {
   "cell_type": "code",
   "execution_count": 8,
   "metadata": {},
   "outputs": [
    {
     "data": {
      "text/plain": [
       "1.0"
      ]
     },
     "execution_count": 8,
     "metadata": {},
     "output_type": "execute_result"
    }
   ],
   "source": [
    "fp(np.sqrt, 10)"
   ]
  },
  {
   "cell_type": "markdown",
   "metadata": {},
   "source": [
    "**3**. (10 points) Use `np.fromfunction` to construc the following matrices\n",
    "\n",
    "```python\n",
    "array([[5, 0, 0, 0, 5],\n",
    "       [0, 4, 0, 4, 0],\n",
    "       [0, 0, 3, 0, 0],\n",
    "       [0, 2, 0, 2, 0],\n",
    "       [1, 0, 0, 0, 1]])\n",
    "```\n",
    "\n",
    "```python\n",
    "array([[0, 1, 0, 0, 0, 0],\n",
    "       [1, 0, 1, 0, 0, 0],\n",
    "       [0, 1, 0, 1, 0, 0],\n",
    "       [0, 0, 1, 0, 1, 0],\n",
    "       [0, 0, 0, 1, 0, 1],\n",
    "       [0, 0, 0, 0, 1, 0]])\n",
    "```\n",
    "\n",
    "```python\n",
    "array([[6, 5, 4, 3, 4, 5, 6],\n",
    "       [5, 4, 3, 2, 3, 4, 5],\n",
    "       [4, 3, 2, 1, 2, 3, 4],\n",
    "       [3, 2, 1, 0, 1, 2, 3],\n",
    "       [4, 3, 2, 1, 2, 3, 4],\n",
    "       [5, 4, 3, 2, 3, 4, 5],\n",
    "       [6, 5, 4, 3, 4, 5, 6]])\n",
    "```"
   ]
  },
  {
   "cell_type": "code",
   "execution_count": 14,
   "metadata": {},
   "outputs": [
    {
     "data": {
      "text/plain": [
       "array([[5, 0, 0, 0, 5],\n",
       "       [0, 4, 0, 4, 0],\n",
       "       [0, 0, 3, 0, 0],\n",
       "       [0, 2, 0, 2, 0],\n",
       "       [1, 0, 0, 0, 1]])"
      ]
     },
     "execution_count": 14,
     "metadata": {},
     "output_type": "execute_result"
    }
   ],
   "source": [
    "np.fromfunction(lambda i,j: np.where((i==j) | (i==4-j), 5-i, 0), (5,5), dtype='int')"
   ]
  },
  {
   "cell_type": "code",
   "execution_count": 16,
   "metadata": {},
   "outputs": [
    {
     "data": {
      "text/plain": [
       "array([[0, 1, 0, 0, 0, 0],\n",
       "       [1, 0, 1, 0, 0, 0],\n",
       "       [0, 1, 0, 1, 0, 0],\n",
       "       [0, 0, 1, 0, 1, 0],\n",
       "       [0, 0, 0, 1, 0, 1],\n",
       "       [0, 0, 0, 0, 1, 0]])"
      ]
     },
     "execution_count": 16,
     "metadata": {},
     "output_type": "execute_result"
    }
   ],
   "source": [
    "np.fromfunction(lambda i, j: np.where(np.abs(i-j)==1, 1, 0), (6,6))"
   ]
  },
  {
   "cell_type": "code",
   "execution_count": 18,
   "metadata": {},
   "outputs": [
    {
     "data": {
      "text/plain": [
       "array([[6, 5, 4, 3, 4, 5, 6],\n",
       "       [5, 4, 3, 2, 3, 4, 5],\n",
       "       [4, 3, 2, 1, 2, 3, 4],\n",
       "       [3, 2, 1, 0, 1, 2, 3],\n",
       "       [4, 3, 2, 1, 2, 3, 4],\n",
       "       [5, 4, 3, 2, 3, 4, 5],\n",
       "       [6, 5, 4, 3, 4, 5, 6]])"
      ]
     },
     "execution_count": 18,
     "metadata": {},
     "output_type": "execute_result"
    }
   ],
   "source": [
    "np.fromfunction(lambda i,j: np.abs(i-3) + np.abs(j-3), (7,7), dtype='int')"
   ]
  },
  {
   "cell_type": "markdown",
   "metadata": {},
   "source": [
    "**4**. (10 points) Read the `mtcars` data frame from R to a `pandas` DataFrame. Find the mean `wt` and `mpg` for all cars grouped by the number of `gear`s."
   ]
  },
  {
   "cell_type": "code",
   "execution_count": 19,
   "metadata": {},
   "outputs": [],
   "source": [
    "%load_ext rpy2.ipython"
   ]
  },
  {
   "cell_type": "code",
   "execution_count": 20,
   "metadata": {},
   "outputs": [],
   "source": [
    "mtcars = %R mtcars"
   ]
  },
  {
   "cell_type": "code",
   "execution_count": 21,
   "metadata": {},
   "outputs": [
    {
     "data": {
      "text/html": [
       "<div>\n",
       "<style scoped>\n",
       "    .dataframe tbody tr th:only-of-type {\n",
       "        vertical-align: middle;\n",
       "    }\n",
       "\n",
       "    .dataframe tbody tr th {\n",
       "        vertical-align: top;\n",
       "    }\n",
       "\n",
       "    .dataframe thead th {\n",
       "        text-align: right;\n",
       "    }\n",
       "</style>\n",
       "<table border=\"1\" class=\"dataframe\">\n",
       "  <thead>\n",
       "    <tr style=\"text-align: right;\">\n",
       "      <th></th>\n",
       "      <th>wt</th>\n",
       "      <th>mpg</th>\n",
       "    </tr>\n",
       "    <tr>\n",
       "      <th>gear</th>\n",
       "      <th></th>\n",
       "      <th></th>\n",
       "    </tr>\n",
       "  </thead>\n",
       "  <tbody>\n",
       "    <tr>\n",
       "      <th>3.0</th>\n",
       "      <td>3.892600</td>\n",
       "      <td>16.106667</td>\n",
       "    </tr>\n",
       "    <tr>\n",
       "      <th>4.0</th>\n",
       "      <td>2.616667</td>\n",
       "      <td>24.533333</td>\n",
       "    </tr>\n",
       "    <tr>\n",
       "      <th>5.0</th>\n",
       "      <td>2.632600</td>\n",
       "      <td>21.380000</td>\n",
       "    </tr>\n",
       "  </tbody>\n",
       "</table>\n",
       "</div>"
      ],
      "text/plain": [
       "            wt        mpg\n",
       "gear                     \n",
       "3.0   3.892600  16.106667\n",
       "4.0   2.616667  24.533333\n",
       "5.0   2.632600  21.380000"
      ]
     },
     "execution_count": 21,
     "metadata": {},
     "output_type": "execute_result"
    }
   ],
   "source": [
    "mtcars.groupby('gear')[['wt','mpg']].mean()"
   ]
  },
  {
   "cell_type": "markdown",
   "metadata": {},
   "source": [
    "**5**. (10 points) The QQ (Quirkiness Quotient) has a normal distribution with $\\mu$ = 100 and $\\sigma$ = 20. If your QQ is at the 92nd percentile, what is your QQ? \n",
    "\n",
    "- Solve this analytically using some distribution function\n",
    "- Solve this using a simulation of 1,000,000 people\n",
    "- Plot the QQ PDF for QQs between 40 and 160 as a blue curve, shading the region below your QQ in blue with 50% transparency."
   ]
  },
  {
   "cell_type": "code",
   "execution_count": 22,
   "metadata": {},
   "outputs": [],
   "source": [
    "mu = 100\n",
    "sigma = 20\n",
    "\n",
    "from scipy.stats import norm"
   ]
  },
  {
   "cell_type": "code",
   "execution_count": 25,
   "metadata": {},
   "outputs": [
    {
     "data": {
      "text/plain": [
       "128.05613280617212"
      ]
     },
     "execution_count": 25,
     "metadata": {},
     "output_type": "execute_result"
    }
   ],
   "source": [
    "n = 1000000\n",
    "dist = norm(mu, sigma)\n",
    "data = dist.rvs(n)\n",
    "data = np.sort(data)\n",
    "idx = int(.92*n)\n",
    "my_qq = data[idx]\n",
    "my_qq"
   ]
  },
  {
   "cell_type": "code",
   "execution_count": 26,
   "metadata": {},
   "outputs": [
    {
     "data": {
      "image/png": "[encoded data removed]",
      "text/plain": [
       "<matplotlib.figure.Figure at 0x7fd6fd5bf470>"
      ]
     },
     "metadata": {},
     "output_type": "display_data"
    }
   ],
   "source": [
    "%matplotlib inline\n",
    "import matplotlib.pyplot as plt\n",
    "\n",
    "x = np.linspace(40, 160, 100)\n",
    "plt.plot(x, dist.pdf(x), 'b-')\n",
    "x1 = np.linspace(40, my_qq, 100)\n",
    "plt.fill_between(x1, dist.pdf(x1), 'b', alpha=0.5)\n",
    "pass"
   ]
  },
  {
   "cell_type": "markdown",
   "metadata": {},
   "source": [
    "**6**. (10 points) Simulate $n$ coin toss experiments, in which you toss a coin $k$ times for each experiment. Find the maximum run length of heads (e.g. the sequence `T,T,H,H,H,T,H,H` has a maximum run length of 3 heads in each experiment. "
   ]
  },
  {
   "cell_type": "code",
   "execution_count": 49,
   "metadata": {},
   "outputs": [],
   "source": [
    "n = 100\n",
    "k = 10\n",
    "data = np.random.choice(['H', 'T'], (n, k))"
   ]
  },
  {
   "cell_type": "code",
   "execution_count": 31,
   "metadata": {},
   "outputs": [],
   "source": [
    "import re"
   ]
  },
  {
   "cell_type": "code",
   "execution_count": 35,
   "metadata": {},
   "outputs": [
    {
     "data": {
      "text/plain": [
       "'HHHHHHH'"
      ]
     },
     "execution_count": 35,
     "metadata": {},
     "output_type": "execute_result"
    }
   ],
   "source": [
    "max_runs = []\n",
    "for tosses in (''.join(line) for line in data):\n",
    "    runs = re.findall('H+', tosses)\n",
    "    m = max(runs, key=len)\n",
    "    max_runs.append(m)\n",
    "max(max_runs, key=len)"
   ]
  },
  {
   "cell_type": "markdown",
   "metadata": {},
   "source": [
    "**7**. (10 points) Use the DNA sequence given below to answer these questions:\n",
    "\n",
    "- Generate all sequences formed using a shifting window of size 3 and print the sequence with the highest count. If there are ties, print all the tied sequences. Do not use any import statement."
   ]
  },
  {
   "cell_type": "code",
   "execution_count": 36,
   "metadata": {},
   "outputs": [],
   "source": [
    "dna = '''\n",
    "TCGGATGATTGCACTTATTCTCCGTTTGTTTGTGTGTTGCTGGGGGGGGACGCCTGCACGCTGTTCCAGTGCGTCGTCGT\n",
    "ATCTTGGTTTGCCTCGGGGGGTGGGGCTGGAGCCTACCAGGTGTCGGTCGGATGTTTTGTCTCTGTGTGTCGAGGGTCGT\n",
    "GTGGAGTCCCGGCGGGTGGGTGCTGCTGGGTGGTTGACACAGTGCGTGGTGGGTGCTTCAGCGGGGGGTGCCTCGCGCGT\n",
    "GGCTGGGGTGTTGTAGTTGTCGTTTGGAAAGTGTGCGGCATAGGGGGGATGAAATCCGGTTGACCAAGATTCGGGTCGCG\n",
    "TTTGGGGATTAGGATAGTTGGGTTTGGAAGGCGCGGGTATTGCCCACGTTCTTTGGCGGGGCGAGGGTGTTGGTACTCCA\n",
    "TGTCCAGGCCGCTTGCCTACGGACTGTAGAGGTTCGGGAGGCGCTGGCCGGCGTGTGTTCCCTAGGTTTTGAGATAAGAG\n",
    "'''"
   ]
  },
  {
   "cell_type": "code",
   "execution_count": 40,
   "metadata": {},
   "outputs": [
    {
     "data": {
      "text/plain": [
       "('GGG', 36)"
      ]
     },
     "execution_count": 40,
     "metadata": {},
     "output_type": "execute_result"
    }
   ],
   "source": [
    "d = {}\n",
    "for item in zip(dna[:], dna[1:], dna[2:]):\n",
    "    key = ''.join(item)\n",
    "    d[key] = d.get(key, 0) + 1\n",
    "    \n",
    "max(d.items(), key=lambda x: x[1])"
   ]
  },
  {
   "cell_type": "markdown",
   "metadata": {},
   "source": [
    "**8**. (10 points) Ignore spaces, case and punctuation when finding palindromes. Write code to find the palindromes among the 12 phrases below, returning the phrases that are palindromes in a list.\n",
    "\n",
    "```\n",
    "Daedalus: nine. Peninsula: dead.\n",
    "Dammit, I'm mad!\n",
    "Deliver me from evil.\n",
    "Dennis and Edna sinned.\n",
    "Devil never even lived.\n",
    "Deviled eggs sure taste good.\n",
    "Did Hannah see bees? Hannah did.\n",
    "Do geese see God?\n",
    "Do mice see God?\n",
    "Dogma: I am God\n",
    "Dogma: DNA makdes RNA makes protein.\n",
    "Dubya won? No way, bud.\n",
    "```"
   ]
  },
  {
   "cell_type": "code",
   "execution_count": 51,
   "metadata": {},
   "outputs": [],
   "source": [
    "s = '''Daedalus: nine. Peninsula: dead.\n",
    "Dammit, I'm mad!\n",
    "Deliver me from evil.\n",
    "Dennis and Edna sinned.\n",
    "Devil never even lived.\n",
    "Deviled eggs sure taste good.\n",
    "Did Hannah see bees? Hannah did.\n",
    "Do geese see God?\n",
    "Do mice see God?\n",
    "Dogma: I am God\n",
    "Dogma: DNA makdes RNA makes protein.\n",
    "Dubya won? No way, bud.'''"
   ]
  },
  {
   "cell_type": "code",
   "execution_count": 52,
   "metadata": {},
   "outputs": [],
   "source": [
    "lines = s.splitlines()"
   ]
  },
  {
   "cell_type": "code",
   "execution_count": 53,
   "metadata": {},
   "outputs": [
    {
     "data": {
      "text/plain": [
       "['Daedalus: nine. Peninsula: dead.',\n",
       " \"Dammit, I'm mad!\",\n",
       " 'Deliver me from evil.']"
      ]
     },
     "execution_count": 53,
     "metadata": {},
     "output_type": "execute_result"
    }
   ],
   "source": [
    "lines[:3]"
   ]
  },
  {
   "cell_type": "code",
   "execution_count": 54,
   "metadata": {},
   "outputs": [],
   "source": [
    "import string"
   ]
  },
  {
   "cell_type": "code",
   "execution_count": 57,
   "metadata": {},
   "outputs": [
    {
     "name": "stdout",
     "output_type": "stream",
     "text": [
      "Daedalus: nine. Peninsula: dead.\n",
      "Dammit, I'm mad!\n",
      "Dennis and Edna sinned.\n",
      "Devil never even lived.\n",
      "Did Hannah see bees? Hannah did.\n",
      "Do geese see God?\n",
      "Dogma: I am God\n",
      "Dubya won? No way, bud.\n"
     ]
    }
   ],
   "source": [
    "for line in lines:\n",
    "    line_ = line.lower().translate(str.maketrans('','', string.punctuation + string.whitespace))\n",
    "    if line_ == line_[::-1]:\n",
    "        print(line)"
   ]
  },
  {
   "cell_type": "code",
   "execution_count": null,
   "metadata": {},
   "outputs": [],
   "source": []
  }
 ],
 "metadata": {
  "kernelspec": {
   "display_name": "Python 3",
   "language": "python",
   "name": "python3"
  },
  "language_info": {
   "codemirror_mode": {
    "name": "ipython",
    "version": 3
   },
   "file_extension": ".py",
   "mimetype": "text/x-python",
   "name": "python",
   "nbconvert_exporter": "python",
   "pygments_lexer": "ipython3",
   "version": "3.6.3"
  }
 },
 "nbformat": 4,
 "nbformat_minor": 2
}
