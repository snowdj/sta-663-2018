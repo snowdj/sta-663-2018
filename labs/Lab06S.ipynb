{
 "cells": [
  {
   "cell_type": "markdown",
   "metadata": {},
   "source": [
    "# Lab X2: Supplementary Practice Problems\n",
    "\n",
    "These are similar to programming problems you may encounter in the mid-terms. They are not graded but we will review them in lab sessions.\n",
    "\n",
    "For these questions, you should try to solve the problem manually first (or at least detail out the steps if the algebra is too horrible), then use `scipy.linalg` package routine(s) to solve."
   ]
  },
  {
   "cell_type": "markdown",
   "metadata": {},
   "source": [
    "**1**. Write down the full-matrix, block matrix and outer product forms of the SVD using $\\LaTeX$ in a markdown cell."
   ]
  },
  {
   "cell_type": "code",
   "execution_count": null,
   "metadata": {
    "collapsed": true
   },
   "outputs": [],
   "source": []
  },
  {
   "cell_type": "markdown",
   "metadata": {},
   "source": [
    "**2**. Let\n",
    "$$\n",
    "u = \\begin{bmatrix}\n",
    "1 \\\\\n",
    "2 \\\\\n",
    "3 \n",
    "\\end{bmatrix}\n",
    "$$\n",
    "Find a non-zero vector $v$ that is orthogonal to $u$, and another non-zero vector $w$ that is orthogonal to both $u$ and $v$. Construct an orthogonal matrix $Q$ using the unit versions of $u, v, w$. What is the inverse of $Q$?"
   ]
  },
  {
   "cell_type": "code",
   "execution_count": null,
   "metadata": {
    "collapsed": true
   },
   "outputs": [],
   "source": []
  },
  {
   "cell_type": "markdown",
   "metadata": {},
   "source": [
    "**3**. Find a basis for the 4 fundamental spaces of $A$, where\n",
    "$$\n",
    "A = \\begin{bmatrix}\n",
    "1 & 2 & 3 & 3 \\\\\n",
    "2 & 0 & 6 & 2 \\\\\n",
    "3 & 4 & 9 & 7\n",
    "\\end{bmatrix}\n",
    "$$\n",
    "State the dimension of each basis, and the dimension of the space of the basis vectors."
   ]
  },
  {
   "cell_type": "code",
   "execution_count": null,
   "metadata": {
    "collapsed": true
   },
   "outputs": [],
   "source": []
  },
  {
   "cell_type": "markdown",
   "metadata": {},
   "source": [
    "**4**. Find the projection of\n",
    "$$\n",
    "b = \\begin{bmatrix}\n",
    "3 \\\\\n",
    "2 \\\\\n",
    "1\n",
    "\\end{bmatrix}\n",
    "$$\n",
    "on the column space of $A$ by using the projection matrix, where \n",
    "$$\n",
    "A = \\begin{bmatrix}\n",
    "1 & 2 & 3 & 3 \\\\\n",
    "2 & 0 & 6 & 2 \\\\\n",
    "3 & 4 & 9 & 7\n",
    "\\end{bmatrix}\n",
    "$$"
   ]
  },
  {
   "cell_type": "code",
   "execution_count": null,
   "metadata": {
    "collapsed": true
   },
   "outputs": [],
   "source": []
  },
  {
   "cell_type": "markdown",
   "metadata": {},
   "source": [
    "**5**. What is the inverse of\n",
    "$$\n",
    "A = \\begin{bmatrix}\n",
    "0 & 0 & 0 & 1 \\\\\n",
    "0 & 0 & 1 & 0 \\\\\n",
    "1 & 0 & 0 & 0 \\\\\n",
    "0 & 1 & 0 & 0\n",
    "\\end{bmatrix}\n",
    "$$"
   ]
  },
  {
   "cell_type": "code",
   "execution_count": null,
   "metadata": {
    "collapsed": true
   },
   "outputs": [],
   "source": []
  },
  {
   "cell_type": "markdown",
   "metadata": {},
   "source": [
    "**6**. Find the eigenvalues and eigenvectors of $A^TA$, and find an eigendecomposition of $A^TA = V \\Lambda V^T$. Finally, construct the SVD of $A$ and use it to generate $A$\n",
    "$$\n",
    "A = \\begin{bmatrix}\n",
    "1 & 2 & 3 & 3 \\\\\n",
    "2 & 0 & 6 & 11 \\\\\n",
    "3 & 4 & 9 & 7 \\\\\n",
    "4 & 4 & 4 & 4\n",
    "\\end{bmatrix}\n",
    "$$"
   ]
  },
  {
   "cell_type": "code",
   "execution_count": null,
   "metadata": {
    "collapsed": true
   },
   "outputs": [],
   "source": []
  },
  {
   "cell_type": "markdown",
   "metadata": {},
   "source": [
    "**7**. Find an orthogonal basis and the QR decomposition for\n",
    "$$\n",
    "A = \\begin{bmatrix}\n",
    "1 & 2 & 0 \\\\\n",
    "1 & 0 & 2 \\\\\n",
    "0 & 1 & 2\n",
    "\\end{bmatrix}\n",
    "$$"
   ]
  },
  {
   "cell_type": "code",
   "execution_count": null,
   "metadata": {
    "collapsed": true
   },
   "outputs": [],
   "source": []
  },
  {
   "cell_type": "markdown",
   "metadata": {},
   "source": [
    "**8**. Solve the following problem\n",
    "$$\n",
    "\\begin{bmatrix}\n",
    "1 & 2 & 3 & 3 \\\\\n",
    "2 & 0 & 6 & 11 \\\\\n",
    "3 & 4 & 9 & 7 \\\\\n",
    "4 & 4 & 4 & 4\n",
    "\\end{bmatrix} \\begin{bmatrix}\n",
    "x_1 \\\\\n",
    "x_2 \\\\\n",
    "x_3 \\\\\n",
    "x_4\n",
    "\\end{bmatrix} = \\begin{bmatrix}\n",
    "4 \\\\\n",
    "3 \\\\\n",
    "2 \\\\\n",
    "1\n",
    "\\end{bmatrix}\n",
    "$$\n",
    "using the following factorizations\n",
    "- Gaussian elimination\n",
    "- LU\n",
    "- LDU\n",
    "- QR\n",
    "- SVD"
   ]
  },
  {
   "cell_type": "code",
   "execution_count": null,
   "metadata": {
    "collapsed": true
   },
   "outputs": [],
   "source": []
  },
  {
   "cell_type": "markdown",
   "metadata": {},
   "source": [
    "**9**. Let $A$ be the plane spanned by the vectors\n",
    "\n",
    "$$ v_1\n",
    "\\begin{bmatrix}\n",
    "1 \\\\\n",
    "0 \\\\\n",
    "1 \\\\\n",
    "0\n",
    "\\end{bmatrix}, v_2 = \\begin{bmatrix}\n",
    "1 \\\\\n",
    "2 \\\\\n",
    "3 \\\\\n",
    "4\n",
    "\\end{bmatrix}\n",
    "$$\n",
    "What is the point on the plane nearest to the vectors $b_1$ and $b_2$.\n",
    "$$\n",
    "b_1 = \\begin{bmatrix}\n",
    "3 \\\\\n",
    "2 \\\\\n",
    "5 \\\\\n",
    "4\n",
    "\\end{bmatrix}, b_2 = \\begin{bmatrix}\n",
    "3 \\\\\n",
    "2 \\\\\n",
    "0 \\\\\n",
    "4\n",
    "\\end{bmatrix}\n",
    "$$\n",
    "Find the orthogonal distance from $b_1$ and $b_2$ to its nearest point."
   ]
  },
  {
   "cell_type": "code",
   "execution_count": null,
   "metadata": {
    "collapsed": true
   },
   "outputs": [],
   "source": []
  },
  {
   "cell_type": "markdown",
   "metadata": {},
   "source": [
    "**10**. Let\n",
    "$$\n",
    "A = \\begin{bmatrix}\n",
    "1 & 2 & 3 & 3 \\\\\n",
    "2 & 0 & 6 & 2 \\\\\n",
    "3 & 4 & 9 & 7 \\\\\n",
    "4 & 4 & 4 & 4\n",
    "\\end{bmatrix}\n",
    "$$\n",
    "- What is the rank of $A$\n",
    "- What is the condition number of $A$?\n",
    "- What is the best rank-1 and rank-2 approximation of $A$?\n",
    "- What is the distance between $A$ and the best rank-1 and rank-2 approximation of $A$ using the Frobenius norm?"
   ]
  },
  {
   "cell_type": "code",
   "execution_count": null,
   "metadata": {
    "collapsed": true
   },
   "outputs": [],
   "source": []
  }
 ],
 "metadata": {
  "kernelspec": {
   "display_name": "Python 3",
   "language": "python",
   "name": "python3"
  },
  "language_info": {
   "codemirror_mode": {
    "name": "ipython",
    "version": 3
   },
   "file_extension": ".py",
   "mimetype": "text/x-python",
   "name": "python",
   "nbconvert_exporter": "python",
   "pygments_lexer": "ipython3",
   "version": "3.6.5"
  }
 },
 "nbformat": 4,
 "nbformat_minor": 2
}
