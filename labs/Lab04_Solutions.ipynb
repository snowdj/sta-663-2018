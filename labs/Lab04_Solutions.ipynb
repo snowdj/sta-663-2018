{
 "cells": [
  {
   "cell_type": "markdown",
   "metadata": {},
   "source": [
    "**Brief Honor Code**. Do the homework on your own. You may discuss ideas with your classmates, but DO NOT copy the solutions from someone else or the Internet. If stuck, discuss with TA."
   ]
  },
  {
   "cell_type": "code",
   "execution_count": 3,
   "metadata": {
    "collapsed": true
   },
   "outputs": [],
   "source": [
    "%matplotlib inline\n",
    "\n",
    "import matplotlib.pyplot as plt\n",
    "import numpy as np\n",
    "import pandas as pd\n",
    "import string\n",
    "import toolz as tz"
   ]
  },
  {
   "cell_type": "markdown",
   "metadata": {},
   "source": [
    "**1**. (10 points)\n",
    "\n",
    "Write a function `pdsist(xs)` which returns a matrix of the pairwise distance between the collection of vectors in `xs` using Euclidean distance.\n",
    "\n",
    "Recall that Euclidean distance between two vectors $x$ and $y$ is\n",
    "\n",
    "$$\n",
    "d(x, y) = \\sqrt{\\sum{(y-x)^2}}\n",
    "$$ \n",
    "\n",
    "Find the square distance matrix for\n",
    "```python\n",
    "xs = np.array([[0.20981496, 0.54777461, 0.9398527 ],\n",
    "       [0.63149939, 0.935947  , 0.29834026],\n",
    "       [0.46302941, 0.25515557, 0.0698739 ],\n",
    "       [0.38192644, 0.42378508, 0.26055664],\n",
    "       [0.46307302, 0.05943961, 0.60204931]])\n",
    "```\n",
    "\n",
    "Do this **without** using any for loops."
   ]
  },
  {
   "cell_type": "code",
   "execution_count": 2,
   "metadata": {
    "collapsed": true
   },
   "outputs": [],
   "source": [
    "def pdist(xs):\n",
    "    \"\"\"Pairwise Euclidean distacne.\"\"\"\n",
    "    \n",
    "    return np.sqrt(np.sum((xs[:, None] - xs[None, :])**2, -1))"
   ]
  },
  {
   "cell_type": "code",
   "execution_count": 4,
   "metadata": {},
   "outputs": [],
   "source": [
    "xs = np.array([[0.20981496, 0.54777461, 0.9398527 ],\n",
    "       [0.63149939, 0.935947  , 0.29834026],\n",
    "       [0.46302941, 0.25515557, 0.0698739 ],\n",
    "       [0.38192644, 0.42378508, 0.26055664],\n",
    "       [0.46307302, 0.05943961, 0.60204931]])"
   ]
  },
  {
   "cell_type": "code",
   "execution_count": 4,
   "metadata": {},
   "outputs": [
    {
     "data": {
      "text/plain": [
       "array([[0.        , 0.86025216, 0.9521589 , 0.71164521, 0.64553997],\n",
       "       [0.86025216, 0.        , 0.73760151, 0.57098519, 0.9428    ],\n",
       "       [0.9521589 , 0.73760151, 0.        , 0.26715821, 0.56702329],\n",
       "       [0.71164521, 0.57098519, 0.26715821, 0.        , 0.50591465],\n",
       "       [0.64553997, 0.9428    , 0.56702329, 0.50591465, 0.        ]])"
      ]
     },
     "execution_count": 4,
     "metadata": {},
     "output_type": "execute_result"
    }
   ],
   "source": [
    "pdist(xs)"
   ]
  },
  {
   "cell_type": "markdown",
   "metadata": {},
   "source": [
    "**2**. (20 points)\n",
    "\n",
    "Wikipedia gives this algorithm for finding prime numbers\n",
    "\n",
    "To find all the prime numbers less than or equal to a given integer n by Eratosthenes' method:\n",
    "\n",
    "- Create a list of consecutive integers from 2 through n: (2, 3, 4, ..., n).\n",
    "- Initially, let p equal 2, the smallest prime number.\n",
    "- Enumerate the multiples of p by counting to n from 2p in increments of p, and mark them in the list (these will be 2p, 3p, 4p, ...; the p itself should not be marked).\n",
    "- Find the first number greater than p in the list that is not marked. If there was no such number, stop. Otherwise, let p now equal this new number (which is the next prime), and repeat from step 3.\n",
    "- When the algorithm terminates, the numbers remaining not marked in the list are all the primes below n.\n",
    "\n",
    "Find all primes less than 1,000 using this method.\n",
    "\n",
    "- You may use `numpy` and do not have to follow the algorithm exactly if you can achieve the same results."
   ]
  },
  {
   "cell_type": "code",
   "execution_count": 5,
   "metadata": {
    "collapsed": true
   },
   "outputs": [],
   "source": [
    "import numpy as np"
   ]
  },
  {
   "cell_type": "code",
   "execution_count": 6,
   "metadata": {
    "collapsed": true
   },
   "outputs": [],
   "source": [
    "def sieve(n):\n",
    "    \"\"\"Sieve of Erastothenes.\"\"\"\n",
    "    \n",
    "    xs = np.arange(n+1)\n",
    "    keep = np.ones(len(xs)).astype('bool')\n",
    "    keep[:2] = 0\n",
    "    p = 2\n",
    "    while True:\n",
    "        idx = p + p\n",
    "        while idx <= n:\n",
    "            keep[idx] = 0\n",
    "            idx += p\n",
    "        p = xs[p+1]\n",
    "        while keep[p] == 0:\n",
    "            p += 1\n",
    "            if p == n:\n",
    "                return xs[keep]"
   ]
  },
  {
   "cell_type": "code",
   "execution_count": 7,
   "metadata": {},
   "outputs": [
    {
     "data": {
      "text/plain": [
       "array([  2,   3,   5,   7,  11,  13,  17,  19,  23,  29,  31,  37,  41,\n",
       "        43,  47,  53,  59,  61,  67,  71,  73,  79,  83,  89,  97, 101,\n",
       "       103, 107, 109, 113, 127, 131, 137, 139, 149, 151, 157, 163, 167,\n",
       "       173, 179, 181, 191, 193, 197, 199, 211, 223, 227, 229, 233, 239,\n",
       "       241, 251, 257, 263, 269, 271, 277, 281, 283, 293, 307, 311, 313,\n",
       "       317, 331, 337, 347, 349, 353, 359, 367, 373, 379, 383, 389, 397,\n",
       "       401, 409, 419, 421, 431, 433, 439, 443, 449, 457, 461, 463, 467,\n",
       "       479, 487, 491, 499, 503, 509, 521, 523, 541, 547, 557, 563, 569,\n",
       "       571, 577, 587, 593, 599, 601, 607, 613, 617, 619, 631, 641, 643,\n",
       "       647, 653, 659, 661, 673, 677, 683, 691, 701, 709, 719, 727, 733,\n",
       "       739, 743, 751, 757, 761, 769, 773, 787, 797, 809, 811, 821, 823,\n",
       "       827, 829, 839, 853, 857, 859, 863, 877, 881, 883, 887, 907, 911,\n",
       "       919, 929, 937, 941, 947, 953, 967, 971, 977, 983, 991, 997])"
      ]
     },
     "execution_count": 7,
     "metadata": {},
     "output_type": "execute_result"
    }
   ],
   "source": [
    "sieve(1000)"
   ]
  },
  {
   "cell_type": "markdown",
   "metadata": {},
   "source": [
    "**3**. (20 points)\n",
    "\n",
    "- Load the `iris` data set from R into a `pandas` DataFrame and create a new DataFrame `iris_scaled` where each feature (column) has zero mean and unit standard deviation (5)\n",
    "- Calculate a pairwise distance matrix (using Euclidean distance) of the normalized features for each flower using the function you wrote in **1** (5)\n",
    "- Using `seaborn`, plot a `clustermap` of the original `iris` data, with row color labels for the Species (5)\n",
    "![clustermap](figs/iris_clustermap.png) \n",
    "- Using a single `seaborn` function, make a 2 by 2 grid of boxplots for each feature to compare across iris species. The y-axis scale need not be the same across subplots. (5)\n",
    "![boxplots](figs/iris_boxplots.png)"
   ]
  },
  {
   "cell_type": "code",
   "execution_count": 8,
   "metadata": {
    "collapsed": true
   },
   "outputs": [],
   "source": [
    "%load_ext rpy2.ipython"
   ]
  },
  {
   "cell_type": "code",
   "execution_count": 9,
   "metadata": {
    "collapsed": true
   },
   "outputs": [],
   "source": [
    "iris = %R iris"
   ]
  },
  {
   "cell_type": "code",
   "execution_count": 10,
   "metadata": {},
   "outputs": [
    {
     "data": {
      "text/html": [
       "<div>\n",
       "<style scoped>\n",
       "    .dataframe tbody tr th:only-of-type {\n",
       "        vertical-align: middle;\n",
       "    }\n",
       "\n",
       "    .dataframe tbody tr th {\n",
       "        vertical-align: top;\n",
       "    }\n",
       "\n",
       "    .dataframe thead th {\n",
       "        text-align: right;\n",
       "    }\n",
       "</style>\n",
       "<table border=\"1\" class=\"dataframe\">\n",
       "  <thead>\n",
       "    <tr style=\"text-align: right;\">\n",
       "      <th></th>\n",
       "      <th>Sepal.Length</th>\n",
       "      <th>Sepal.Width</th>\n",
       "      <th>Petal.Length</th>\n",
       "      <th>Petal.Width</th>\n",
       "      <th>Species</th>\n",
       "    </tr>\n",
       "  </thead>\n",
       "  <tbody>\n",
       "    <tr>\n",
       "      <th>1</th>\n",
       "      <td>5.1</td>\n",
       "      <td>3.5</td>\n",
       "      <td>1.4</td>\n",
       "      <td>0.2</td>\n",
       "      <td>setosa</td>\n",
       "    </tr>\n",
       "    <tr>\n",
       "      <th>2</th>\n",
       "      <td>4.9</td>\n",
       "      <td>3.0</td>\n",
       "      <td>1.4</td>\n",
       "      <td>0.2</td>\n",
       "      <td>setosa</td>\n",
       "    </tr>\n",
       "    <tr>\n",
       "      <th>3</th>\n",
       "      <td>4.7</td>\n",
       "      <td>3.2</td>\n",
       "      <td>1.3</td>\n",
       "      <td>0.2</td>\n",
       "      <td>setosa</td>\n",
       "    </tr>\n",
       "    <tr>\n",
       "      <th>4</th>\n",
       "      <td>4.6</td>\n",
       "      <td>3.1</td>\n",
       "      <td>1.5</td>\n",
       "      <td>0.2</td>\n",
       "      <td>setosa</td>\n",
       "    </tr>\n",
       "    <tr>\n",
       "      <th>5</th>\n",
       "      <td>5.0</td>\n",
       "      <td>3.6</td>\n",
       "      <td>1.4</td>\n",
       "      <td>0.2</td>\n",
       "      <td>setosa</td>\n",
       "    </tr>\n",
       "  </tbody>\n",
       "</table>\n",
       "</div>"
      ],
      "text/plain": [
       "   Sepal.Length  Sepal.Width  Petal.Length  Petal.Width Species\n",
       "1           5.1          3.5           1.4          0.2  setosa\n",
       "2           4.9          3.0           1.4          0.2  setosa\n",
       "3           4.7          3.2           1.3          0.2  setosa\n",
       "4           4.6          3.1           1.5          0.2  setosa\n",
       "5           5.0          3.6           1.4          0.2  setosa"
      ]
     },
     "execution_count": 10,
     "metadata": {},
     "output_type": "execute_result"
    }
   ],
   "source": [
    "iris.head()"
   ]
  },
  {
   "cell_type": "code",
   "execution_count": 11,
   "metadata": {},
   "outputs": [
    {
     "data": {
      "text/html": [
       "<div>\n",
       "<style scoped>\n",
       "    .dataframe tbody tr th:only-of-type {\n",
       "        vertical-align: middle;\n",
       "    }\n",
       "\n",
       "    .dataframe tbody tr th {\n",
       "        vertical-align: top;\n",
       "    }\n",
       "\n",
       "    .dataframe thead th {\n",
       "        text-align: right;\n",
       "    }\n",
       "</style>\n",
       "<table border=\"1\" class=\"dataframe\">\n",
       "  <thead>\n",
       "    <tr style=\"text-align: right;\">\n",
       "      <th></th>\n",
       "      <th>Sepal.Length</th>\n",
       "      <th>Sepal.Width</th>\n",
       "      <th>Petal.Length</th>\n",
       "      <th>Petal.Width</th>\n",
       "      <th>Species</th>\n",
       "    </tr>\n",
       "  </thead>\n",
       "  <tbody>\n",
       "    <tr>\n",
       "      <th>1</th>\n",
       "      <td>-0.897674</td>\n",
       "      <td>1.015602</td>\n",
       "      <td>-1.335752</td>\n",
       "      <td>-1.311052</td>\n",
       "      <td>setosa</td>\n",
       "    </tr>\n",
       "    <tr>\n",
       "      <th>2</th>\n",
       "      <td>-1.139200</td>\n",
       "      <td>-0.131539</td>\n",
       "      <td>-1.335752</td>\n",
       "      <td>-1.311052</td>\n",
       "      <td>setosa</td>\n",
       "    </tr>\n",
       "    <tr>\n",
       "      <th>3</th>\n",
       "      <td>-1.380727</td>\n",
       "      <td>0.327318</td>\n",
       "      <td>-1.392399</td>\n",
       "      <td>-1.311052</td>\n",
       "      <td>setosa</td>\n",
       "    </tr>\n",
       "    <tr>\n",
       "      <th>4</th>\n",
       "      <td>-1.501490</td>\n",
       "      <td>0.097889</td>\n",
       "      <td>-1.279104</td>\n",
       "      <td>-1.311052</td>\n",
       "      <td>setosa</td>\n",
       "    </tr>\n",
       "    <tr>\n",
       "      <th>5</th>\n",
       "      <td>-1.018437</td>\n",
       "      <td>1.245030</td>\n",
       "      <td>-1.335752</td>\n",
       "      <td>-1.311052</td>\n",
       "      <td>setosa</td>\n",
       "    </tr>\n",
       "  </tbody>\n",
       "</table>\n",
       "</div>"
      ],
      "text/plain": [
       "   Sepal.Length  Sepal.Width  Petal.Length  Petal.Width Species\n",
       "1     -0.897674     1.015602     -1.335752    -1.311052  setosa\n",
       "2     -1.139200    -0.131539     -1.335752    -1.311052  setosa\n",
       "3     -1.380727     0.327318     -1.392399    -1.311052  setosa\n",
       "4     -1.501490     0.097889     -1.279104    -1.311052  setosa\n",
       "5     -1.018437     1.245030     -1.335752    -1.311052  setosa"
      ]
     },
     "execution_count": 11,
     "metadata": {},
     "output_type": "execute_result"
    }
   ],
   "source": [
    "iris_scaled = (iris.iloc[:, :-1] - iris.iloc[:, :-1].mean(axis=0))/iris.iloc[:, :-1].std(axis=0)\n",
    "iris_scaled['Species'] = iris['Species']\n",
    "iris_scaled.head()"
   ]
  },
  {
   "cell_type": "code",
   "execution_count": 12,
   "metadata": {},
   "outputs": [
    {
     "data": {
      "text/plain": [
       "array([[0.        , 1.1722914 , 0.84278401, ..., 3.79270577, 3.81338223,\n",
       "        3.32392896],\n",
       "       [1.1722914 , 0.        , 0.52162552, ..., 3.73412795, 4.00393113,\n",
       "        3.20274689],\n",
       "       [0.84278401, 0.52162552, 0.        , ..., 3.92339738, 4.05911739,\n",
       "        3.36904951],\n",
       "       ...,\n",
       "       [3.79270577, 3.73412795, 3.92339738, ..., 0.        , 1.06826493,\n",
       "        0.77270365],\n",
       "       [3.81338223, 4.00393113, 4.05911739, ..., 1.06826493, 0.        ,\n",
       "        1.19692065],\n",
       "       [3.32392896, 3.20274689, 3.36904951, ..., 0.77270365, 1.19692065,\n",
       "        0.        ]])"
      ]
     },
     "execution_count": 12,
     "metadata": {},
     "output_type": "execute_result"
    }
   ],
   "source": [
    "pdist(iris_scaled.iloc[:, :-1].values)"
   ]
  },
  {
   "cell_type": "code",
   "execution_count": 13,
   "metadata": {
    "collapsed": true
   },
   "outputs": [],
   "source": [
    "import seaborn as sns"
   ]
  },
  {
   "cell_type": "code",
   "execution_count": 14,
   "metadata": {},
   "outputs": [
    {
     "data": {
      "image/png": "[encoded data removed]",
      "text/plain": [
       "<matplotlib.figure.Figure at 0x115b52208>"
      ]
     },
     "metadata": {},
     "output_type": "display_data"
    }
   ],
   "source": [
    "lut = dict(zip(iris.Species.unique(), \"rbg\"))\n",
    "row_colors = iris.Species.map(lut)\n",
    "sns.clustermap(iris.iloc[:, :-1], z_score=True, row_colors=row_colors)\n",
    "plt.savefig('figs/iris_clustermap.png')\n",
    "pass"
   ]
  },
  {
   "cell_type": "code",
   "execution_count": 15,
   "metadata": {},
   "outputs": [
    {
     "data": {
      "image/png": "[encoded data removed]",
      "text/plain": [
       "<matplotlib.figure.Figure at 0x116119320>"
      ]
     },
     "metadata": {},
     "output_type": "display_data"
    }
   ],
   "source": [
    "df = pd.melt(iris, id_vars='Species')\n",
    "sns.factorplot(x='Species', y='value',\n",
    "               col='variable', col_wrap=2, \n",
    "               data=df, kind='box',\n",
    "               sharey=False)\n",
    "plt.savefig('figs/iris_boxplots.png')\n",
    "pass"
   ]
  },
  {
   "cell_type": "markdown",
   "metadata": {},
   "source": [
    "**4**. (50 points)\n",
    "\n",
    "This is an example of the messiness of real-life data munging, using a (truncated and randomized) data set provided by an HIV researcher. In this data set, HIV-positive subjects were tested for sexually transmitted infections (STI) at each visit (and treated if they were positive). \n",
    "\n",
    "You will probably need to review the `pandas` documentation and examples carefully to complete this exercise.\n",
    "\n",
    "The file 'hiv.csv' contains data the HIV subjects. The variables are\n",
    "\n",
    "- PID: A randomly generated patient ID\n",
    "- Race: The race of the subject as a single letter code\n",
    "- Age: The age of the subject at study entry\n",
    "- Visit Date: Date of visit at which STI data was collected\n",
    "- STIs: Type of STI detected if any\n",
    "\n",
    "The Race and Age of each subject are only recorded for the first visit.\n",
    "\n",
    "Objectives:\n",
    "\n",
    "- Read the data set into a `pandas` DataFrame (5)\n",
    "- Fill up the missing Race and Age values (5)\n",
    "- Reclassify the STIs into one of the following categories ('none', 'syphilis', 'chlamydia', 'gonorrhea', 'HCV',  NaN) by grouping in the obvious way. Note that 'none' means no infection and NaN (np.nan) means missing data. (10)\n",
    "- FInd the subject(s) with the most number of visits (how many are there?) (5)\n",
    "- Perform a chi-square test to see if an STI at the **first** visit is associated with the risk of an STI at **any** subsequent visit. You only need to do this for subjects who have more than 1 visit. You can use `from scipy.stats import chi2_contingency` to do the $\\chi^2$ test. (20)"
   ]
  },
  {
   "cell_type": "code",
   "execution_count": 16,
   "metadata": {
    "collapsed": true
   },
   "outputs": [],
   "source": [
    "import pandas as pd"
   ]
  },
  {
   "cell_type": "code",
   "execution_count": 36,
   "metadata": {},
   "outputs": [
    {
     "data": {
      "text/html": [
       "<div>\n",
       "<style scoped>\n",
       "    .dataframe tbody tr th:only-of-type {\n",
       "        vertical-align: middle;\n",
       "    }\n",
       "\n",
       "    .dataframe tbody tr th {\n",
       "        vertical-align: top;\n",
       "    }\n",
       "\n",
       "    .dataframe thead th {\n",
       "        text-align: right;\n",
       "    }\n",
       "</style>\n",
       "<table border=\"1\" class=\"dataframe\">\n",
       "  <thead>\n",
       "    <tr style=\"text-align: right;\">\n",
       "      <th></th>\n",
       "      <th>PID</th>\n",
       "      <th>Race</th>\n",
       "      <th>Age</th>\n",
       "      <th>Visit Date</th>\n",
       "      <th>STIs</th>\n",
       "    </tr>\n",
       "  </thead>\n",
       "  <tbody>\n",
       "    <tr>\n",
       "      <th>0</th>\n",
       "      <td>9933</td>\n",
       "      <td>B</td>\n",
       "      <td>24.0</td>\n",
       "      <td>2013-12-24</td>\n",
       "      <td>none</td>\n",
       "    </tr>\n",
       "    <tr>\n",
       "      <th>1</th>\n",
       "      <td>9933</td>\n",
       "      <td>NaN</td>\n",
       "      <td>NaN</td>\n",
       "      <td>2015-07-18</td>\n",
       "      <td>none</td>\n",
       "    </tr>\n",
       "    <tr>\n",
       "      <th>2</th>\n",
       "      <td>9933</td>\n",
       "      <td>NaN</td>\n",
       "      <td>NaN</td>\n",
       "      <td>2016-01-23</td>\n",
       "      <td>none</td>\n",
       "    </tr>\n",
       "    <tr>\n",
       "      <th>3</th>\n",
       "      <td>9933</td>\n",
       "      <td>NaN</td>\n",
       "      <td>NaN</td>\n",
       "      <td>2013-10-14</td>\n",
       "      <td>syphilis</td>\n",
       "    </tr>\n",
       "    <tr>\n",
       "      <th>4</th>\n",
       "      <td>9933</td>\n",
       "      <td>NaN</td>\n",
       "      <td>NaN</td>\n",
       "      <td>2013-12-23</td>\n",
       "      <td>none</td>\n",
       "    </tr>\n",
       "  </tbody>\n",
       "</table>\n",
       "</div>"
      ],
      "text/plain": [
       "    PID Race   Age  Visit Date      STIs\n",
       "0  9933    B  24.0  2013-12-24      none\n",
       "1  9933  NaN   NaN  2015-07-18      none\n",
       "2  9933  NaN   NaN  2016-01-23      none\n",
       "3  9933  NaN   NaN  2013-10-14  syphilis\n",
       "4  9933  NaN   NaN  2013-12-23      none"
      ]
     },
     "execution_count": 36,
     "metadata": {},
     "output_type": "execute_result"
    }
   ],
   "source": [
    "df = pd.read_csv('data/hiv.csv')\n",
    "df.head()"
   ]
  },
  {
   "cell_type": "code",
   "execution_count": 39,
   "metadata": {},
   "outputs": [
    {
     "data": {
      "text/plain": [
       "array(['B', nan, 'W', 'A', 'L', 'O', 'Y'], dtype=object)"
      ]
     },
     "execution_count": 39,
     "metadata": {},
     "output_type": "execute_result"
    }
   ],
   "source": [
    "df.Race.unique()"
   ]
  },
  {
   "cell_type": "code",
   "execution_count": 41,
   "metadata": {
    "collapsed": true
   },
   "outputs": [],
   "source": [
    "df.loc[df.Race.notnull(), 'Race'] = np.random.choice(list('BWALO'), sum(df.Race.notnull()))"
   ]
  },
  {
   "cell_type": "code",
   "execution_count": 43,
   "metadata": {
    "collapsed": true
   },
   "outputs": [],
   "source": [
    "df.loc[df.Age.notnull(), 'Age'] = np.random.randint(18, 91, sum(df.Age.notnull()))"
   ]
  },
  {
   "cell_type": "code",
   "execution_count": 45,
   "metadata": {
    "collapsed": true
   },
   "outputs": [],
   "source": [
    "df.to_csv('data/hiv.csv')"
   ]
  },
  {
   "cell_type": "code",
   "execution_count": null,
   "metadata": {
    "collapsed": true
   },
   "outputs": [],
   "source": []
  },
  {
   "cell_type": "code",
   "execution_count": 18,
   "metadata": {},
   "outputs": [
    {
     "data": {
      "text/html": [
       "<div>\n",
       "<style scoped>\n",
       "    .dataframe tbody tr th:only-of-type {\n",
       "        vertical-align: middle;\n",
       "    }\n",
       "\n",
       "    .dataframe tbody tr th {\n",
       "        vertical-align: top;\n",
       "    }\n",
       "\n",
       "    .dataframe thead th {\n",
       "        text-align: right;\n",
       "    }\n",
       "</style>\n",
       "<table border=\"1\" class=\"dataframe\">\n",
       "  <thead>\n",
       "    <tr style=\"text-align: right;\">\n",
       "      <th></th>\n",
       "      <th>PID</th>\n",
       "      <th>Race</th>\n",
       "      <th>Age</th>\n",
       "      <th>Visit Date</th>\n",
       "      <th>STIs</th>\n",
       "    </tr>\n",
       "  </thead>\n",
       "  <tbody>\n",
       "    <tr>\n",
       "      <th>0</th>\n",
       "      <td>9933</td>\n",
       "      <td>B</td>\n",
       "      <td>24.0</td>\n",
       "      <td>2013-12-24</td>\n",
       "      <td>none</td>\n",
       "    </tr>\n",
       "    <tr>\n",
       "      <th>1</th>\n",
       "      <td>9933</td>\n",
       "      <td>B</td>\n",
       "      <td>24.0</td>\n",
       "      <td>2015-07-18</td>\n",
       "      <td>none</td>\n",
       "    </tr>\n",
       "    <tr>\n",
       "      <th>2</th>\n",
       "      <td>9933</td>\n",
       "      <td>B</td>\n",
       "      <td>24.0</td>\n",
       "      <td>2016-01-23</td>\n",
       "      <td>none</td>\n",
       "    </tr>\n",
       "    <tr>\n",
       "      <th>3</th>\n",
       "      <td>9933</td>\n",
       "      <td>B</td>\n",
       "      <td>24.0</td>\n",
       "      <td>2013-10-14</td>\n",
       "      <td>syphilis</td>\n",
       "    </tr>\n",
       "    <tr>\n",
       "      <th>4</th>\n",
       "      <td>9933</td>\n",
       "      <td>B</td>\n",
       "      <td>24.0</td>\n",
       "      <td>2013-12-23</td>\n",
       "      <td>none</td>\n",
       "    </tr>\n",
       "  </tbody>\n",
       "</table>\n",
       "</div>"
      ],
      "text/plain": [
       "    PID Race   Age  Visit Date      STIs\n",
       "0  9933    B  24.0  2013-12-24      none\n",
       "1  9933    B  24.0  2015-07-18      none\n",
       "2  9933    B  24.0  2016-01-23      none\n",
       "3  9933    B  24.0  2013-10-14  syphilis\n",
       "4  9933    B  24.0  2013-12-23      none"
      ]
     },
     "execution_count": 18,
     "metadata": {},
     "output_type": "execute_result"
    }
   ],
   "source": [
    "df = df.fillna(method='ffill')\n",
    "df.head()"
   ]
  },
  {
   "cell_type": "code",
   "execution_count": 19,
   "metadata": {},
   "outputs": [
    {
     "data": {
      "text/plain": [
       "array(['none', 'syphilis', 'chlamydia- rectal', 'chlamydia- vag/urethral',\n",
       "       'gonorrhea- vag/urethral', 'gonorrhea- rectal', 'HCV',\n",
       "       'chlamydia- OP', 'gonorrhea- OP', 'None'], dtype=object)"
      ]
     },
     "execution_count": 19,
     "metadata": {},
     "output_type": "execute_result"
    }
   ],
   "source": [
    "df.STIs.unique()"
   ]
  },
  {
   "cell_type": "code",
   "execution_count": 20,
   "metadata": {
    "collapsed": true
   },
   "outputs": [],
   "source": [
    "df['STIs'] = df.STIs.str.split('-').str[0].replace('None', 'none')"
   ]
  },
  {
   "cell_type": "code",
   "execution_count": 21,
   "metadata": {
    "collapsed": true
   },
   "outputs": [],
   "source": [
    "pd.set_option('mode.chained_assignment',None)"
   ]
  },
  {
   "cell_type": "code",
   "execution_count": 22,
   "metadata": {
    "collapsed": true
   },
   "outputs": [],
   "source": [
    "counts = df.groupby(['PID'])['Visit Date'].count()\n",
    "data = df[df.PID.isin(counts[counts > 1].index)]"
   ]
  },
  {
   "cell_type": "code",
   "execution_count": 23,
   "metadata": {
    "collapsed": true
   },
   "outputs": [],
   "source": [
    "first_idx = data.groupby(['PID'])['Visit Date'].transform(min) == data['Visit Date']"
   ]
  },
  {
   "cell_type": "code",
   "execution_count": 24,
   "metadata": {
    "collapsed": true
   },
   "outputs": [],
   "source": [
    "first = data[first_idx]"
   ]
  },
  {
   "cell_type": "code",
   "execution_count": 25,
   "metadata": {
    "collapsed": true
   },
   "outputs": [],
   "source": [
    "stis = ['syphilis', 'chlamydia', 'gonorrhea', 'HCV']\n",
    "first['STI_V1'] = first['STIs'].isin(stis)"
   ]
  },
  {
   "cell_type": "code",
   "execution_count": 26,
   "metadata": {
    "collapsed": true
   },
   "outputs": [],
   "source": [
    "rest = data[~first_idx]"
   ]
  },
  {
   "cell_type": "code",
   "execution_count": 27,
   "metadata": {
    "collapsed": true
   },
   "outputs": [],
   "source": [
    "rest['has_sti'] = rest.STIs.isin(stis)"
   ]
  },
  {
   "cell_type": "code",
   "execution_count": 28,
   "metadata": {
    "collapsed": true
   },
   "outputs": [],
   "source": [
    "final = first.set_index('PID')"
   ]
  },
  {
   "cell_type": "code",
   "execution_count": 29,
   "metadata": {
    "collapsed": true
   },
   "outputs": [],
   "source": [
    "final['STI_VN'] = rest.groupby(['PID'])['has_sti'].max()"
   ]
  },
  {
   "cell_type": "code",
   "execution_count": 30,
   "metadata": {},
   "outputs": [
    {
     "data": {
      "text/plain": [
       "0.5044786714379604"
      ]
     },
     "execution_count": 30,
     "metadata": {},
     "output_type": "execute_result"
    }
   ],
   "source": [
    "final['STI_V1'].corr(final['STI_VN'], method='spearman')"
   ]
  },
  {
   "cell_type": "code",
   "execution_count": 31,
   "metadata": {
    "collapsed": true
   },
   "outputs": [],
   "source": [
    "from scipy.stats import chi2_contingency"
   ]
  },
  {
   "cell_type": "code",
   "execution_count": 32,
   "metadata": {},
   "outputs": [
    {
     "data": {
      "text/html": [
       "<div>\n",
       "<style scoped>\n",
       "    .dataframe tbody tr th:only-of-type {\n",
       "        vertical-align: middle;\n",
       "    }\n",
       "\n",
       "    .dataframe tbody tr th {\n",
       "        vertical-align: top;\n",
       "    }\n",
       "\n",
       "    .dataframe thead th {\n",
       "        text-align: right;\n",
       "    }\n",
       "</style>\n",
       "<table border=\"1\" class=\"dataframe\">\n",
       "  <thead>\n",
       "    <tr style=\"text-align: right;\">\n",
       "      <th>STI_VN</th>\n",
       "      <th>False</th>\n",
       "      <th>True</th>\n",
       "    </tr>\n",
       "    <tr>\n",
       "      <th>STI_V1</th>\n",
       "      <th></th>\n",
       "      <th></th>\n",
       "    </tr>\n",
       "  </thead>\n",
       "  <tbody>\n",
       "    <tr>\n",
       "      <th>False</th>\n",
       "      <td>89</td>\n",
       "      <td>17</td>\n",
       "    </tr>\n",
       "    <tr>\n",
       "      <th>True</th>\n",
       "      <td>12</td>\n",
       "      <td>26</td>\n",
       "    </tr>\n",
       "  </tbody>\n",
       "</table>\n",
       "</div>"
      ],
      "text/plain": [
       "STI_VN  False  True \n",
       "STI_V1              \n",
       "False      89     17\n",
       "True       12     26"
      ]
     },
     "execution_count": 32,
     "metadata": {},
     "output_type": "execute_result"
    }
   ],
   "source": [
    "table = pd.crosstab(final.STI_V1, final.STI_VN)\n",
    "table"
   ]
  },
  {
   "cell_type": "code",
   "execution_count": 33,
   "metadata": {
    "collapsed": true
   },
   "outputs": [],
   "source": [
    "c, p, dof, expected = chi2_contingency(table)"
   ]
  },
  {
   "cell_type": "code",
   "execution_count": 34,
   "metadata": {},
   "outputs": [
    {
     "data": {
      "text/plain": [
       "5.000040406617746e-09"
      ]
     },
     "execution_count": 34,
     "metadata": {},
     "output_type": "execute_result"
    }
   ],
   "source": [
    "p"
   ]
  }
 ],
 "metadata": {
  "kernelspec": {
   "display_name": "Python 3",
   "language": "python",
   "name": "python3"
  },
  "language_info": {
   "codemirror_mode": {
    "name": "ipython",
    "version": 3
   },
   "file_extension": ".py",
   "mimetype": "text/x-python",
   "name": "python",
   "nbconvert_exporter": "python",
   "pygments_lexer": "ipython3",
   "version": "3.6.1"
  }
 },
 "nbformat": 4,
 "nbformat_minor": 2
}
