{
 "cells": [
  {
   "cell_type": "markdown",
   "metadata": {},
   "source": [
    "# Supplementary Practice Problems\n",
    "\n",
    "These are similar to programming problems you may encounter in the mid-terms. They are not graded but we will review them in lab sessions."
   ]
  },
  {
   "cell_type": "markdown",
   "metadata": {},
   "source": [
    "**1**. (10 points) Normalize the $3 \\times 4$ diagonal matrix with diagonal (1, ,2, 3) so all rows have mean 0 and standard deviation 1. The matrix has 0 everywhere not on the diagonal."
   ]
  },
  {
   "cell_type": "code",
   "execution_count": null,
   "metadata": {
    "collapsed": true
   },
   "outputs": [],
   "source": []
  },
  {
   "cell_type": "markdown",
   "metadata": {},
   "source": [
    "**2**. (10 points) A fixed point of a funciton is a value that remains the same when the funciton is applied to it, that is $f(x) = x$. Write a function that finds the fixed poitn of another function $f$ given an intiial value $x_0$. For example, if\n",
    "\n",
    "$$f(x) \\rightarrow \\sqrt{x}$$\n",
    "\n",
    "and \n",
    "\n",
    "$x_0$ is any positive real number, then the function should return 1 since\n",
    "\n",
    "$$\\sqrt{1} = 1$$\n",
    "\n",
    "Not all funcitons have a fixed point - if it taakes over 1,000 iterations, the fucntion shold return None.\n",
    "\n",
    "- Use the function signature `fixed_point(f, x0, max_iter=1000)`. \n",
    "- Test with `fixed_point(np.sqrt, 10)`."
   ]
  },
  {
   "cell_type": "code",
   "execution_count": null,
   "metadata": {
    "collapsed": true
   },
   "outputs": [],
   "source": []
  },
  {
   "cell_type": "markdown",
   "metadata": {},
   "source": [
    "**3**. (10 points) Use `np.fromfunction` to construc the following matrices\n",
    "\n",
    "```python\n",
    "array([[5, 0, 0, 0, 5],\n",
    "       [0, 4, 0, 4, 0],\n",
    "       [0, 0, 3, 0, 0],\n",
    "       [0, 2, 0, 2, 0],\n",
    "       [1, 0, 0, 0, 1]])\n",
    "```\n",
    "\n",
    "```python\n",
    "array([[0, 1, 0, 0, 0, 0],\n",
    "       [1, 0, 1, 0, 0, 0],\n",
    "       [0, 1, 0, 1, 0, 0],\n",
    "       [0, 0, 1, 0, 1, 0],\n",
    "       [0, 0, 0, 1, 0, 1],\n",
    "       [0, 0, 0, 0, 1, 0]])\n",
    "```\n",
    "\n",
    "```python\n",
    "array([[6, 5, 4, 3, 4, 5, 6],\n",
    "       [5, 4, 3, 2, 3, 4, 5],\n",
    "       [4, 3, 2, 1, 2, 3, 4],\n",
    "       [3, 2, 1, 0, 1, 2, 3],\n",
    "       [4, 3, 2, 1, 2, 3, 4],\n",
    "       [5, 4, 3, 2, 3, 4, 5],\n",
    "       [6, 5, 4, 3, 4, 5, 6]])\n",
    "```"
   ]
  },
  {
   "cell_type": "code",
   "execution_count": null,
   "metadata": {
    "collapsed": true
   },
   "outputs": [],
   "source": []
  },
  {
   "cell_type": "markdown",
   "metadata": {},
   "source": [
    "**4**. (10 points) Read the `mtcars` data frame from R to a `pandas` DataFrame. Find the mean `wt` and `mpg` for all cars grouped by the number of `gear`s."
   ]
  },
  {
   "cell_type": "code",
   "execution_count": null,
   "metadata": {
    "collapsed": true
   },
   "outputs": [],
   "source": []
  },
  {
   "cell_type": "markdown",
   "metadata": {},
   "source": [
    "**5**. (10 points) The QQ (Quirkiness Quotient) has a normal distribution with $\\mu$ = 100 and $\\sigma$ = 20. If your QQ is at the 92nd percentile, what is your QQ? \n",
    "\n",
    "- Solve this analytically using some distribution function\n",
    "- Solve this using a simulation of 1,000,000 people\n",
    "- Plot the QQ PDF for QQs between 40 and 160 as a blue curve, shading the region below your QQ in blue with 50% transparency."
   ]
  },
  {
   "cell_type": "code",
   "execution_count": null,
   "metadata": {
    "collapsed": true
   },
   "outputs": [],
   "source": []
  },
  {
   "cell_type": "markdown",
   "metadata": {},
   "source": [
    "**6**. (10 points) Simulate $n$ coin toss experiments, in which you toss a coin $k$ times for each experiment. Find the maximum run length of heads (e.g. the sequence `T,T,H,H,H,T,H,H` has a maximum run length of 3 heads in each experiment. "
   ]
  },
  {
   "cell_type": "code",
   "execution_count": null,
   "metadata": {
    "collapsed": true
   },
   "outputs": [],
   "source": []
  },
  {
   "cell_type": "markdown",
   "metadata": {},
   "source": [
    "**7**. (10 points) Use the DNA sequence given below to answer these questions:\n",
    "\n",
    "- Generate all sequences formed using a shifting window of size 3 and print the sequence with the highest count. If there are ties, print all the tied sequences. Do not use any import statement."
   ]
  },
  {
   "cell_type": "code",
   "execution_count": null,
   "metadata": {
    "collapsed": true
   },
   "outputs": [],
   "source": [
    "dna = '''\n",
    "TCGGATGATTGCACTTATTCTCCGTTTGTTTGTGTGTTGCTGGGGGGGGACGCCTGCACGCTGTTCCAGTGCGTCGTCGT\n",
    "ATCTTGGTTTGCCTCGGGGGGTGGGGCTGGAGCCTACCAGGTGTCGGTCGGATGTTTTGTCTCTGTGTGTCGAGGGTCGT\n",
    "GTGGAGTCCCGGCGGGTGGGTGCTGCTGGGTGGTTGACACAGTGCGTGGTGGGTGCTTCAGCGGGGGGTGCCTCGCGCGT\n",
    "GGCTGGGGTGTTGTAGTTGTCGTTTGGAAAGTGTGCGGCATAGGGGGGATGAAATCCGGTTGACCAAGATTCGGGTCGCG\n",
    "TTTGGGGATTAGGATAGTTGGGTTTGGAAGGCGCGGGTATTGCCCACGTTCTTTGGCGGGGCGAGGGTGTTGGTACTCCA\n",
    "TGTCCAGGCCGCTTGCCTACGGACTGTAGAGGTTCGGGAGGCGCTGGCCGGCGTGTGTTCCCTAGGTTTTGAGATAAGAG\n",
    "'''"
   ]
  },
  {
   "cell_type": "code",
   "execution_count": null,
   "metadata": {
    "collapsed": true
   },
   "outputs": [],
   "source": []
  },
  {
   "cell_type": "markdown",
   "metadata": {},
   "source": [
    "**8**. (10 points) Ignore spaces, case and punctuation when finding palindromes. Write code to find the palindromes among the 12 phrases below, returning the phrases that are palindromes in a list.\n",
    "\n",
    "```\n",
    "Daedalus: nine. Peninsula: dead.\n",
    "Dammit, I'm mad!\n",
    "Deliver me from evil.\n",
    "Dennis and Edna sinned.\n",
    "Devil never even lived.\n",
    "Deviled eggs sure taste good.\n",
    "Did Hannah see bees? Hannah did.\n",
    "Do geese see God?\n",
    "Do mice see God?\n",
    "Dogma: I am God\n",
    "Dogma: DNA makdes RNA makes protein.\n",
    "Dubya won? No way, bud.\n",
    "```"
   ]
  },
  {
   "cell_type": "code",
   "execution_count": null,
   "metadata": {
    "collapsed": true
   },
   "outputs": [],
   "source": []
  }
 ],
 "metadata": {
  "kernelspec": {
   "display_name": "Python 3",
   "language": "python",
   "name": "python3"
  },
  "language_info": {
   "codemirror_mode": {
    "name": "ipython",
    "version": 3
   },
   "file_extension": ".py",
   "mimetype": "text/x-python",
   "name": "python",
   "nbconvert_exporter": "python",
   "pygments_lexer": "ipython3",
   "version": "3.6.1"
  }
 },
 "nbformat": 4,
 "nbformat_minor": 2
}
