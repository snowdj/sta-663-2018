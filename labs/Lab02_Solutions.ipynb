{
 "cells": [
  {
   "cell_type": "markdown",
   "metadata": {},
   "source": [
    "**Brief Honor Code**. Do the homework on your own. You may discuss ideas with your classmates, but DO NOT copy the solutions from someone else or the Internet. If stuck, discuss with TA."
   ]
  },
  {
   "cell_type": "markdown",
   "metadata": {},
   "source": [
    "**1**. (10 points) \n",
    "\n",
    "Rewrite the following code into functional form using lambdas, map, filter and reduce."
   ]
  },
  {
   "cell_type": "code",
   "execution_count": 1,
   "metadata": {},
   "outputs": [
    {
     "data": {
      "text/plain": [
       "123"
      ]
     },
     "execution_count": 1,
     "metadata": {},
     "output_type": "execute_result"
    }
   ],
   "source": [
    "n = 10\n",
    "s = 10\n",
    "for i in range(n):\n",
    "    if i % 2:\n",
    "        s |= i**2\n",
    "s"
   ]
  },
  {
   "cell_type": "code",
   "execution_count": 2,
   "metadata": {
    "collapsed": true
   },
   "outputs": [],
   "source": [
    "from functools import reduce\n",
    "from operator import or_"
   ]
  },
  {
   "cell_type": "code",
   "execution_count": 3,
   "metadata": {},
   "outputs": [
    {
     "data": {
      "text/plain": [
       "123"
      ]
     },
     "execution_count": 3,
     "metadata": {},
     "output_type": "execute_result"
    }
   ],
   "source": [
    "n = 10\n",
    "reduce(or_, map(lambda x: x**2, filter(lambda i: i %2, range(n))), 10)"
   ]
  },
  {
   "cell_type": "markdown",
   "metadata": {},
   "source": [
    "**2**. (10 points)\n",
    "\n",
    "Rewrite the code above as a `toolz` pipeline, using lambdas and curried or partially applied functions as necessary."
   ]
  },
  {
   "cell_type": "code",
   "execution_count": 4,
   "metadata": {
    "collapsed": true
   },
   "outputs": [],
   "source": [
    "import toolz as tz\n",
    "import toolz.curried as c"
   ]
  },
  {
   "cell_type": "code",
   "execution_count": 5,
   "metadata": {},
   "outputs": [
    {
     "data": {
      "text/plain": [
       "123"
      ]
     },
     "execution_count": 5,
     "metadata": {},
     "output_type": "execute_result"
    }
   ],
   "source": [
    "n = 10\n",
    "s = 10\n",
    "tz.pipe(\n",
    "    range(n),\n",
    "    c.filter(lambda i: i % 2),\n",
    "    c.map(lambda x: x**2),\n",
    "    lambda x: c.reduce(or_, x, s)\n",
    ")"
   ]
  },
  {
   "cell_type": "markdown",
   "metadata": {},
   "source": [
    "#### Alternative"
   ]
  },
  {
   "cell_type": "code",
   "execution_count": 6,
   "metadata": {},
   "outputs": [
    {
     "data": {
      "text/plain": [
       "123"
      ]
     },
     "execution_count": 6,
     "metadata": {},
     "output_type": "execute_result"
    }
   ],
   "source": [
    "n = 10\n",
    "s = 10\n",
    "tz.pipe(\n",
    "    range(n),\n",
    "    c.filter(lambda i: i%2),\n",
    "    c.map(lambda x: x**2),\n",
    "    tz.flip(c.reduce(or_))(s)\n",
    ")"
   ]
  },
  {
   "cell_type": "markdown",
   "metadata": {},
   "source": [
    "**3**. (10 points) \n",
    "\n",
    "Repeat the Buffon's needle simulation from Lab01 as a function that takes the number of needels `n` as input and returns the estimate of $\\pi$. The function should use `numpy` and vectorization. "
   ]
  },
  {
   "cell_type": "code",
   "execution_count": 7,
   "metadata": {
    "collapsed": true
   },
   "outputs": [],
   "source": [
    "import numpy as np\n",
    "\n",
    "def buffon(n):\n",
    "    \"\"\"Estimate pi using Buffon's needle simulation for n needels.\"\"\"\n",
    "    \n",
    "    y = np.random.random(n)\n",
    "    theta = np.random.uniform(0, np.pi, n)\n",
    "    upper = y + 0.5*np.sin(theta)\n",
    "    lower = y - 0.5*np.sin(theta)\n",
    "    p = np.sum(np.where((lower < 0) | (upper > 1), 1, 0))/n\n",
    "    pi = 2/p\n",
    "    return pi"
   ]
  },
  {
   "cell_type": "code",
   "execution_count": 8,
   "metadata": {},
   "outputs": [
    {
     "data": {
      "text/plain": [
       "3.1383133135096544"
      ]
     },
     "execution_count": 8,
     "metadata": {},
     "output_type": "execute_result"
    }
   ],
   "source": [
    "buffon(int(1e6))"
   ]
  },
  {
   "cell_type": "markdown",
   "metadata": {},
   "source": [
    "**4**. (20 points) \n",
    "\n",
    "Simpsons rule is given by the follwoing approximation\n",
    "\n",
    "![Simpsons](https://wikimedia.org/api/rest_v1/media/math/render/svg/a0cdf0804bb8810e4438cbea898dc7a2fedb3e57)\n",
    "\n",
    "- Write Simpsons rule as a function `simpsons(f, a, b, n=100)` where n is the number of equally spaced intervals from `a` to `b`.  (10 points)\n",
    "- Use this function to estimate the probability mass of the standard normal distribution between -1 and 1. Implement the PDF of the standard normal distribution $\\psi(x)$ as a function. (10 points)\n",
    "\n",
    "$$\n",
    "\\psi(x) = \\frac{1}{\\sqrt{2\\pi}}e^{-\\frac{1}{2}x^2}\n",
    "$$"
   ]
  },
  {
   "cell_type": "code",
   "execution_count": 9,
   "metadata": {
    "collapsed": true
   },
   "outputs": [],
   "source": [
    "def simpsons(f, a, b, n=100):\n",
    "    \"\"\"Simpson's rule.\"\"\"\n",
    "    \n",
    "    x = np.linspace(a, b, n+1)\n",
    "    h = (b-a)/n\n",
    "    return (h/3)*(f(x[0]) + 2*np.sum(f(x[2:-1:2])) + 4*np.sum(f(x[1::2])) + f(x[-1]))"
   ]
  },
  {
   "cell_type": "code",
   "execution_count": 10,
   "metadata": {
    "collapsed": true
   },
   "outputs": [],
   "source": [
    "def standard_normal_pdf(x):\n",
    "    \"\"\"PDF of standard normal distribution.\"\"\"\n",
    "    \n",
    "    return 1.0/np.sqrt(2*np.pi) * np.exp(-x**2/2)"
   ]
  },
  {
   "cell_type": "code",
   "execution_count": 11,
   "metadata": {},
   "outputs": [
    {
     "data": {
      "text/plain": [
       "0.6826894929975491"
      ]
     },
     "execution_count": 11,
     "metadata": {},
     "output_type": "execute_result"
    }
   ],
   "source": [
    "simpsons(standard_normal_pdf, -1, 1)"
   ]
  },
  {
   "cell_type": "markdown",
   "metadata": {},
   "source": [
    "**5**. (50 points)\n",
    "\n",
    "Write code to generate a plot similar to the following \n",
    "\n",
    "![automata](figs/automata1d.png)\n",
    "\n",
    "using the explanation for generation of 1D Cellular Automata found [here](http://mathworld.wolfram.com/ElementaryCellularAutomaton.html). You should only need to use standard Python, `numpy` and `matplotllib`.\n",
    "\n",
    "The input to the function making the plots should be a simple list of rules\n",
    "\n",
    "```python\n",
    "rules = [30, 54, 60, 62, 90, 94, 102, 110, 122, 126, \n",
    "         150, 158, 182, 188, 190, 220, 222, 250]\n",
    "make_plots(rules, niter, ncols)\n",
    "```\n",
    "\n",
    "You may, of course, write other helper functions to keep your code modular."
   ]
  },
  {
   "cell_type": "code",
   "execution_count": 12,
   "metadata": {
    "collapsed": true
   },
   "outputs": [],
   "source": [
    "import numpy as np"
   ]
  },
  {
   "cell_type": "code",
   "execution_count": 13,
   "metadata": {
    "collapsed": true
   },
   "outputs": [],
   "source": [
    "def make_map(rule):\n",
    "    \"\"\"Convert an integer into a rule mapping nbr states to new state.\"\"\"\n",
    "    bits = map(int, list(bin(rule)[2:].zfill(8)))\n",
    "    return dict(zip(range(7, -1, -1), bits))"
   ]
  },
  {
   "cell_type": "code",
   "execution_count": 14,
   "metadata": {
    "collapsed": true
   },
   "outputs": [],
   "source": [
    "def make_ca(rule, init, niters):\n",
    "    \"\"\"Run a 1d CA from init state for niters for given rule.\"\"\"\n",
    "    \n",
    "    mapper = make_map(rule)\n",
    "    grid = np.zeros((niters, len(init)), 'int')\n",
    "    grid[0] = init\n",
    "    old = np.r_[init[-1:], init, init[0:1]]\n",
    "    for i in range(1, niters):\n",
    "        nbrs = zip(old[0:], old[1:], old[2:])\n",
    "        cells = (int(''.join(map(str, nbr)), base=2) for nbr in nbrs)\n",
    "        new = np.array([mapper[cell] for cell in cells])\n",
    "        grid[i] = new\n",
    "        old = np.r_[new[-1:], new, new[0:1]]\n",
    "    return grid"
   ]
  },
  {
   "cell_type": "markdown",
   "metadata": {},
   "source": [
    "#### Alternative version"
   ]
  },
  {
   "cell_type": "code",
   "execution_count": 15,
   "metadata": {
    "collapsed": true
   },
   "outputs": [],
   "source": [
    "def to_binary(n, width):\n",
    "    \"\"\"Returns vector of size=width containing binnary represention of n.\"\"\"\n",
    "    assert(n < 2**width)\n",
    "    \n",
    "    xs = np.zeros(width, int)\n",
    "    for i in range(width):\n",
    "        n, m = n // 2, n % 2 # or divmod(n, 2)\n",
    "        xs[width-i-1] = m\n",
    "    return xs\n",
    "\n",
    "def make_map_alt(rule):\n",
    "    \"\"\"Convert an integer into a rule mapping nbr states to new state.\"\"\"\n",
    "    \n",
    "    bits = to_binary(rule, 8)[::-1]\n",
    "    nbrs = [tuple(to_binary(i, 3)) for i in range(8)]\n",
    "    return dict(zip(nbrs, bits))\n",
    "\n",
    "def make_ca_alt(rule, init, niters):\n",
    "    \"\"\"Run a 1d CA from init state for niters for given rule.\"\"\"\n",
    "    \n",
    "    mapper = make_map_alt(rule)\n",
    "    grid = np.zeros((niters, 2+len(init)), 'int')\n",
    "    grid[0, 1:-1] = init\n",
    "    for i in range(1, niters):\n",
    "        nbrs = zip(grid[i-1, 0:], grid[i-1, 1:], grid[i-1, 2:])\n",
    "        grid[i, 1:-1] = [mapper[nbr] for nbr in nbrs]\n",
    "    return grid[:, 1:-1]"
   ]
  },
  {
   "cell_type": "code",
   "execution_count": 16,
   "metadata": {
    "collapsed": true
   },
   "outputs": [],
   "source": [
    "%matplotlib inline\n",
    "import matplotlib.pyplot as plt\n",
    "from matplotlib.ticker import NullFormatter, IndexLocator"
   ]
  },
  {
   "cell_type": "code",
   "execution_count": 17,
   "metadata": {
    "collapsed": true
   },
   "outputs": [],
   "source": [
    "def plot_grid(rule, grid, ax=None):\n",
    "    if ax is None:\n",
    "        ax = plt.subplot(111)\n",
    "    ax.imshow(grid, interpolation='none', cmap='Greys', aspect=1, alpha=0.8)\n",
    "    ax.set_title('Rule %d' % rule)\n",
    "    \n",
    "    # Code below is nice to have to make the plot prettier\n",
    "    ax.grid(True, which='major', color='grey', linewidth=0.5)\n",
    "    ax.xaxis.set_major_locator(IndexLocator(1, 0))\n",
    "    ax.yaxis.set_major_locator(IndexLocator(1, 0))\n",
    "    ax.xaxis.set_major_formatter( NullFormatter() )\n",
    "    ax.yaxis.set_major_formatter( NullFormatter() )\n",
    "    ax.xaxis.set_ticks_position('none')\n",
    "    ax.yaxis.set_ticks_position('none')"
   ]
  },
  {
   "cell_type": "code",
   "execution_count": 18,
   "metadata": {
    "collapsed": true
   },
   "outputs": [],
   "source": [
    "def make_plots(rules, niter, ncols, builder=make_ca):\n",
    "    \"\"\"Make a plot of Wolfram automata from rules.\"\"\"\n",
    "\n",
    "    width = niter*2+1\n",
    "    init = np.zeros(width, 'int')\n",
    "    init[width//2] = 1\n",
    "\n",
    "    nrows = (len(rules)+ncols-1)//ncols\n",
    "    fig, axes = plt.subplots(nrows, ncols, figsize=(ncols*3, nrows*2))\n",
    "    for i in range(nrows):\n",
    "        for j in range(ncols):\n",
    "            grid = builder(rules[i*ncols+j], init, niter)\n",
    "            plot_grid(rules[i*ncols + j], grid, ax=axes[i,j])\n",
    "    plt.tight_layout()"
   ]
  },
  {
   "cell_type": "code",
   "execution_count": 19,
   "metadata": {},
   "outputs": [
    {
     "data": {
      "image/png": "[encoded data removed]",
      "text/plain": [
       "<matplotlib.figure.Figure at 0x112e84278>"
      ]
     },
     "metadata": {},
     "output_type": "display_data"
    }
   ],
   "source": [
    "rules = [30, 54, 60, 62, 90, 94, 102, 110, 122, 126, \n",
    "         150, 158, 182, 188, 190, 220, 222, 250]\n",
    "niter = 15\n",
    "ncols = 3\n",
    "make_plots(rules, niter, ncols)"
   ]
  },
  {
   "cell_type": "code",
   "execution_count": 20,
   "metadata": {},
   "outputs": [
    {
     "data": {
      "image/png": "[encoded data removed]",
      "text/plain": [
       "<matplotlib.figure.Figure at 0x112e84860>"
      ]
     },
     "metadata": {},
     "output_type": "display_data"
    }
   ],
   "source": [
    "make_plots(rules, niter, ncols, builder=make_ca_alt)"
   ]
  },
  {
   "cell_type": "code",
   "execution_count": null,
   "metadata": {
    "collapsed": true
   },
   "outputs": [],
   "source": []
  }
 ],
 "metadata": {
  "kernelspec": {
   "display_name": "Python 3",
   "language": "python",
   "name": "python3"
  },
  "language_info": {
   "codemirror_mode": {
    "name": "ipython",
    "version": 3
   },
   "file_extension": ".py",
   "mimetype": "text/x-python",
   "name": "python",
   "nbconvert_exporter": "python",
   "pygments_lexer": "ipython3",
   "version": "3.6.1"
  }
 },
 "nbformat": 4,
 "nbformat_minor": 2
}
