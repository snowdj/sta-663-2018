{
 "cells": [
  {
   "cell_type": "markdown",
   "metadata": {},
   "source": [
    "# Lab01: Python data types, collections and flow control"
   ]
  },
  {
   "cell_type": "markdown",
   "metadata": {},
   "source": [
    "For this first set of exercises, we want to practice using only Python standard libaries. In particular, do not include `numpy`. Use `math` and `random` instead."
   ]
  },
  {
   "cell_type": "markdown",
   "metadata": {},
   "source": [
    "**1**. Make a list of the first 10 odd square numbers. (10 points)"
   ]
  },
  {
   "cell_type": "code",
   "execution_count": null,
   "metadata": {},
   "outputs": [],
   "source": []
  },
  {
   "cell_type": "markdown",
   "metadata": {},
   "source": [
    "**2**. Some code is given below to generate two long lists of random interges. Find the integers present in both lists. (10 points)"
   ]
  },
  {
   "cell_type": "code",
   "execution_count": 22,
   "metadata": {},
   "outputs": [],
   "source": [
    "import random\n",
    "\n",
    "random.seed(123)\n",
    "\n",
    "lower = 0\n",
    "upper = 100000\n",
    "n = 1000\n",
    "\n",
    "x = [random.randint(lower, upper) for i in range(n)]\n",
    "y = [random.randint(lower, upper) for i in range(n)]"
   ]
  },
  {
   "cell_type": "code",
   "execution_count": null,
   "metadata": {},
   "outputs": [],
   "source": []
  },
  {
   "cell_type": "markdown",
   "metadata": {},
   "source": [
    "**3**. Make a list of the first 100 [triangular numbers](https://en.wikipedia.org/wiki/Triangular_number) starting from 0. (20 points)"
   ]
  },
  {
   "cell_type": "code",
   "execution_count": null,
   "metadata": {},
   "outputs": [],
   "source": []
  },
  {
   "cell_type": "markdown",
   "metadata": {},
   "source": [
    "**4**. A DNA seqeunce is provided below. It should be treated as a single seqeunce - it is borken into multiple lines for display purposes.\n",
    "\n",
    "- Find the ratio of the base 'G' to the base 'C'\n",
    "- What is the reverse complement of the DNA sequence? (The complementary bases are A=T, C=G)\n",
    "- Make a dictionary of counts for each letter in the sequence. Do not count the newline character.\n",
    "\n",
    "(20 points)"
   ]
  },
  {
   "cell_type": "code",
   "execution_count": 37,
   "metadata": {},
   "outputs": [],
   "source": [
    "dna = \"\"\"\n",
    "TTTAAATTCCCTGGCACCCGCTGGAGTTCTCGATTTCGAC\n",
    "CAACCACGACGGTGTGATTCTGAATGTAGTTAGTATCTAC\n",
    "CCAGAGCTCAGGTCATATCGCGCCAAGCATAAAGGTGGCT\n",
    "GTTGAAAGTCGATGTCCGTATAAGTTCCGTTTCCTAATGA\n",
    "AACTGCTACGTAAGTCTAAAGTTATGAGCGCGGGCCGGGT\n",
    "TAAGGAAGCCCTACGGTTACTATATTACGCCAATATTTCT\n",
    "CATTCCCTTGCTTTGTTGATTAGGACAGAGGTCACCACAC\n",
    "CCGGAAGCCCGGTTCACGAGCTCCATCCAACGAGCCTTGC\n",
    "GAGGTATCGAGCAAACCAATATACTGCTAGGATCCGGTCT\n",
    "GGCGTTTTACCCCCATGAGATATAGTCCAGGTACTAAAAC\n",
    "CCTTCACCAGGGCAGAAGCGGGGTATACGCTGCCTACTCG\n",
    "TCATACAATTTCGGCTGGAGTTCGGTACGATAGACCGAGT\n",
    "CTGTCGGATACCCGGAAGAGTCACTCTGAAGTTGTACGAG\n",
    "GTGACTAGCTCAAAAGGAAGGGCGAAGAATGGTATGGTAC\n",
    "TCTAGAGCAGGCCATCTTTTACATAGGGCCCTTTGTTACC\n",
    "TTATGTAATGAACGTGGGAGCCCCGGACGTAAATTCTTTA\n",
    "GTCTCCCTAGACGCGTGGTCCCCACTAAATATACATGGTG\n",
    "AGCATCGCAGATACATGGCTTATCGAGGCCCGGGTCGTCA\n",
    "GAAAACGCGGTAAGTCATACGCATGTGCGGCGAATTAGCT\n",
    "TAGGGTGCGCATCTTCAAGCGGAAGTTCCCCCCGAGTGTC\n",
    "GACGCGTTCGTGCCATTAAAGCGTCTTCGAGTACGAATTA\n",
    "GACCAAGTCTGACGAAATTGCCTGAAGTTATAGGGGAAGT\n",
    "AGTCGAAGGGGACGGAGAACTTGTGAATCATAGCGCATGA\n",
    "GGAGATTAAGTCGGTTCATCAGCGTAACCACTTTAACCAC\n",
    "TAGTACGACCCCTGGATGAGTATTGTTCGTGTGTTTCCTC\n",
    "\"\"\""
   ]
  },
  {
   "cell_type": "code",
   "execution_count": null,
   "metadata": {},
   "outputs": [],
   "source": []
  },
  {
   "cell_type": "code",
   "execution_count": null,
   "metadata": {},
   "outputs": [],
   "source": []
  },
  {
   "cell_type": "code",
   "execution_count": null,
   "metadata": {},
   "outputs": [],
   "source": []
  },
  {
   "cell_type": "markdown",
   "metadata": {},
   "source": [
    "**5**. Buffon's needle is a mathematical thought experiment.\n",
    "\n",
    "Suppose there exist an infinite number of equally spaced parallel lines, and we were to randomly toss a needle whose length is less than or equal to the distance between adjacent lines. What is the probability that the needle will cross a line? The formula is \n",
    "$P = \\frac{2L}{\\pi D}$, where $D$ is the distance between two adjacent lines, and $L$ is the length of the needle.\n",
    "\n",
    "[Source: Wikipedia](https://en.wikipedia.org/wiki/Buffon%27s_noodle)\n",
    "\n",
    "Use a Monte Carlo simulaiton and elemntary trignometry to esitmate $\\pi$ using Buffon's needle by dropping 1 million  needles. (40 points)"
   ]
  },
  {
   "cell_type": "code",
   "execution_count": null,
   "metadata": {},
   "outputs": [],
   "source": []
  }
 ],
 "metadata": {
  "kernelspec": {
   "display_name": "Python 3",
   "language": "python",
   "name": "python3"
  },
  "language_info": {
   "codemirror_mode": {
    "name": "ipython",
    "version": 3
   },
   "file_extension": ".py",
   "mimetype": "text/x-python",
   "name": "python",
   "nbconvert_exporter": "python",
   "pygments_lexer": "ipython3",
   "version": "3.6.5"
  }
 },
 "nbformat": 4,
 "nbformat_minor": 2
}
