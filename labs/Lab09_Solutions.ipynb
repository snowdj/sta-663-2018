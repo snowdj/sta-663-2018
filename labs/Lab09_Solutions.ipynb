{
 "cells": [
  {
   "cell_type": "markdown",
   "metadata": {},
   "source": [
    "**1.** (10 points)\n",
    "\n",
    "Use loop to generate the 12 by 12 times table. Compile and run. You don't have to worry much about formatting, but the output should have 12 rows with numbers separated by spaces."
   ]
  },
  {
   "cell_type": "code",
   "execution_count": 1,
   "metadata": {},
   "outputs": [
    {
     "name": "stdout",
     "output_type": "stream",
     "text": [
      "Overwriting e1.cpp\n"
     ]
    }
   ],
   "source": [
    "%%file e1.cpp\n",
    "\n",
    "#include <iostream>\n",
    "using std::cout;\n",
    "\n",
    "int main() {\n",
    "    for (int i=1; i<=12; i++) {\n",
    "        for (int j=1; j<=12; j++) {\n",
    "            cout << i*j << \"\\t\";\n",
    "        }\n",
    "        cout << \"\\n\";\n",
    "    }\n",
    "}"
   ]
  },
  {
   "cell_type": "code",
   "execution_count": 2,
   "metadata": {
    "collapsed": true
   },
   "outputs": [],
   "source": [
    "%%bash\n",
    "\n",
    "g++ -o e1.exe e1.cpp"
   ]
  },
  {
   "cell_type": "code",
   "execution_count": 3,
   "metadata": {},
   "outputs": [
    {
     "name": "stdout",
     "output_type": "stream",
     "text": [
      "1\t2\t3\t4\t5\t6\t7\t8\t9\t10\t11\t12\t\n",
      "2\t4\t6\t8\t10\t12\t14\t16\t18\t20\t22\t24\t\n",
      "3\t6\t9\t12\t15\t18\t21\t24\t27\t30\t33\t36\t\n",
      "4\t8\t12\t16\t20\t24\t28\t32\t36\t40\t44\t48\t\n",
      "5\t10\t15\t20\t25\t30\t35\t40\t45\t50\t55\t60\t\n",
      "6\t12\t18\t24\t30\t36\t42\t48\t54\t60\t66\t72\t\n",
      "7\t14\t21\t28\t35\t42\t49\t56\t63\t70\t77\t84\t\n",
      "8\t16\t24\t32\t40\t48\t56\t64\t72\t80\t88\t96\t\n",
      "9\t18\t27\t36\t45\t54\t63\t72\t81\t90\t99\t108\t\n",
      "10\t20\t30\t40\t50\t60\t70\t80\t90\t100\t110\t120\t\n",
      "11\t22\t33\t44\t55\t66\t77\t88\t99\t110\t121\t132\t\n",
      "12\t24\t36\t48\t60\t72\t84\t96\t108\t120\t132\t144\t\n"
     ]
    }
   ],
   "source": [
    "%%bash\n",
    "\n",
    "./e1.exe"
   ]
  },
  {
   "cell_type": "markdown",
   "metadata": {},
   "source": [
    "**2.** (10 points)\n",
    " \n",
    "Write a function that takes a vector of doubles  returns the squared vector. Compile and run the function with the initial vector containing 1.0, 2.0, 3.0, 4.0, 5.0."
   ]
  },
  {
   "cell_type": "code",
   "execution_count": 4,
   "metadata": {},
   "outputs": [
    {
     "name": "stdout",
     "output_type": "stream",
     "text": [
      "Overwriting e2.cpp\n"
     ]
    }
   ],
   "source": [
    "%%file e2.cpp\n",
    "\n",
    "#include <iostream>\n",
    "#include <vector>\n",
    "using std::cout;\n",
    "using std::vector;\n",
    "\n",
    "vector<double> f(vector<double> xs) {\n",
    "    vector<double> res;\n",
    "    for (auto x: xs) {\n",
    "        res.push_back(x*x);\n",
    "    }\n",
    "    return res;\n",
    "}\n",
    "\n",
    "int main() {\n",
    "    vector<double> xs = {1,2,3,4,5};\n",
    "    vector<double> ys = f(xs);\n",
    "    for (auto y: ys) {\n",
    "        cout << y << \"\\n\";\n",
    "    }\n",
    "}"
   ]
  },
  {
   "cell_type": "code",
   "execution_count": 5,
   "metadata": {
    "collapsed": true
   },
   "outputs": [],
   "source": [
    "%%bash\n",
    "\n",
    "g++ -o e2.exe e2.cpp -std=c++14"
   ]
  },
  {
   "cell_type": "code",
   "execution_count": 6,
   "metadata": {},
   "outputs": [
    {
     "name": "stdout",
     "output_type": "stream",
     "text": [
      "1\n",
      "4\n",
      "9\n",
      "16\n",
      "25\n"
     ]
    }
   ],
   "source": [
    "%%bash\n",
    "\n",
    "./e2.exe"
   ]
  },
  {
   "cell_type": "markdown",
   "metadata": {},
   "source": [
    "**3**. (10 points)\n",
    "\n",
    "Convert the function from Exercise 2 so that it works for lists or vectors of ints, floats and doubles."
   ]
  },
  {
   "cell_type": "code",
   "execution_count": 21,
   "metadata": {},
   "outputs": [
    {
     "name": "stdout",
     "output_type": "stream",
     "text": [
      "Overwriting e3.cpp\n"
     ]
    }
   ],
   "source": [
    "%%file e3.cpp\n",
    "\n",
    "#include <iostream>\n",
    "#include <vector>\n",
    "using std::cout;\n",
    "using std::vector;\n",
    "\n",
    "template<typename T>\n",
    "vector<T> f(vector<T> xs) {\n",
    "    vector<T> res;\n",
    "    for (auto x: xs) {\n",
    "        res.push_back(x*x);\n",
    "    }\n",
    "    return res;\n",
    "}\n",
    "\n",
    "int main() {\n",
    "    vector<int> xs = {1,2,3,4,5};\n",
    "    vector<int> ys = f(xs);\n",
    "    for (auto y: ys) {\n",
    "        cout << y << \"\\n\";\n",
    "    }\n",
    "}"
   ]
  },
  {
   "cell_type": "code",
   "execution_count": 22,
   "metadata": {},
   "outputs": [],
   "source": [
    "%%bash\n",
    "\n",
    "g++ -o e3.exe e3.cpp -std=c++14"
   ]
  },
  {
   "cell_type": "code",
   "execution_count": 23,
   "metadata": {},
   "outputs": [
    {
     "name": "stdout",
     "output_type": "stream",
     "text": [
      "1\n",
      "4\n",
      "9\n",
      "16\n",
      "25\n"
     ]
    }
   ],
   "source": [
    "%%bash\n",
    "\n",
    "./e3.exe"
   ]
  },
  {
   "cell_type": "markdown",
   "metadata": {},
   "source": [
    "**4**. (10 pionts)\n",
    "\n",
    "Write a function to calculate the mean of a vector of numbers using `accumulate` from the `<numeric>` library. Compile and test with some vectors."
   ]
  },
  {
   "cell_type": "code",
   "execution_count": 10,
   "metadata": {},
   "outputs": [
    {
     "name": "stdout",
     "output_type": "stream",
     "text": [
      "Overwriting e4.cpp\n"
     ]
    }
   ],
   "source": [
    "%%file e4.cpp\n",
    "\n",
    "#include <iostream>\n",
    "#include <vector>\n",
    "#include <numeric>\n",
    "using std::cout;\n",
    "using std::vector;\n",
    "using std::accumulate;\n",
    "        \n",
    "double mean(vector<double> xs) {\n",
    "    double s = accumulate(xs.begin(), xs.end(), 0);\n",
    "    return s/xs.size();\n",
    "}\n",
    "\n",
    "int main() {\n",
    "    vector<double> xs = {1,2,3,4};\n",
    "    cout << mean(xs) << \"\\n\";   \n",
    "}"
   ]
  },
  {
   "cell_type": "code",
   "execution_count": 11,
   "metadata": {
    "collapsed": true
   },
   "outputs": [],
   "source": [
    "%%bash\n",
    "\n",
    "g++ -o e4.exe e4.cpp -std=c++14"
   ]
  },
  {
   "cell_type": "code",
   "execution_count": 12,
   "metadata": {},
   "outputs": [
    {
     "name": "stdout",
     "output_type": "stream",
     "text": [
      "2.5\n"
     ]
    }
   ],
   "source": [
    "%%bash\n",
    "\n",
    "./e4.exe"
   ]
  },
  {
   "cell_type": "markdown",
   "metadata": {},
   "source": [
    "**5**. (10 points)\n",
    "\n",
    "Generate 1000 random points from the exponential distribution and save as a comma-separated values (CSV) file. Open the file in Python and plot the distribution using `plt.hist`."
   ]
  },
  {
   "cell_type": "code",
   "execution_count": 13,
   "metadata": {},
   "outputs": [
    {
     "name": "stdout",
     "output_type": "stream",
     "text": [
      "Overwriting e5.cpp\n"
     ]
    }
   ],
   "source": [
    "%%file e5.cpp\n",
    "\n",
    "#include <iostream>\n",
    "#include <fstream>\n",
    "#include <random>\n",
    "#include <functional>\n",
    "\n",
    "using std::cout;\n",
    "using std::bind;\n",
    "using std::default_random_engine;\n",
    "using std::exponential_distribution;\n",
    "using std::ofstream;\n",
    "        \n",
    "default_random_engine re{12345};\n",
    "exponential_distribution<double> expon(1);\n",
    "\n",
    "auto rexp = bind(expon, re);\n",
    "\n",
    "int main() {\n",
    "    ofstream fout(\"exp_data.csv\");\n",
    "    \n",
    "    int n = 1000;\n",
    "    for (int i=0; i<(n-1); i++){\n",
    "        fout << rexp() << \",\";\n",
    "    }\n",
    "    fout << rexp() << \"\\n\";\n",
    "    fout.close();\n",
    "}"
   ]
  },
  {
   "cell_type": "code",
   "execution_count": 14,
   "metadata": {
    "collapsed": true
   },
   "outputs": [],
   "source": [
    "%%bash\n",
    "\n",
    "g++ -o e5.exe e5.cpp -std=c++14"
   ]
  },
  {
   "cell_type": "code",
   "execution_count": 15,
   "metadata": {
    "collapsed": true
   },
   "outputs": [],
   "source": [
    "%%bash\n",
    "\n",
    "./e5.exe"
   ]
  },
  {
   "cell_type": "code",
   "execution_count": 16,
   "metadata": {},
   "outputs": [
    {
     "data": {
      "image/png": "[encoded data removed]",
      "text/plain": [
       "<Figure size 432x288 with 1 Axes>"
      ]
     },
     "metadata": {},
     "output_type": "display_data"
    }
   ],
   "source": [
    "import matplotlib.pyplot as plt\n",
    "import numpy as np\n",
    "\n",
    "data = np.loadtxt('exp_data.csv',  delimiter=',')\n",
    "plt.hist(data, density=True)\n",
    "plt.show()"
   ]
  },
  {
   "cell_type": "markdown",
   "metadata": {},
   "source": [
    "**6**. (20 points)\n",
    "\n",
    "Implement Newton's method in 1D for root finding. Pass in the function and gradient as generalized function pointers. Use the method to find all roots of the polynomial equation $f(x) = x^3 - 7x - 6$. You may use the `std::abs` and `std::pow` from the `cmath` library."
   ]
  },
  {
   "cell_type": "code",
   "execution_count": 17,
   "metadata": {},
   "outputs": [
    {
     "data": {
      "image/png": "[encoded data removed]",
      "text/plain": [
       "<Figure size 432x288 with 1 Axes>"
      ]
     },
     "metadata": {},
     "output_type": "display_data"
    }
   ],
   "source": [
    "f = lambda x: x**3 - 7*x - 6\n",
    "r = np.roots([1, 0, -7, -6])\n",
    "\n",
    "xi = np.linspace(-2.5, 3.5, 100)\n",
    "plt.plot(xi, f(xi))\n",
    "plt.scatter(r, np.zeros_like(r), c='red')\n",
    "plt.axhline(0)\n",
    "plt.show()"
   ]
  },
  {
   "cell_type": "code",
   "execution_count": 4,
   "metadata": {},
   "outputs": [
    {
     "name": "stdout",
     "output_type": "stream",
     "text": [
      "Overwriting e6.cpp\n"
     ]
    }
   ],
   "source": [
    "%%file e6.cpp\n",
    "\n",
    "#include <iostream>\n",
    "#include <functional>\n",
    "#include <cmath>\n",
    "\n",
    "using std::cout;\n",
    "using std::function;\n",
    "using std::abs;\n",
    "using std::pow;      \n",
    "        \n",
    "using func = function<double(double)>;\n",
    "\n",
    "double newton(double x, func f, func g, double tol=1e-8, int max_iter=100) {\n",
    "    double delta;\n",
    "    for (int i=0; i<max_iter; i++) {\n",
    "        delta = f(x)/g(x);\n",
    "        x -= delta;\n",
    "        if (abs(delta) < tol) {\n",
    "            break;\n",
    "        }\n",
    "        if (i==max_iter) {\n",
    "            cout << \"Failure to converge in \" << max_iter << \"iterations\\n\";\n",
    "        }\n",
    "    }\n",
    "    return x;\n",
    "}\n",
    "\n",
    "int main() {      \n",
    "\n",
    "    auto f = [](double x){ return pow(x,3) - 7*x - 6; };\n",
    "    auto g = [](double x){ return 3*pow(x, 2) - 7; };    \n",
    "    \n",
    "    cout << newton(-4, f, g) << \"\\n\";\n",
    "    cout << newton(0, f, g) << \"\\n\";\n",
    "    cout << newton(4, f, g) << \"\\n\";\n",
    "}"
   ]
  },
  {
   "cell_type": "code",
   "execution_count": 5,
   "metadata": {},
   "outputs": [],
   "source": [
    "%%bash\n",
    "\n",
    "g++ -o e6.exe e6.cpp -std=c++14"
   ]
  },
  {
   "cell_type": "code",
   "execution_count": 6,
   "metadata": {},
   "outputs": [
    {
     "name": "stdout",
     "output_type": "stream",
     "text": [
      "-2\n",
      "3\n",
      "3\n"
     ]
    }
   ],
   "source": [
    "%%bash\n",
    "\n",
    "./e6.exe"
   ]
  },
  {
   "cell_type": "markdown",
   "metadata": {},
   "source": [
    "**7**.  (30 points)\n",
    "\n",
    "Use the Eigen library to\n",
    "\n",
    "- Generate 10 x-coordinates linearly spaced between 10 and 15\n",
    "- Generate 10 random y-values as $y = 3x^2 - 7x + 2 + \\epsilon$ where $\\epsilon \\sim 10 N(0,1)$\n",
    "- Find the length of $x$ and $y$ and the Euclidean distance between $x$ and $y$\n",
    "- Find the correlation between $x$ and $y$ using\n",
    "![img](https://wikimedia.org/api/rest_v1/media/math/render/svg/60e3f3116e2923c792aafb904dcac308624a1d77)\n",
    "- Solve the linear system to find a quadratic fit for this data\n",
    "\n",
    "If you use the seed 12345 for the random number generator, you should get the following solutions."
   ]
  },
  {
   "cell_type": "code",
   "execution_count": 21,
   "metadata": {
    "collapsed": true
   },
   "outputs": [],
   "source": [
    "x = np.array('10 10.5556 11.1111 11.6667 12.2222 12.7778 13.3333 13.8889 14.4444 15'.split()).astype('float')\n",
    "y = np.array('232.862 264.056 310.697 322.345 359.037 412.095 448.471 468.163 533.646 579.763'.split()).astype('float')"
   ]
  },
  {
   "cell_type": "code",
   "execution_count": 22,
   "metadata": {},
   "outputs": [
    {
     "data": {
      "text/plain": [
       "(39.84924833168124, 1290.087239415614)"
      ]
     },
     "execution_count": 22,
     "metadata": {},
     "output_type": "execute_result"
    }
   ],
   "source": [
    "np.linalg.norm(x), np.linalg.norm(y)"
   ]
  },
  {
   "cell_type": "code",
   "execution_count": 23,
   "metadata": {},
   "outputs": [
    {
     "data": {
      "text/plain": [
       "1250.6696992541235"
      ]
     },
     "execution_count": 23,
     "metadata": {},
     "output_type": "execute_result"
    }
   ],
   "source": [
    "np.linalg.norm(x-y)"
   ]
  },
  {
   "cell_type": "code",
   "execution_count": 24,
   "metadata": {},
   "outputs": [
    {
     "data": {
      "text/plain": [
       "0.9940830052398306"
      ]
     },
     "execution_count": 24,
     "metadata": {},
     "output_type": "execute_result"
    }
   ],
   "source": [
    "np.corrcoef(x, y)[0,1]"
   ]
  },
  {
   "cell_type": "code",
   "execution_count": 25,
   "metadata": {
    "scrolled": true
   },
   "outputs": [
    {
     "data": {
      "text/plain": [
       "array([100.9138974 , -22.66697873,   3.62437276])"
      ]
     },
     "execution_count": 25,
     "metadata": {},
     "output_type": "execute_result"
    }
   ],
   "source": [
    "X = np.c_[np.ones_like(x), x, x**2]\n",
    "np.linalg.lstsq(X, y, rcond=None)[0]"
   ]
  },
  {
   "cell_type": "code",
   "execution_count": 26,
   "metadata": {},
   "outputs": [
    {
     "name": "stdout",
     "output_type": "stream",
     "text": [
      "Overwriting e7.cpp\n"
     ]
    }
   ],
   "source": [
    "%%file e7.cpp\n",
    "\n",
    "#include <iostream>\n",
    "#include <random>\n",
    "#include <functional>\n",
    "#include <Eigen/Dense>\n",
    "\n",
    "using std::cout;\n",
    "using std::default_random_engine;\n",
    "using std::normal_distribution;\n",
    "using std::bind;\n",
    "        \n",
    "default_random_engine re{12345};\n",
    "normal_distribution<double> norm(0, 1);\n",
    "auto rnorm = bind(norm, re);\n",
    "\n",
    "int main() {\n",
    "    using namespace Eigen;\n",
    "\n",
    "    int n = 10;\n",
    "    VectorXd x = VectorXd::LinSpaced(n, 10, 15);\n",
    "    VectorXd eps = 10*VectorXd::Zero(n).unaryExpr([](double x){ return rnorm(); });\n",
    "    VectorXd y = 3*x.array().pow(2) - 7*x.array() + 2 + eps.array();\n",
    "    \n",
    "    cout << \"x: \" << x.transpose() << \"\\n\";\n",
    "    cout << \"y: \" << y.transpose() << \"\\n\";    \n",
    "    cout << \"Length of x: \" << x.norm() << \"\\n\";\n",
    "    cout << \"Lenght of y: \" << y.norm() << \"\\n\";\n",
    "    cout << \"d(x, y): \" << (x-y).norm() << \"\\n\";\n",
    "    \n",
    "    VectorXd xc = x.array() - x.mean();\n",
    "    VectorXd yc = y.array() - y.mean();\n",
    "    double sx = sqrt(1.0/(n-1)*xc.array().square().sum());\n",
    "    double sy = sqrt(1.0/(n-1)*yc.array().square().sum()); \n",
    "    cout << \"Corr(x, y): \"  << \n",
    "    (xc.transpose() * yc)/sqrt(xc.array().square().sum() * yc.array().square().sum()) << \"\\n\";\n",
    "    \n",
    "    MatrixXd A(n, 3);\n",
    "    A << VectorXd::Ones(n), x, x.array().square();\n",
    "    cout << \"lstsq(Xb = y): \"\n",
    "        << A.jacobiSvd(ComputeThinU | ComputeThinV).solve(y).transpose() << \"\\n\";\n",
    "}"
   ]
  },
  {
   "cell_type": "markdown",
   "metadata": {},
   "source": [
    "**NOte**: Change the location to where your eigen3 headers have been installed."
   ]
  },
  {
   "cell_type": "code",
   "execution_count": 27,
   "metadata": {
    "collapsed": true
   },
   "outputs": [],
   "source": [
    "%%bash\n",
    "\n",
    "g++ -o e7.exe e7.cpp -std=c++14 -I/usr/local/include/eigen3"
   ]
  },
  {
   "cell_type": "code",
   "execution_count": 28,
   "metadata": {},
   "outputs": [
    {
     "name": "stdout",
     "output_type": "stream",
     "text": [
      "x:      10 10.5556 11.1111 11.6667 12.2222 12.7778 13.3333 13.8889 14.4444      15\n",
      "y: 232.862 264.056 310.697 322.345 359.037 412.095 448.471 468.163 533.646 579.763\n",
      "Length of x: 39.8493\n",
      "Lenght of y: 1290.09\n",
      "d(x, y): 1250.67\n",
      "Corr(x, y): 0.994083\n",
      "lstsq(Xb = y):  100.914 -22.6666  3.62434\n"
     ]
    }
   ],
   "source": [
    "%%bash\n",
    "\n",
    "./e7.exe"
   ]
  }
 ],
 "metadata": {
  "kernelspec": {
   "display_name": "Python 3",
   "language": "python",
   "name": "python3"
  },
  "language_info": {
   "codemirror_mode": {
    "name": "ipython",
    "version": 3
   },
   "file_extension": ".py",
   "mimetype": "text/x-python",
   "name": "python",
   "nbconvert_exporter": "python",
   "pygments_lexer": "ipython3",
   "version": "3.6.4"
  }
 },
 "nbformat": 4,
 "nbformat_minor": 2
}
