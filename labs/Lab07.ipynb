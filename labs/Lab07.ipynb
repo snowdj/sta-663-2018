{
 "cells": [
  {
   "cell_type": "markdown",
   "metadata": {},
   "source": [
    "**Brief Honor Code**. Do the homework on your own. You may discuss ideas with your classmates, but DO NOT copy the solutions from someone else or the Internet. If stuck, discuss with TA."
   ]
  },
  {
   "cell_type": "markdown",
   "metadata": {},
   "source": [
    "**Note**: The expected figures are provided so you can check your solutions."
   ]
  },
  {
   "cell_type": "markdown",
   "metadata": {},
   "source": [
    "**1**. (20 points)\n",
    "\n",
    "Find the gradient and Hessian for the following equation\n",
    "\n",
    "$$\n",
    "f(x, y) = 1 + 2x + 3y + 4x^2 + 2xy + y^2\n",
    "$$\n",
    "\n",
    "- Plot the contours of this function using `matplotlib` in the box $-5 \\le x \\le 5$ and $-5 \\le y \\le 5$ using a $100 \\times 100$ grid. \n",
    "- Then plot the gradient vectors using the `quiver` function on top of the contour plot using a $10 \\times 10$ grid. Are the gradients orthogonal to the contours?\n",
    "\n",
    "Hint: Use `numpy.meshgrid`, `matplotlib.contour` and `matplotllib.quiver`.\n",
    "\n",
    "![img](figs/7_1.png)"
   ]
  },
  {
   "cell_type": "code",
   "execution_count": null,
   "metadata": {
    "collapsed": true
   },
   "outputs": [],
   "source": [
    "\n",
    "\n",
    "\n"
   ]
  },
  {
   "cell_type": "markdown",
   "metadata": {},
   "source": [
    "**2**. (30 points)\n",
    "\n",
    "This exercise is about using Newton's method to find the cube roots of unity - find $z$ such that $z^3 = 1$. From the fundamental theorem of algebra, we know there must be exactly 3 complex roots since this is a degree 3 polynomial.\n",
    "\n",
    "We start with Euler's equation\n",
    "$$\n",
    "e^{ix} = \\cos x + i \\sin x\n",
    "$$\n",
    "\n",
    "Raising $e^{ix}$ to the $n$th power where $n$ is an integer, we get from Euler's formula with $nx$ substituting for $x$\n",
    "$$\n",
    "(e^{ix})^n = e^{i(nx)} = \\cos nx + i \\sin nx\n",
    "$$\n",
    "\n",
    "Whenever $nx$ is an integer multiple of $2\\pi$, we have\n",
    "$$\n",
    "\\cos nx + i \\sin nx = 1\n",
    "$$\n",
    "\n",
    "So\n",
    "$$\n",
    "e^{2\\pi i \\frac{k}{n}}\n",
    "$$\n",
    "is a root of 1 whenever $k/n = 0, 1, 2, \\ldots$.\n",
    "\n",
    "So the cube roots of unity are $1, e^{2\\pi i/3}, e^{4\\pi i/3}$. \n",
    "\n",
    "![img](figs/7_2.png)\n",
    "\n",
    "While we can do this analytically, the idea is to use Newton's method to find these roots, and in the process, discover some rather perplexing behavior of Newton's method.\n",
    "\n",
    "Newton's method for functions of complex variables - stability and basins of attraction. (30 points)\n",
    "\n",
    "1. Write a function with the following function signature `newton(z, f, fprime, max_iter=100, tol=1e-6)` where\n",
    "    - `z` is a starting value (a complex number e.g.  ` 3 + 4j`)\n",
    "    - `f` is a function of `z`\n",
    "    - `fprime` is the derivative of  `f`\n",
    "The function will run until either max_iter is reached or the absolute value of the Newton step is less than tol. In either case, the function should return the number of iterations taken and the final value of `z` as a tuple (`i`, `z`). \n",
    "\n",
    "2. Define the function `f` and `fprime` that will result in Newton's method finding the cube roots of 1. Find 3 starting points that will give different roots, and print both the start and end points. \n",
    "\n",
    "Write the following two plotting functions to see some (pretty) aspects of Newton's algorithm in the complex plane.\n",
    "\n",
    "3. The first function `plot_newton_iters(f, fprime, n=200, extent=[-1,1,-1,1], cmap='hsv')` calculates and stores the number of iterations taken for convergence (or max_iter) for each point in a 2D array. The 2D array limits are given by `extent` - for example, when `extent = [-1,1,-1,1]` the corners of the plot are `(-i, -i), (1, -i), (1, i), (-1, i)`. There are `n` grid points in both the real and imaginary axes. The argument `cmap` specifies the color map to use - the suggested defaults are fine. Finally plot the image using `plt.imshow` - make sure the axis ticks are correctly scaled. Make a plot for the cube roots of 1.\n",
    "\n",
    "![img](figs/7_2A.png)\n",
    "\n",
    "4. The second function `plot_newton_basins(f, fprime, n=200, extent=[-1,1,-1,1], cmap='jet')` has the same arguments, but this time the grid stores the identity of the root that the starting point converged to. Make a plot for the cube roots of 1 - since there are 3 roots, there should be only 3 colors in the plot.\n",
    "\n",
    "![img](figs/7_2B.png)"
   ]
  },
  {
   "cell_type": "code",
   "execution_count": null,
   "metadata": {
    "collapsed": true
   },
   "outputs": [],
   "source": [
    "\n",
    "\n",
    "\n"
   ]
  },
  {
   "cell_type": "markdown",
   "metadata": {},
   "source": [
    "**3**. (20 points)\n",
    "\n",
    "Consider the following function on $\\mathbb{R}^2$:\n",
    "\n",
    "$$\n",
    "f(x_1,x_2) = -x_1x_2e^{-\\frac{(x_1^2+x_2^2)}{2}}\n",
    "$$\n",
    "\n",
    "- Find the minimum under the constraint \n",
    "$$g(x) = x_1^2+x_2^2 \\leq 10$$\n",
    "and \n",
    "$$h(x) = 2x_1 + 3x_2 = 5$$ using `scipy.optimize.minimize`.\n",
    "- Plot the function contours using `matplotlib`, showing the constraints $g$ and $h$ and indicate the constrained minimum with an `X`.\n",
    "\n",
    "![img](figs/7_3.png)"
   ]
  },
  {
   "cell_type": "code",
   "execution_count": null,
   "metadata": {
    "collapsed": true
   },
   "outputs": [],
   "source": [
    "\n",
    "\n",
    "\n"
   ]
  },
  {
   "cell_type": "markdown",
   "metadata": {},
   "source": [
    "**4** (30 points)\n",
    "\n",
    "Find solutions to $x^3 + 4x^2 -3 = x$. \n",
    "\n",
    "- Write a function to find brackets, assuming roots are always at least 1 unit apart and that the roots lie between -10 and 10\n",
    "- For each bracket, find the enclosed root using\n",
    "    - a bisection method\n",
    "    - Newton-Raphson (no guarantee to stay within brackets)\n",
    "- Use the end points of the bracket as starting points for the bisection methods and the midpoint for Newton-Raphson.\n",
    "- Use the companion matrix and characteristic polynomial to find the solutions\n",
    "- Plot the function and its roots (marked with a circle) in a window just large enough to contain all roots.\n",
    "\n",
    "Use a tolerance of 1e-6.\n",
    "\n",
    "![img](figs/7_4.png)"
   ]
  },
  {
   "cell_type": "code",
   "execution_count": null,
   "metadata": {
    "collapsed": true
   },
   "outputs": [],
   "source": [
    "\n",
    "\n",
    "\n"
   ]
  }
 ],
 "metadata": {
  "kernelspec": {
   "display_name": "Python 3",
   "language": "python",
   "name": "python3"
  },
  "language_info": {
   "codemirror_mode": {
    "name": "ipython",
    "version": 3
   },
   "file_extension": ".py",
   "mimetype": "text/x-python",
   "name": "python",
   "nbconvert_exporter": "python",
   "pygments_lexer": "ipython3",
   "version": "3.6.1"
  }
 },
 "nbformat": 4,
 "nbformat_minor": 2
}
