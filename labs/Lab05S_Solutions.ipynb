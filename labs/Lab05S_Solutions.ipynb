{
 "cells": [
  {
   "cell_type": "markdown",
   "metadata": {},
   "source": [
    "# Supplementary Practice Problems\n",
    "\n",
    "These are similar to programming problems you may encounter in the mid-terms. They are not graded but we will review them in lab sessions."
   ]
  },
  {
   "cell_type": "markdown",
   "metadata": {},
   "source": [
    "**1**. (10 points) The logistic map is defined by the following simple function\n",
    "\n",
    "$$\n",
    "f(x) = rx(1-x)\n",
    "$$\n",
    "\n",
    "For $x_0 = 0.1$ and $r = 4.0$, store the first 10 values of the iterated logistic map $x_{i+1} = rx_i(1-x_i)$ in a list. The first value in the list should be $x_0$."
   ]
  },
  {
   "cell_type": "code",
   "execution_count": 1,
   "metadata": {
    "collapsed": true
   },
   "outputs": [],
   "source": [
    "def logistic(x, r):\n",
    "    \"\"\"Blah\"\"\"\n",
    "    return r*x*(1-x)"
   ]
  },
  {
   "cell_type": "code",
   "execution_count": 2,
   "metadata": {
    "collapsed": true
   },
   "outputs": [],
   "source": [
    "import numpy as np"
   ]
  },
  {
   "cell_type": "code",
   "execution_count": 3,
   "metadata": {},
   "outputs": [
    {
     "data": {
      "text/plain": [
       "array([ 0.1       ,  0.36      ,  0.9216    ,  0.28901376,  0.82193923,\n",
       "        0.58542054,  0.97081333,  0.11333925,  0.40197385,  0.9615635 ])"
      ]
     },
     "execution_count": 3,
     "metadata": {},
     "output_type": "execute_result"
    }
   ],
   "source": [
    "n = 10\n",
    "xs = np.zeros(n)\n",
    "xs[0] = 0.1\n",
    "r = 4.0\n",
    "\n",
    "for i in range(1, n):\n",
    "    xs[i] = logistic(xs[i-1], r)\n",
    "xs"
   ]
  },
  {
   "cell_type": "markdown",
   "metadata": {},
   "source": [
    "**2**. (10 points) Write a function to find the greatest common divisor (GCD) of 2 numbers using Euclid's algorithm.:\n",
    "\n",
    "\\begin{align}\n",
    "\\gcd(a,0) &= a \\\\\n",
    "\\gcd(a, b) &= \\gcd(b, a \\mod b)\n",
    "\\end{align}\n",
    "\n",
    "Find the GCD of 5797 and 190978. \n",
    "\n",
    "Now write a function to find the GCD given a collection of numbers.\n",
    "\n",
    "Find the GCD of (24, 48, 60, 120, 8)."
   ]
  },
  {
   "cell_type": "code",
   "execution_count": 4,
   "metadata": {
    "collapsed": true
   },
   "outputs": [],
   "source": [
    "def gcd(a, b):\n",
    "    \"\"\"Blah\"\"\"\n",
    "    if b == 0:\n",
    "        return a\n",
    "    else:\n",
    "        return gcd(b, a % b)"
   ]
  },
  {
   "cell_type": "code",
   "execution_count": 5,
   "metadata": {},
   "outputs": [
    {
     "data": {
      "text/plain": [
       "17"
      ]
     },
     "execution_count": 5,
     "metadata": {},
     "output_type": "execute_result"
    }
   ],
   "source": [
    "gcd( 5797, 190978)"
   ]
  },
  {
   "cell_type": "code",
   "execution_count": 6,
   "metadata": {
    "collapsed": true
   },
   "outputs": [],
   "source": [
    "from functools import reduce"
   ]
  },
  {
   "cell_type": "code",
   "execution_count": 7,
   "metadata": {
    "collapsed": true
   },
   "outputs": [],
   "source": [
    "def gcds(xs):\n",
    "    \"\"\"Blah\"\"\"\n",
    "    return reduce(lambda a, b: gcd(a, b), xs)"
   ]
  },
  {
   "cell_type": "code",
   "execution_count": 8,
   "metadata": {},
   "outputs": [
    {
     "data": {
      "text/plain": [
       "4"
      ]
     },
     "execution_count": 8,
     "metadata": {},
     "output_type": "execute_result"
    }
   ],
   "source": [
    "xs = (24, 48, 60, 120, 8)\n",
    "gcds(xs)"
   ]
  },
  {
   "cell_type": "markdown",
   "metadata": {},
   "source": [
    "**3**. (10 points) Find the least squares linear solution to the following data\n",
    "\n",
    "```\n",
    "y = [1,2,3,4]\n",
    "x1 = [1,2,3,4]\n",
    "x2 = [2,3,4,5]\n",
    "```\n",
    "\n",
    "That is, find the \"best\" intercept and slope for the variables `x1` and `x2`."
   ]
  },
  {
   "cell_type": "code",
   "execution_count": 9,
   "metadata": {
    "collapsed": true
   },
   "outputs": [],
   "source": [
    "from scipy.linalg import lstsq"
   ]
  },
  {
   "cell_type": "code",
   "execution_count": 10,
   "metadata": {},
   "outputs": [
    {
     "data": {
      "text/plain": [
       "(array([-0.33333333,  0.66666667,  0.33333333]),\n",
       " array([], dtype=float64),\n",
       " 2,\n",
       " array([  9.34413269e+00,   8.28965828e-01,   1.18039779e-16]))"
      ]
     },
     "execution_count": 10,
     "metadata": {},
     "output_type": "execute_result"
    }
   ],
   "source": [
    "y = [1,2,3,4]\n",
    "x1 = [1,2,3,4]\n",
    "x2 = [2,3,4,5]\n",
    "\n",
    "X = np.c_[np.ones(len(y)), x1, x2]\n",
    "lstsq(X, y)"
   ]
  },
  {
   "cell_type": "markdown",
   "metadata": {},
   "source": [
    "**4**. (10 points) Read the `mtcars` data frame from R to a `pandas` DataFrame. Find the mean `wt` and `mpg` for all cars grouped by the number of `gear`s."
   ]
  },
  {
   "cell_type": "code",
   "execution_count": 11,
   "metadata": {
    "collapsed": true
   },
   "outputs": [],
   "source": [
    "%load_ext rpy2.ipython"
   ]
  },
  {
   "cell_type": "code",
   "execution_count": 12,
   "metadata": {
    "collapsed": true
   },
   "outputs": [],
   "source": [
    "mtcars = %R mtcars"
   ]
  },
  {
   "cell_type": "code",
   "execution_count": 13,
   "metadata": {},
   "outputs": [
    {
     "data": {
      "text/html": [
       "<div>\n",
       "<style>\n",
       "    .dataframe thead tr:only-child th {\n",
       "        text-align: right;\n",
       "    }\n",
       "\n",
       "    .dataframe thead th {\n",
       "        text-align: left;\n",
       "    }\n",
       "\n",
       "    .dataframe tbody tr th {\n",
       "        vertical-align: top;\n",
       "    }\n",
       "</style>\n",
       "<table border=\"1\" class=\"dataframe\">\n",
       "  <thead>\n",
       "    <tr style=\"text-align: right;\">\n",
       "      <th></th>\n",
       "      <th>wt</th>\n",
       "      <th>mpg</th>\n",
       "    </tr>\n",
       "    <tr>\n",
       "      <th>gear</th>\n",
       "      <th></th>\n",
       "      <th></th>\n",
       "    </tr>\n",
       "  </thead>\n",
       "  <tbody>\n",
       "    <tr>\n",
       "      <th>3.0</th>\n",
       "      <td>3.892600</td>\n",
       "      <td>16.106667</td>\n",
       "    </tr>\n",
       "    <tr>\n",
       "      <th>4.0</th>\n",
       "      <td>2.616667</td>\n",
       "      <td>24.533333</td>\n",
       "    </tr>\n",
       "    <tr>\n",
       "      <th>5.0</th>\n",
       "      <td>2.632600</td>\n",
       "      <td>21.380000</td>\n",
       "    </tr>\n",
       "  </tbody>\n",
       "</table>\n",
       "</div>"
      ],
      "text/plain": [
       "            wt        mpg\n",
       "gear                     \n",
       "3.0   3.892600  16.106667\n",
       "4.0   2.616667  24.533333\n",
       "5.0   2.632600  21.380000"
      ]
     },
     "execution_count": 13,
     "metadata": {},
     "output_type": "execute_result"
    }
   ],
   "source": [
    "mtcars.groupby('gear')[['wt', 'mpg']].mean()"
   ]
  },
  {
   "cell_type": "markdown",
   "metadata": {},
   "source": [
    "**5**. (10 points) Read the `iris` data frame from R to a `pandas` DataFrame. Make a `seaborn` plot showing a linear regression of `Petal.Length` (y) against `Sepal.Length` (x). Make a separate regression line for each `Species`."
   ]
  },
  {
   "cell_type": "code",
   "execution_count": 14,
   "metadata": {
    "collapsed": true
   },
   "outputs": [],
   "source": [
    "iris = %R iris"
   ]
  },
  {
   "cell_type": "code",
   "execution_count": 15,
   "metadata": {
    "collapsed": true
   },
   "outputs": [],
   "source": [
    "%matplotlib inline"
   ]
  },
  {
   "cell_type": "code",
   "execution_count": 16,
   "metadata": {
    "collapsed": true
   },
   "outputs": [],
   "source": [
    "import seaborn as sns"
   ]
  },
  {
   "cell_type": "code",
   "execution_count": 17,
   "metadata": {},
   "outputs": [
    {
     "data": {
      "image/png": "[encoded data removed]",
      "text/plain": [
       "<matplotlib.figure.Figure at 0x11f70a668>"
      ]
     },
     "metadata": {},
     "output_type": "display_data"
    }
   ],
   "source": [
    "sns.lmplot(x='Petal.Length', y='Sepal.Length', hue='Species', data=iris)\n",
    "pass"
   ]
  },
  {
   "cell_type": "markdown",
   "metadata": {},
   "source": [
    "**6**. (10 points) Write a function that can flatten a nested list of arbitrary depth. Check that\n",
    "\n",
    "```python\n",
    "flatten([1,[2,3],[4,[5,[6,7],8],9],10,[11,12]])\n",
    "```\n",
    "\n",
    "returns\n",
    "\n",
    "```python\n",
    "[1,2,3,4,5,6,7,8,9,10,11,12]\n",
    "```\n",
    "\n",
    "For simplicity, assume that the only data structure you will encounter is a list. You can check if an item is a list by using \n",
    "\n",
    "```python\n",
    "isinstance(item, list)\n",
    "```"
   ]
  },
  {
   "cell_type": "code",
   "execution_count": 18,
   "metadata": {
    "collapsed": true
   },
   "outputs": [],
   "source": [
    "def flatten(xs, acc=[]):\n",
    "    \"\"\"Blah\"\"\"\n",
    "    if not isinstance(xs, list):\n",
    "        acc.append(xs)\n",
    "    else:\n",
    "        for x in xs:\n",
    "            flatten(x)\n",
    "    return acc"
   ]
  },
  {
   "cell_type": "code",
   "execution_count": 19,
   "metadata": {},
   "outputs": [
    {
     "data": {
      "text/plain": [
       "[1, 2, 3, 4, 5, 6, 7, 8, 9, 10, 11, 12]"
      ]
     },
     "execution_count": 19,
     "metadata": {},
     "output_type": "execute_result"
    }
   ],
   "source": [
    "flatten([1,[2,3],[4,[5,[6,7],8],9],10,[11,12]])"
   ]
  },
  {
   "cell_type": "markdown",
   "metadata": {},
   "source": [
    "**7**. (10 points) Create the following table\n",
    "\n",
    "```python\n",
    "array([[  1,   0,   0,   0,   0,   0,   0,   0,   0,   0,   0],\n",
    "       [  1,   1,   0,   0,   0,   0,   0,   0,   0,   0,   0],\n",
    "       [  1,   2,   1,   0,   0,   0,   0,   0,   0,   0,   0],\n",
    "       [  1,   3,   3,   1,   0,   0,   0,   0,   0,   0,   0],\n",
    "       [  1,   4,   6,   4,   1,   0,   0,   0,   0,   0,   0],\n",
    "       [  1,   5,  10,  10,   5,   1,   0,   0,   0,   0,   0],\n",
    "       [  1,   6,  15,  20,  15,   6,   1,   0,   0,   0,   0],\n",
    "       [  1,   7,  21,  35,  35,  21,   7,   1,   0,   0,   0],\n",
    "       [  1,   8,  28,  56,  70,  56,  28,   8,   1,   0,   0],\n",
    "       [  1,   9,  36,  84, 126, 126,  84,  36,   9,   1,   0],\n",
    "       [  1,  10,  45, 120, 210, 252, 210, 120,  45,  10,   1]])\n",
    "```\n",
    "\n",
    "Start with the first row\n",
    "\n",
    "```\n",
    "[  1,   0,   0,   0,   0,   0,   0,   0,   0,   0,   0]\n",
    "```\n",
    "\n",
    "and build the subsequent rows using a simple rule that only depends on the previous row."
   ]
  },
  {
   "cell_type": "code",
   "execution_count": 20,
   "metadata": {},
   "outputs": [],
   "source": [
    "xs = []\n",
    "\n",
    "r = [ 0, 1,   0,   0,   0,   0,   0,   0,   0,   0,   0,   0]\n",
    "for i in range(10):\n",
    "    s = [0]\n",
    "    for x, y in zip(r[:], r[1:]):\n",
    "        s.append(x + y)\n",
    "    xs.append(s[1:])\n",
    "    r = s"
   ]
  },
  {
   "cell_type": "code",
   "execution_count": 21,
   "metadata": {},
   "outputs": [
    {
     "data": {
      "text/plain": [
       "array([[  1,   1,   0,   0,   0,   0,   0,   0,   0,   0,   0],\n",
       "       [  1,   2,   1,   0,   0,   0,   0,   0,   0,   0,   0],\n",
       "       [  1,   3,   3,   1,   0,   0,   0,   0,   0,   0,   0],\n",
       "       [  1,   4,   6,   4,   1,   0,   0,   0,   0,   0,   0],\n",
       "       [  1,   5,  10,  10,   5,   1,   0,   0,   0,   0,   0],\n",
       "       [  1,   6,  15,  20,  15,   6,   1,   0,   0,   0,   0],\n",
       "       [  1,   7,  21,  35,  35,  21,   7,   1,   0,   0,   0],\n",
       "       [  1,   8,  28,  56,  70,  56,  28,   8,   1,   0,   0],\n",
       "       [  1,   9,  36,  84, 126, 126,  84,  36,   9,   1,   0],\n",
       "       [  1,  10,  45, 120, 210, 252, 210, 120,  45,  10,   1]])"
      ]
     },
     "execution_count": 21,
     "metadata": {},
     "output_type": "execute_result"
    }
   ],
   "source": [
    "np.array(xs)"
   ]
  },
  {
   "cell_type": "markdown",
   "metadata": {},
   "source": [
    "**8**. (10 points) Read the following data sets into DataFrames. \n",
    "\n",
    "- url1 = \"https://raw.github.com/vincentarelbundock/Rdatasets/master/csv/DAAG/hills.csv\"\n",
    "- url2 = \"https://raw.github.com/vincentarelbundock/Rdatasets/master/csv/DAAG/hills2000.csv\"\n",
    "\n",
    "Create a new DataFraem only containing the names present in both DataFrames. Drop the `timef` column and have a single column for `dist` , `climb` and `time` that shows the average value of the two DataFrames. The final DtataFrame will thus have 4 columns (name, dist, climb, time)."
   ]
  },
  {
   "cell_type": "code",
   "execution_count": 22,
   "metadata": {
    "collapsed": true
   },
   "outputs": [],
   "source": [
    "import pandas as pd"
   ]
  },
  {
   "cell_type": "code",
   "execution_count": 23,
   "metadata": {
    "collapsed": true
   },
   "outputs": [],
   "source": [
    "url1 = \"https://raw.github.com/vincentarelbundock/Rdatasets/master/csv/DAAG/hills.csv\"\n",
    "url2 = \"https://raw.github.com/vincentarelbundock/Rdatasets/master/csv/DAAG/hills2000.csv\""
   ]
  },
  {
   "cell_type": "code",
   "execution_count": 24,
   "metadata": {
    "collapsed": true
   },
   "outputs": [],
   "source": [
    "df1 = pd.read_csv(url1)\n",
    "df2 = pd.read_csv(url2)"
   ]
  },
  {
   "cell_type": "code",
   "execution_count": 25,
   "metadata": {},
   "outputs": [
    {
     "data": {
      "text/html": [
       "<div>\n",
       "<style>\n",
       "    .dataframe thead tr:only-child th {\n",
       "        text-align: right;\n",
       "    }\n",
       "\n",
       "    .dataframe thead th {\n",
       "        text-align: left;\n",
       "    }\n",
       "\n",
       "    .dataframe tbody tr th {\n",
       "        vertical-align: top;\n",
       "    }\n",
       "</style>\n",
       "<table border=\"1\" class=\"dataframe\">\n",
       "  <thead>\n",
       "    <tr style=\"text-align: right;\">\n",
       "      <th></th>\n",
       "      <th>Unnamed: 0</th>\n",
       "      <th>dist</th>\n",
       "      <th>climb</th>\n",
       "      <th>time</th>\n",
       "    </tr>\n",
       "  </thead>\n",
       "  <tbody>\n",
       "    <tr>\n",
       "      <th>0</th>\n",
       "      <td>Greenmantle</td>\n",
       "      <td>2.5</td>\n",
       "      <td>650</td>\n",
       "      <td>16.083</td>\n",
       "    </tr>\n",
       "    <tr>\n",
       "      <th>1</th>\n",
       "      <td>Carnethy</td>\n",
       "      <td>6.0</td>\n",
       "      <td>2500</td>\n",
       "      <td>48.350</td>\n",
       "    </tr>\n",
       "    <tr>\n",
       "      <th>2</th>\n",
       "      <td>Craig Dunain</td>\n",
       "      <td>6.0</td>\n",
       "      <td>900</td>\n",
       "      <td>33.650</td>\n",
       "    </tr>\n",
       "  </tbody>\n",
       "</table>\n",
       "</div>"
      ],
      "text/plain": [
       "     Unnamed: 0  dist  climb    time\n",
       "0   Greenmantle   2.5    650  16.083\n",
       "1      Carnethy   6.0   2500  48.350\n",
       "2  Craig Dunain   6.0    900  33.650"
      ]
     },
     "execution_count": 25,
     "metadata": {},
     "output_type": "execute_result"
    }
   ],
   "source": [
    "df1.head(3)"
   ]
  },
  {
   "cell_type": "code",
   "execution_count": 26,
   "metadata": {},
   "outputs": [
    {
     "data": {
      "text/html": [
       "<div>\n",
       "<style>\n",
       "    .dataframe thead tr:only-child th {\n",
       "        text-align: right;\n",
       "    }\n",
       "\n",
       "    .dataframe thead th {\n",
       "        text-align: left;\n",
       "    }\n",
       "\n",
       "    .dataframe tbody tr th {\n",
       "        vertical-align: top;\n",
       "    }\n",
       "</style>\n",
       "<table border=\"1\" class=\"dataframe\">\n",
       "  <thead>\n",
       "    <tr style=\"text-align: right;\">\n",
       "      <th></th>\n",
       "      <th>Unnamed: 0</th>\n",
       "      <th>dist</th>\n",
       "      <th>climb</th>\n",
       "      <th>time</th>\n",
       "      <th>timef</th>\n",
       "    </tr>\n",
       "  </thead>\n",
       "  <tbody>\n",
       "    <tr>\n",
       "      <th>0</th>\n",
       "      <td>Tiso Carnethy</td>\n",
       "      <td>6.0</td>\n",
       "      <td>2500</td>\n",
       "      <td>0.782222</td>\n",
       "      <td>0.919167</td>\n",
       "    </tr>\n",
       "    <tr>\n",
       "      <th>1</th>\n",
       "      <td>Criffel</td>\n",
       "      <td>7.0</td>\n",
       "      <td>1800</td>\n",
       "      <td>0.793333</td>\n",
       "      <td>1.003333</td>\n",
       "    </tr>\n",
       "    <tr>\n",
       "      <th>2</th>\n",
       "      <td>Chapelgill</td>\n",
       "      <td>1.5</td>\n",
       "      <td>1400</td>\n",
       "      <td>0.314444</td>\n",
       "      <td>0.376667</td>\n",
       "    </tr>\n",
       "  </tbody>\n",
       "</table>\n",
       "</div>"
      ],
      "text/plain": [
       "      Unnamed: 0  dist  climb      time     timef\n",
       "0  Tiso Carnethy   6.0   2500  0.782222  0.919167\n",
       "1        Criffel   7.0   1800  0.793333  1.003333\n",
       "2     Chapelgill   1.5   1400  0.314444  0.376667"
      ]
     },
     "execution_count": 26,
     "metadata": {},
     "output_type": "execute_result"
    }
   ],
   "source": [
    "df2.head(3)"
   ]
  },
  {
   "cell_type": "code",
   "execution_count": 27,
   "metadata": {},
   "outputs": [],
   "source": [
    "df = pd.merge(df1, df2, on='Unnamed: 0')"
   ]
  },
  {
   "cell_type": "code",
   "execution_count": 28,
   "metadata": {},
   "outputs": [
    {
     "data": {
      "text/html": [
       "<div>\n",
       "<style>\n",
       "    .dataframe thead tr:only-child th {\n",
       "        text-align: right;\n",
       "    }\n",
       "\n",
       "    .dataframe thead th {\n",
       "        text-align: left;\n",
       "    }\n",
       "\n",
       "    .dataframe tbody tr th {\n",
       "        vertical-align: top;\n",
       "    }\n",
       "</style>\n",
       "<table border=\"1\" class=\"dataframe\">\n",
       "  <thead>\n",
       "    <tr style=\"text-align: right;\">\n",
       "      <th></th>\n",
       "      <th>Unnamed: 0</th>\n",
       "      <th>dist_x</th>\n",
       "      <th>climb_x</th>\n",
       "      <th>time_x</th>\n",
       "      <th>dist_y</th>\n",
       "      <th>climb_y</th>\n",
       "      <th>time_y</th>\n",
       "      <th>timef</th>\n",
       "    </tr>\n",
       "  </thead>\n",
       "  <tbody>\n",
       "    <tr>\n",
       "      <th>0</th>\n",
       "      <td>Craig Dunain</td>\n",
       "      <td>6.0</td>\n",
       "      <td>900</td>\n",
       "      <td>33.650</td>\n",
       "      <td>6.0</td>\n",
       "      <td>900</td>\n",
       "      <td>0.546111</td>\n",
       "      <td>0.625833</td>\n",
       "    </tr>\n",
       "    <tr>\n",
       "      <th>1</th>\n",
       "      <td>Ben Lomond</td>\n",
       "      <td>8.0</td>\n",
       "      <td>3070</td>\n",
       "      <td>62.267</td>\n",
       "      <td>9.0</td>\n",
       "      <td>3192</td>\n",
       "      <td>1.037778</td>\n",
       "      <td>1.199167</td>\n",
       "    </tr>\n",
       "    <tr>\n",
       "      <th>2</th>\n",
       "      <td>Goatfell</td>\n",
       "      <td>8.0</td>\n",
       "      <td>2866</td>\n",
       "      <td>73.217</td>\n",
       "      <td>8.0</td>\n",
       "      <td>2866</td>\n",
       "      <td>1.227778</td>\n",
       "      <td>1.526389</td>\n",
       "    </tr>\n",
       "  </tbody>\n",
       "</table>\n",
       "</div>"
      ],
      "text/plain": [
       "     Unnamed: 0  dist_x  climb_x  time_x  dist_y  climb_y    time_y     timef\n",
       "0  Craig Dunain     6.0      900  33.650     6.0      900  0.546111  0.625833\n",
       "1    Ben Lomond     8.0     3070  62.267     9.0     3192  1.037778  1.199167\n",
       "2      Goatfell     8.0     2866  73.217     8.0     2866  1.227778  1.526389"
      ]
     },
     "execution_count": 28,
     "metadata": {},
     "output_type": "execute_result"
    }
   ],
   "source": [
    "df.head(3)"
   ]
  },
  {
   "cell_type": "code",
   "execution_count": 29,
   "metadata": {},
   "outputs": [
    {
     "data": {
      "text/html": [
       "<div>\n",
       "<style>\n",
       "    .dataframe thead tr:only-child th {\n",
       "        text-align: right;\n",
       "    }\n",
       "\n",
       "    .dataframe thead th {\n",
       "        text-align: left;\n",
       "    }\n",
       "\n",
       "    .dataframe tbody tr th {\n",
       "        vertical-align: top;\n",
       "    }\n",
       "</style>\n",
       "<table border=\"1\" class=\"dataframe\">\n",
       "  <thead>\n",
       "    <tr style=\"text-align: right;\">\n",
       "      <th></th>\n",
       "      <th>Unnamed: 0</th>\n",
       "      <th>dist_x</th>\n",
       "      <th>climb_x</th>\n",
       "      <th>time_x</th>\n",
       "      <th>dist_y</th>\n",
       "      <th>climb_y</th>\n",
       "      <th>time_y</th>\n",
       "    </tr>\n",
       "  </thead>\n",
       "  <tbody>\n",
       "    <tr>\n",
       "      <th>0</th>\n",
       "      <td>Craig Dunain</td>\n",
       "      <td>6.0</td>\n",
       "      <td>900</td>\n",
       "      <td>33.650</td>\n",
       "      <td>6.0</td>\n",
       "      <td>900</td>\n",
       "      <td>0.546111</td>\n",
       "    </tr>\n",
       "    <tr>\n",
       "      <th>1</th>\n",
       "      <td>Ben Lomond</td>\n",
       "      <td>8.0</td>\n",
       "      <td>3070</td>\n",
       "      <td>62.267</td>\n",
       "      <td>9.0</td>\n",
       "      <td>3192</td>\n",
       "      <td>1.037778</td>\n",
       "    </tr>\n",
       "    <tr>\n",
       "      <th>2</th>\n",
       "      <td>Goatfell</td>\n",
       "      <td>8.0</td>\n",
       "      <td>2866</td>\n",
       "      <td>73.217</td>\n",
       "      <td>8.0</td>\n",
       "      <td>2866</td>\n",
       "      <td>1.227778</td>\n",
       "    </tr>\n",
       "  </tbody>\n",
       "</table>\n",
       "</div>"
      ],
      "text/plain": [
       "     Unnamed: 0  dist_x  climb_x  time_x  dist_y  climb_y    time_y\n",
       "0  Craig Dunain     6.0      900  33.650     6.0      900  0.546111\n",
       "1    Ben Lomond     8.0     3070  62.267     9.0     3192  1.037778\n",
       "2      Goatfell     8.0     2866  73.217     8.0     2866  1.227778"
      ]
     },
     "execution_count": 29,
     "metadata": {},
     "output_type": "execute_result"
    }
   ],
   "source": [
    "df = df.drop('timef', axis=1)\n",
    "df.head(3)"
   ]
  },
  {
   "cell_type": "code",
   "execution_count": 30,
   "metadata": {},
   "outputs": [
    {
     "data": {
      "text/plain": [
       "Unnamed: 0     object\n",
       "dist_x        float64\n",
       "climb_x         int64\n",
       "time_x        float64\n",
       "dist_y        float64\n",
       "climb_y         int64\n",
       "time_y        float64\n",
       "dtype: object"
      ]
     },
     "execution_count": 30,
     "metadata": {},
     "output_type": "execute_result"
    }
   ],
   "source": [
    "df.dtypes"
   ]
  },
  {
   "cell_type": "code",
   "execution_count": 31,
   "metadata": {},
   "outputs": [],
   "source": [
    "df['dist'] = df.loc[:, ['dist_x', 'dist_y']].mean(skipna=True, axis=1)\n",
    "df['climb'] = df.loc[:, ['climb_x', 'climb_y']].mean(skipna=True, axis=1)\n",
    "df['time'] = df.loc[:, ['time_x', 'time_y']].mean(skipna=True, axis=1)\n",
    "df = df.drop(['dist_x', 'dist_y', 'climb_x', 'climb_y', 'time_x', 'time_y'], axis=1)\n",
    "df.columns = ['name', 'dist', 'climb', 'time']"
   ]
  },
  {
   "cell_type": "code",
   "execution_count": 32,
   "metadata": {},
   "outputs": [
    {
     "data": {
      "text/html": [
       "<div>\n",
       "<style>\n",
       "    .dataframe thead tr:only-child th {\n",
       "        text-align: right;\n",
       "    }\n",
       "\n",
       "    .dataframe thead th {\n",
       "        text-align: left;\n",
       "    }\n",
       "\n",
       "    .dataframe tbody tr th {\n",
       "        vertical-align: top;\n",
       "    }\n",
       "</style>\n",
       "<table border=\"1\" class=\"dataframe\">\n",
       "  <thead>\n",
       "    <tr style=\"text-align: right;\">\n",
       "      <th></th>\n",
       "      <th>name</th>\n",
       "      <th>dist</th>\n",
       "      <th>climb</th>\n",
       "      <th>time</th>\n",
       "    </tr>\n",
       "  </thead>\n",
       "  <tbody>\n",
       "    <tr>\n",
       "      <th>0</th>\n",
       "      <td>Craig Dunain</td>\n",
       "      <td>6.0</td>\n",
       "      <td>900.0</td>\n",
       "      <td>17.098056</td>\n",
       "    </tr>\n",
       "    <tr>\n",
       "      <th>1</th>\n",
       "      <td>Ben Lomond</td>\n",
       "      <td>8.5</td>\n",
       "      <td>3131.0</td>\n",
       "      <td>31.652389</td>\n",
       "    </tr>\n",
       "    <tr>\n",
       "      <th>2</th>\n",
       "      <td>Goatfell</td>\n",
       "      <td>8.0</td>\n",
       "      <td>2866.0</td>\n",
       "      <td>37.222389</td>\n",
       "    </tr>\n",
       "  </tbody>\n",
       "</table>\n",
       "</div>"
      ],
      "text/plain": [
       "           name  dist   climb       time\n",
       "0  Craig Dunain   6.0   900.0  17.098056\n",
       "1    Ben Lomond   8.5  3131.0  31.652389\n",
       "2      Goatfell   8.0  2866.0  37.222389"
      ]
     },
     "execution_count": 32,
     "metadata": {},
     "output_type": "execute_result"
    }
   ],
   "source": [
    "df.head(3)"
   ]
  },
  {
   "cell_type": "code",
   "execution_count": null,
   "metadata": {
    "collapsed": true
   },
   "outputs": [],
   "source": []
  }
 ],
 "metadata": {
  "kernelspec": {
   "display_name": "Python 3",
   "language": "python",
   "name": "python3"
  },
  "language_info": {
   "codemirror_mode": {
    "name": "ipython",
    "version": 3
   },
   "file_extension": ".py",
   "mimetype": "text/x-python",
   "name": "python",
   "nbconvert_exporter": "python",
   "pygments_lexer": "ipython3",
   "version": "3.5.4"
  }
 },
 "nbformat": 4,
 "nbformat_minor": 2
}
